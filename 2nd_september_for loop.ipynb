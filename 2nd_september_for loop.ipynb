{
 "cells": [
  {
   "cell_type": "markdown",
   "id": "0a9ab30b-030a-48e6-a925-e981a221e0ab",
   "metadata": {},
   "source": [
    "### 1. Write a Python program to print the numbers from 1 to 10 using a `for` loop."
   ]
  },
  {
   "cell_type": "code",
   "execution_count": 1,
   "id": "94bf4db7-8077-4b19-a3f0-44f4c717de16",
   "metadata": {},
   "outputs": [
    {
     "name": "stdout",
     "output_type": "stream",
     "text": [
      "1\n",
      "2\n",
      "3\n",
      "4\n",
      "5\n",
      "6\n",
      "7\n",
      "8\n",
      "9\n",
      "10\n"
     ]
    }
   ],
   "source": [
    "for i in range(1,11):\n",
    "    print(i)"
   ]
  },
  {
   "cell_type": "markdown",
   "id": "90b0a7b5-fdc0-49b5-bb79-d99c6040d374",
   "metadata": {},
   "source": [
    "2. Create a program that calculates the sum of all numbers in a list using a `for` loop."
   ]
  },
  {
   "cell_type": "code",
   "execution_count": 4,
   "id": "3131baa4-d62a-4bbe-9e2d-82fcf6060059",
   "metadata": {},
   "outputs": [
    {
     "name": "stdout",
     "output_type": "stream",
     "text": [
      "sum of list a is 55\n"
     ]
    }
   ],
   "source": [
    "a=[2,31,4,5,6,7]\n",
    "x=0\n",
    "for i in range(len(a)):\n",
    "    x=x+a[i]\n",
    "print(f'sum of list a is {x}')\n"
   ]
  },
  {
   "cell_type": "markdown",
   "id": "cb619844-29c6-47a7-91e9-dd47d910bbe1",
   "metadata": {},
   "source": [
    "3. Write a program to print the characters of a string in reverse order using a `for` loop."
   ]
  },
  {
   "cell_type": "code",
   "execution_count": 18,
   "id": "2a87adc8-57b5-4d76-80c9-9d3685a9ae7c",
   "metadata": {},
   "outputs": [
    {
     "name": "stdin",
     "output_type": "stream",
     "text": [
      "Enter the string:  my name is pujan\n"
     ]
    },
    {
     "name": "stdout",
     "output_type": "stream",
     "text": [
      "najup si eman ym\n"
     ]
    }
   ],
   "source": [
    "s=str(input(\"Enter the string: \"))\n",
    "z=\"\"\n",
    "for i in range(0,len(s)):\n",
    "    z=z+s[len(s)-i-1]\n",
    "print(z)"
   ]
  },
  {
   "cell_type": "markdown",
   "id": "5f6a9033-f8fc-4b79-9371-bb4907a20b14",
   "metadata": {},
   "source": [
    "4. Develop a program that finds the factorial of a given number using a `for` loop."
   ]
  },
  {
   "cell_type": "code",
   "execution_count": 23,
   "id": "f7918497-3f98-423b-ad44-d600a322481c",
   "metadata": {},
   "outputs": [
    {
     "name": "stdin",
     "output_type": "stream",
     "text": [
      "Enter number  5\n"
     ]
    },
    {
     "name": "stdout",
     "output_type": "stream",
     "text": [
      "factorial of  5  is  120\n"
     ]
    }
   ],
   "source": [
    "a=int(input(\"Enter number \"))\n",
    "fac = 1\n",
    "for i in range(1, a + 1):\n",
    "    fac = fac * i\n",
    "print(\"factorial of \", a, \" is \", fac)\n",
    "    "
   ]
  },
  {
   "cell_type": "markdown",
   "id": "9cddf131-db25-4ac1-afc0-f6ad05398a26",
   "metadata": {},
   "source": [
    "5. Create a program to print the multiplication table of a given number using a `for` loop."
   ]
  },
  {
   "cell_type": "code",
   "execution_count": 24,
   "id": "bc890f9f-bf0b-4d93-a47a-d00835da1981",
   "metadata": {},
   "outputs": [
    {
     "name": "stdin",
     "output_type": "stream",
     "text": [
      "Enter number  5\n"
     ]
    },
    {
     "name": "stdout",
     "output_type": "stream",
     "text": [
      "5 * 1 = 5\n",
      "5 * 2 = 10\n",
      "5 * 3 = 15\n",
      "5 * 4 = 20\n",
      "5 * 5 = 25\n",
      "5 * 6 = 30\n",
      "5 * 7 = 35\n",
      "5 * 8 = 40\n",
      "5 * 9 = 45\n",
      "5 * 10 = 50\n"
     ]
    }
   ],
   "source": [
    "a=int(input(\"Enter number \"))\n",
    "for i in range(1,11):\n",
    "    print(f\"{a} * {i} = {a*i}\")"
   ]
  },
  {
   "cell_type": "markdown",
   "id": "73ea2172-d30f-44b0-90ad-659eb1798e4d",
   "metadata": {},
   "source": [
    "6. Write a program that counts the number of even and odd numbers in a list using a `for` loop."
   ]
  },
  {
   "cell_type": "code",
   "execution_count": 25,
   "id": "4d5dcb71-6f8e-4dae-b40f-04f05fda0b45",
   "metadata": {},
   "outputs": [
    {
     "name": "stdout",
     "output_type": "stream",
     "text": [
      "count of even and odd numbers are 3 and 4\n"
     ]
    }
   ],
   "source": [
    "l=[1,2,3,4,5,6,7]\n",
    "ev=0\n",
    "od=0\n",
    "for i in range(len(l)):\n",
    "    if l[i]%2==0:\n",
    "        ev=ev+1\n",
    "    else:\n",
    "        od=od+1\n",
    "print(f\"count of even and odd numbers are {ev} and {od}\")"
   ]
  },
  {
   "cell_type": "markdown",
   "id": "c9336545-ff52-4a31-a2d0-a9f164340db8",
   "metadata": {},
   "source": [
    "7. Develop a program that prints the squares of numbers from 1 to 5 using a `for` loop."
   ]
  },
  {
   "cell_type": "code",
   "execution_count": 32,
   "id": "d892858d-9291-4fe3-b299-1249b6a56295",
   "metadata": {},
   "outputs": [
    {
     "name": "stdout",
     "output_type": "stream",
     "text": [
      "[1, 4, 9, 16, 25]\n"
     ]
    }
   ],
   "source": [
    "a=[1,2,3,4,5]\n",
    "x=[]\n",
    "for i in range(len(a)):\n",
    "    x.append(a[i]*a[i])\n",
    "print(x)"
   ]
  },
  {
   "cell_type": "markdown",
   "id": "aaa9ec03-d672-408c-951b-69bfb12966f4",
   "metadata": {},
   "source": [
    "8. Create a program to find the length of a string without using the `len()` function."
   ]
  },
  {
   "cell_type": "code",
   "execution_count": 34,
   "id": "61cdd321-5471-47c5-851d-dcc9214f30b2",
   "metadata": {},
   "outputs": [
    {
     "name": "stdout",
     "output_type": "stream",
     "text": [
      "8\n"
     ]
    }
   ],
   "source": [
    "a=[1,2,3,4,5,6,7,8]\n",
    "x=0\n",
    "for i in a:\n",
    "    x=x+1\n",
    "print(x)"
   ]
  },
  {
   "cell_type": "markdown",
   "id": "1a1ce266-4de8-42d6-9918-00e50f10629e",
   "metadata": {},
   "source": [
    "9. Write a program that calculates the average of a list of numbers using a `for` loop."
   ]
  },
  {
   "cell_type": "code",
   "execution_count": 35,
   "id": "657571f3-2ea1-44df-a140-b7c42c7b575e",
   "metadata": {},
   "outputs": [
    {
     "name": "stdout",
     "output_type": "stream",
     "text": [
      "4.5\n"
     ]
    }
   ],
   "source": [
    "a=[1,2,3,4,5,6,7,8]\n",
    "avg=0\n",
    "for i in range(len(a)):\n",
    "    avg=avg+a[i]\n",
    "print(avg/len(a))"
   ]
  },
  {
   "cell_type": "markdown",
   "id": "b4f8a02f-dd93-4fd7-b2bf-7e7b7dac85f9",
   "metadata": {},
   "source": [
    "10. Develop a program that prints the first `n` Fibonacci numbers using a `for` loop."
   ]
  },
  {
   "cell_type": "code",
   "execution_count": 36,
   "id": "5e7ec753-0c8f-4d48-af30-3353e799640e",
   "metadata": {},
   "outputs": [
    {
     "name": "stdout",
     "output_type": "stream",
     "text": [
      "0\n",
      "1\n",
      "1\n",
      "2\n",
      "3\n",
      "5\n",
      "8\n",
      "13\n",
      "21\n",
      "34\n"
     ]
    }
   ],
   "source": [
    "first = 0\n",
    "second = 1\n",
    "print(first)\n",
    "print(second)\n",
    "for x in range(1,9):\n",
    "    third = first + second\n",
    "    print(third)\n",
    "    first,second=second,third"
   ]
  },
  {
   "cell_type": "markdown",
   "id": "d0d30987-9bb6-4a3d-9f62-c0175647b813",
   "metadata": {},
   "source": [
    "11. Write a program to check if a given list contains any duplicates using a `for` loop."
   ]
  },
  {
   "cell_type": "code",
   "execution_count": 46,
   "id": "69b46b5b-3737-4816-9d49-c5e000821939",
   "metadata": {},
   "outputs": [
    {
     "name": "stdout",
     "output_type": "stream",
     "text": [
      "{1, 2, 3, 4, 5, 6}\n"
     ]
    }
   ],
   "source": [
    "l=[1,2,2,3,4,5,5,5,5,6]\n",
    "s=set()\n",
    "for i in range(len(l)):\n",
    "    s.add(l[i])\n",
    "print(s)"
   ]
  },
  {
   "cell_type": "markdown",
   "id": "1325a2b1-8782-40f4-98aa-bb4778467e30",
   "metadata": {},
   "source": [
    "12. Create a program that prints the prime numbers in a given range using a `for` loop."
   ]
  },
  {
   "cell_type": "code",
   "execution_count": 48,
   "id": "3e0812be-bd4c-43ce-b210-82970143880e",
   "metadata": {},
   "outputs": [
    {
     "name": "stdout",
     "output_type": "stream",
     "text": [
      "Prime numbers between 1 and 20 are:\n",
      "2\n",
      "3\n",
      "5\n",
      "7\n",
      "11\n",
      "13\n",
      "17\n",
      "19\n"
     ]
    }
   ],
   "source": [
    "lower = 1\n",
    "upper = 20\n",
    "\n",
    "print(\"Prime numbers between\", lower, \"and\", upper, \"are:\")\n",
    "\n",
    "for num in range(lower, upper + 1):\n",
    "   # all prime numbers are greater than 1\n",
    "   if num > 1:\n",
    "       for i in range(2, num):\n",
    "           if (num % i) == 0:\n",
    "               break\n",
    "       else:\n",
    "           print(num)"
   ]
  },
  {
   "cell_type": "markdown",
   "id": "02fb3405-73dc-489c-8d52-2ce75e709d07",
   "metadata": {},
   "source": [
    "13. Develop a program that counts the number of vowels in a string using a `for` loop."
   ]
  },
  {
   "cell_type": "code",
   "execution_count": 55,
   "id": "3db400e5-b063-4cfc-a3eb-a5188f7ddd55",
   "metadata": {},
   "outputs": [
    {
     "name": "stdin",
     "output_type": "stream",
     "text": [
      "Enter the string pujan\n"
     ]
    },
    {
     "name": "stdout",
     "output_type": "stream",
     "text": [
      "No. of vowels : 2\n"
     ]
    }
   ],
   "source": [
    "s=str(input(\"Enter the string\"))\n",
    "count = 0\n",
    "     \n",
    "    # Creating a set of vowels\n",
    "vowel = set(\"aeiouAEIOU\") \n",
    "    # Loop to traverse the alphabet\n",
    "    # in the given string\n",
    "for alphabet in s:  # If alphabet is present  # in set vowel\n",
    "    if alphabet in vowel:\n",
    "        count = count + 1\n",
    "     \n",
    "print(\"No. of vowels :\", count)"
   ]
  },
  {
   "cell_type": "markdown",
   "id": "c5ff8d2c-8f15-4249-abdb-ed817fb6ab4d",
   "metadata": {},
   "source": [
    "14. Write a program to find the maximum element in a 2D list using a nested `for` loop."
   ]
  },
  {
   "cell_type": "code",
   "execution_count": 56,
   "id": "e8c47072-7afd-4dc4-9311-3d4d44680df3",
   "metadata": {},
   "outputs": [
    {
     "name": "stdout",
     "output_type": "stream",
     "text": [
      "504\n"
     ]
    }
   ],
   "source": [
    "\n",
    "lis = [[1, 2, 3], [4, 5, 6], [7, 8, 9]]\n",
    "maxi = 0   \n",
    "    # traversal in the lists\n",
    "for x in lis:\n",
    "       \n",
    "    p = 1\n",
    "         \n",
    "        # traversal in list of lists\n",
    "    for i in x:\n",
    "        p *= i\n",
    "        maxi = max(p, maxi)\n",
    "print(maxi)"
   ]
  },
  {
   "cell_type": "markdown",
   "id": "9e7558e4-ad3e-40cc-aae8-c437a9532c51",
   "metadata": {},
   "source": [
    "16. Develop a program that generates a multiplication table for numbers from 1 to 5 using a nested `for` loop."
   ]
  },
  {
   "cell_type": "code",
   "execution_count": 57,
   "id": "5c3849dd-7e2f-4610-bdc7-233f41697e74",
   "metadata": {},
   "outputs": [
    {
     "name": "stdout",
     "output_type": "stream",
     "text": [
      "1 * 1 = 1\n",
      "1 * 2 = 2\n",
      "2 * 2 = 4\n",
      "1 * 3 = 3\n",
      "2 * 3 = 6\n",
      "3 * 3 = 9\n",
      "1 * 4 = 4\n",
      "2 * 4 = 8\n",
      "3 * 4 = 12\n",
      "4 * 4 = 16\n",
      "1 * 5 = 5\n",
      "2 * 5 = 10\n",
      "3 * 5 = 15\n",
      "4 * 5 = 20\n",
      "5 * 5 = 25\n"
     ]
    }
   ],
   "source": [
    "for i in range(1, 6):\n",
    "    for j in range(1, i+1):\n",
    "        print(j, \"*\", i, \"=\", j*i)"
   ]
  },
  {
   "cell_type": "markdown",
   "id": "968ef169-3601-488d-ad63-478bcb42ac75",
   "metadata": {},
   "source": [
    "17. Write a program that converts a list of Fahrenheit temperatures to Celsius using a `for` loop."
   ]
  },
  {
   "cell_type": "code",
   "execution_count": 59,
   "id": "d9186703-c1b8-4b2f-8815-25efd34e0172",
   "metadata": {},
   "outputs": [
    {
     "name": "stdout",
     "output_type": "stream",
     "text": [
      "[-4.722222222222222, 2001.9611111111112, 224.16666666666666, 413.6111111111111]\n"
     ]
    }
   ],
   "source": [
    "l=[23.5,3635.53,435.5,776.5]\n",
    "c=[]\n",
    "for i in range(len(l)):\n",
    "    c.append(((l[i]-32)*5)/9)\n",
    "print(c)"
   ]
  },
  {
   "cell_type": "markdown",
   "id": "65cbd2d2-db80-43c3-8477-3fb50fccd4d7",
   "metadata": {},
   "source": [
    "18. Create a program to print the common elements from two lists using a `for` loop."
   ]
  },
  {
   "cell_type": "code",
   "execution_count": 67,
   "id": "ba3f95ec-4a15-4dec-92b0-92d0e2f27bb0",
   "metadata": {},
   "outputs": [
    {
     "name": "stdout",
     "output_type": "stream",
     "text": [
      "[2, 3, 4, 5, 5, 6, 9]\n"
     ]
    }
   ],
   "source": [
    "l1=[1,2,3,4,5,5,6,9]\n",
    "l2=[2,3,4,5,6,8,9]\n",
    "p=[]\n",
    "for i in range(len(l1)):\n",
    "    for j in range(len(l2)):\n",
    "        if(l1[i]==l2[j]):\n",
    "            p.append(l1[i])\n",
    "print(p)"
   ]
  },
  {
   "cell_type": "markdown",
   "id": "9e720329-1620-4b06-b876-f5fce8c429a7",
   "metadata": {},
   "source": [
    "19. Develop a program that prints the pattern of right-angled triangles using a `for` loop. Use ‘*’ to draw the\n",
    "pattern"
   ]
  },
  {
   "cell_type": "code",
   "execution_count": 77,
   "id": "759f2571-4ad6-4370-a945-b8365c587729",
   "metadata": {},
   "outputs": [
    {
     "name": "stdout",
     "output_type": "stream",
     "text": [
      "* \n",
      "* * \n",
      "* * * \n",
      "* * * * \n",
      "* * * * * \n"
     ]
    }
   ],
   "source": [
    "for i in range(5):\n",
    "    for j in range(i+1):\n",
    "        print(\"*\",end=' ')\n",
    "    print()"
   ]
  },
  {
   "cell_type": "markdown",
   "id": "de8052f7-867a-4cd9-8bc4-efa155b32b1a",
   "metadata": {},
   "source": [
    "20. Write a program to find the greatest common divisor (GCD) of two numbers using a `for` loop."
   ]
  },
  {
   "cell_type": "code",
   "execution_count": 78,
   "id": "48ea6c9b-4b7a-4eb3-9c05-e137c981f96f",
   "metadata": {},
   "outputs": [
    {
     "name": "stdout",
     "output_type": "stream",
     "text": [
      "3\n"
     ]
    }
   ],
   "source": [
    "a=12\n",
    "b=15\n",
    "while b != 0:\n",
    "        temp = b\n",
    "        b = a % b\n",
    "        a = temp\n",
    "print(a)"
   ]
  },
  {
   "cell_type": "markdown",
   "id": "3ea917c9-13a1-4577-b007-d5189036816c",
   "metadata": {},
   "source": [
    "21. Create a program that calculates the sum of the digits of numbers in a list using a list comprehension."
   ]
  },
  {
   "cell_type": "code",
   "execution_count": 82,
   "id": "a1011875-5abd-4acc-8922-67e649674fe5",
   "metadata": {},
   "outputs": [
    {
     "name": "stdout",
     "output_type": "stream",
     "text": [
      "Sum of all elements in given list:  74\n"
     ]
    }
   ],
   "source": [
    "total = 0\n",
    " \n",
    "# creating a list\n",
    "list1 = [11, 5, 17, 18, 23]\n",
    " \n",
    "# Iterate each element in list\n",
    "# and add them in variable total\n",
    "for ele in range(0, len(list1)):\n",
    "    total = total + list1[ele]\n",
    " \n",
    "# printing total value\n",
    "print(\"Sum of all elements in given list: \", total)"
   ]
  },
  {
   "cell_type": "markdown",
   "id": "3629b345-744b-43bd-87f4-f7ff5716188b",
   "metadata": {},
   "source": [
    "22. Write a program to find the prime factors of a given number using a `for` loop and list comprehension."
   ]
  },
  {
   "cell_type": "code",
   "execution_count": 83,
   "id": "ececfc08-f5c0-4031-a014-27012b5b383b",
   "metadata": {},
   "outputs": [
    {
     "name": "stdout",
     "output_type": "stream",
     "text": [
      "3\n",
      "3\n",
      "5\n",
      "7\n"
     ]
    }
   ],
   "source": [
    "# Python program to print prime factors\n",
    "\n",
    "import math\n",
    "\n",
    "# A function to print all prime factors of\n",
    "# a given number n\n",
    "def primeFactors(n):\n",
    "\t\n",
    "\t# Print the number of two's that divide n\n",
    "\twhile n % 2 == 0:\n",
    "\t\tprint(2)\n",
    "\t\tn = n // 2\n",
    "\t\t\n",
    "\t# n must be odd at this point\n",
    "\t# so a skip of 2 ( i = i + 2) can be used\n",
    "\tfor i in range(3,int(math.sqrt(n))+1,2):\n",
    "\t\t\n",
    "\t\t# while i divides n , print i ad divide n\n",
    "\t\twhile n % i== 0:\n",
    "\t\t\tprint(i)\n",
    "\t\t\tn = n // i\n",
    "\t\t\t\n",
    "\t# Condition if n is a prime\n",
    "\t# number greater than 2\n",
    "\tif n > 2:\n",
    "\t\tprint(n)\n",
    "\t\t\n",
    "# Driver Program to test above function\n",
    "\n",
    "n = 315\n",
    "primeFactors(n)\n",
    "\n",
    "# This code is contributed by Harshit Agrawal\n",
    "#Code Improved by Sarthak Shrivastava\n"
   ]
  },
  {
   "cell_type": "markdown",
   "id": "ed7091cd-f674-4036-8ccb-22ef04b11843",
   "metadata": {},
   "source": [
    "23. Develop a program that extracts unique elements from a list and stores them in a new list using a list\n",
    "comprehension."
   ]
  },
  {
   "cell_type": "code",
   "execution_count": 3,
   "id": "9d713e9e-f79e-4ef3-87fb-73019bcf0e33",
   "metadata": {},
   "outputs": [
    {
     "name": "stdout",
     "output_type": "stream",
     "text": [
      "the unique values from 1st list is\n",
      "10\n",
      "20\n",
      "30\n",
      "40\n",
      "\n",
      "the unique values from 2nd list is\n",
      "1\n",
      "2\n",
      "3\n",
      "4\n",
      "5\n"
     ]
    }
   ],
   "source": [
    "# function to get unique values\n",
    "def unique(list1):\n",
    "\n",
    "\t# initialize a null list\n",
    "\tunique_list = []\n",
    "\n",
    "\t# traverse for all elements\n",
    "\tfor x in list1:\n",
    "\t\t# check if exists in unique_list or not\n",
    "\t\tif x not in unique_list:\n",
    "\t\t\tunique_list.append(x)\n",
    "\t# print list\n",
    "\tfor x in unique_list:\n",
    "\t\tprint(x)\n",
    "\n",
    "\n",
    "# driver code\n",
    "list1 = [10, 20, 10, 30, 40, 40]\n",
    "print(\"the unique values from 1st list is\")\n",
    "unique(list1)\n",
    "\n",
    "\n",
    "list2 = [1, 2, 1, 1, 3, 4, 3, 3, 5]\n",
    "print(\"\\nthe unique values from 2nd list is\")\n",
    "unique(list2)\n"
   ]
  },
  {
   "cell_type": "markdown",
   "id": "475806c2-87fb-4e37-af15-48497fa7f1ff",
   "metadata": {},
   "source": [
    "24. Create a program that generates a list of all palindromic numbers up to a specified limit using a list\n",
    "comprehension."
   ]
  },
  {
   "cell_type": "code",
   "execution_count": 4,
   "id": "1bd86bb0-b936-47e7-b3a1-fd85791a2731",
   "metadata": {},
   "outputs": [
    {
     "name": "stdout",
     "output_type": "stream",
     "text": [
      "Palindromic Numbers up to 1000: [1, 2, 3, 4, 5, 6, 7, 8, 9, 11, 22, 33, 44, 55, 66, 77, 88, 99, 101, 111, 121, 131, 141, 151, 161, 171, 181, 191, 202, 212, 222, 232, 242, 252, 262, 272, 282, 292, 303, 313, 323, 333, 343, 353, 363, 373, 383, 393, 404, 414, 424, 434, 444, 454, 464, 474, 484, 494, 505, 515, 525, 535, 545, 555, 565, 575, 585, 595, 606, 616, 626, 636, 646, 656, 666, 676, 686, 696, 707, 717, 727, 737, 747, 757, 767, 777, 787, 797, 808, 818, 828, 838, 848, 858, 868, 878, 888, 898, 909, 919, 929, 939, 949, 959, 969, 979, 989, 999]\n"
     ]
    }
   ],
   "source": [
    "# Function to check if a number is a palindrome\n",
    "def is_palindrome(number):\n",
    "    return str(number) == str(number)[::-1]\n",
    "\n",
    "# Specify the upper limit\n",
    "limit = 1000  # You can change this to any desired limit\n",
    "\n",
    "# Generate a list of palindromic numbers using list comprehension\n",
    "palindromic_numbers = [num for num in range(1, limit + 1) if is_palindrome(num)]\n",
    "\n",
    "# Print the list of palindromic numbers\n",
    "print(\"Palindromic Numbers up to {}: {}\".format(limit, palindromic_numbers))\n"
   ]
  },
  {
   "cell_type": "markdown",
   "id": "faf1b5f1-61de-43e6-85b6-0be931ac6c76",
   "metadata": {},
   "source": [
    "25. Write a program to flatten a nested list using list comprehension."
   ]
  },
  {
   "cell_type": "code",
   "execution_count": 5,
   "id": "ce6f7b4a-c582-40b7-9ae4-2d455b8616b7",
   "metadata": {},
   "outputs": [
    {
     "name": "stdout",
     "output_type": "stream",
     "text": [
      "1\n",
      "2\n",
      "3\n",
      "4\n",
      "5\n",
      "6\n",
      "7\n",
      "1\n",
      "2\n",
      "3\n"
     ]
    }
   ],
   "source": [
    "l=[[1,2,3,4],[5,6,7],[1,2,3]]\n",
    "for i in l:\n",
    "    for x in i:\n",
    "        print(x)"
   ]
  },
  {
   "cell_type": "markdown",
   "id": "83bbc00d-2131-48ab-9a0e-3540cc94b32b",
   "metadata": {},
   "source": [
    "26. Develop a program that computes the sum of even and odd numbers in a list separately using list\n",
    "comprehension."
   ]
  },
  {
   "cell_type": "code",
   "execution_count": 7,
   "id": "f7c7dddf-4b9b-4ba6-b547-6c7b9123ff16",
   "metadata": {},
   "outputs": [
    {
     "name": "stdout",
     "output_type": "stream",
     "text": [
      "sum of even odd numbers are 30 and 25\n"
     ]
    }
   ],
   "source": [
    "l=[1,2,3,4,5,6,7,8,9,10]\n",
    "evs=0\n",
    "ods=0\n",
    "for i in range(len(l)):\n",
    "    if l[i]%2==0:\n",
    "        evs=evs+l[i]\n",
    "    else:\n",
    "        ods=ods+l[i]\n",
    "print(f\"sum of even odd numbers are {evs} and {ods}\")"
   ]
  },
  {
   "cell_type": "markdown",
   "id": "636d3b55-4e39-4f99-84c0-13166cc7e4c1",
   "metadata": {},
   "source": [
    "27. Create a program that generates a list of squares of odd numbers between 1 and 10 using list\n",
    "comprehension."
   ]
  },
  {
   "cell_type": "code",
   "execution_count": 8,
   "id": "be97b360-b9d6-4a0f-afd7-69919bd2cc6c",
   "metadata": {},
   "outputs": [
    {
     "name": "stdout",
     "output_type": "stream",
     "text": [
      "[1, 9, 25, 49, 81]\n"
     ]
    }
   ],
   "source": [
    "l=[1,2,3,4,5,6,7,8,9,10]\n",
    "x=[]\n",
    "for i in range(len(l)):\n",
    "    if l[i]%2!=0:\n",
    "        x.append(l[i]*l[i])\n",
    "print(x)\n"
   ]
  },
  {
   "cell_type": "markdown",
   "id": "13cca9b7-f186-44d0-8aa7-ad9457c2d25b",
   "metadata": {},
   "source": [
    "28. Write a program that combines two lists into a dictionary using list comprehension."
   ]
  },
  {
   "cell_type": "code",
   "execution_count": 9,
   "id": "cb11f8ba-6976-47c1-8d1e-695516ce3ad0",
   "metadata": {},
   "outputs": [
    {
     "name": "stdout",
     "output_type": "stream",
     "text": [
      "{1: 4, 2: 5, 3: 6}\n"
     ]
    }
   ],
   "source": [
    "my_list1 = [1, 2, 3]\n",
    "my_list2 = [4, 5, 6]\n",
    "my_dict = {item: i for item, i in zip(my_list1, my_list2)}\n",
    "print(my_dict)"
   ]
  },
  {
   "cell_type": "code",
   "execution_count": 10,
   "id": "e4de55e4-0c36-479f-8255-1545f216328a",
   "metadata": {},
   "outputs": [
    {
     "name": "stdout",
     "output_type": "stream",
     "text": [
      "['hi', 'hi', 'hi', 'hi', 'hi', 'hi', 'hi']\n"
     ]
    }
   ],
   "source": [
    "s1=\"hi@hi@hi@hi@hi@hi@hi\"\n",
    "print(s1.split('@',len(s1)))"
   ]
  },
  {
   "cell_type": "markdown",
   "id": "465ed219-5f5c-438a-a7f3-d61539527d14",
   "metadata": {},
   "source": [
    "29. Develop a program that extracts the vowels from a string and stores them in a list using list comprehension."
   ]
  },
  {
   "cell_type": "code",
   "execution_count": 14,
   "id": "47e4eac7-cc13-426f-8e7f-7f4f094eb552",
   "metadata": {},
   "outputs": [
    {
     "name": "stdin",
     "output_type": "stream",
     "text": [
      "Enter the string my name is pujan patel\n"
     ]
    },
    {
     "name": "stdout",
     "output_type": "stream",
     "text": [
      "['a', 'e', 'i', 'u', 'a', 'a', 'e']\n"
     ]
    }
   ],
   "source": [
    "l=str(input(\"Enter the string\"))\n",
    "x=[]\n",
    "v=set(\"aeiouAEIOU\")\n",
    "for i in l:\n",
    "    if i in v:\n",
    "        x.append(i)\n",
    "print(x)"
   ]
  },
  {
   "cell_type": "markdown",
   "id": "8b7a06c3-d81b-427f-8109-34b58430ac00",
   "metadata": {},
   "source": [
    "30. Create a program that removes all non-numeric characters from a list of strings using list comprehension."
   ]
  },
  {
   "cell_type": "code",
   "execution_count": 22,
   "id": "bc7fee5d-3536-44b4-8803-afedd4651b09",
   "metadata": {},
   "outputs": [
    {
     "name": "stdout",
     "output_type": "stream",
     "text": [
      "['123', '456', '7', '8']\n"
     ]
    }
   ],
   "source": [
    "strings = [\"abc123\", \"456def\", \"7ghi\", \"jkl8mno\"]\n",
    "\n",
    "# Remove non-numeric characters using list comprehension\n",
    "numeric_strings = [''.join(char for char in s if char.isdigit()) for s in strings]\n",
    "\n",
    "# Print the resulting list\n",
    "print(numeric_strings)"
   ]
  },
  {
   "cell_type": "markdown",
   "id": "1536fe26-3dca-4662-9574-654a513be398",
   "metadata": {},
   "source": [
    "31. Write a program to generate a list of prime numbers using the Sieve of Eratosthenes algorithm and list\n",
    "comprehension."
   ]
  },
  {
   "cell_type": "code",
   "execution_count": 23,
   "id": "6c15b4c5-860a-4916-a7e9-2dd50c58cc0c",
   "metadata": {},
   "outputs": [
    {
     "name": "stdout",
     "output_type": "stream",
     "text": [
      "Prime numbers up to 100: [2, 3, 5, 7, 11, 13, 17, 19, 23, 29, 31, 37, 41, 43, 47, 53, 59, 61, 67, 71, 73, 79, 83, 89, 97]\n"
     ]
    }
   ],
   "source": [
    "def sieve_of_eratosthenes(limit):\n",
    "    # Create a list of boolean values to track prime candidates\n",
    "    is_prime = [True] * (limit + 1)\n",
    "    \n",
    "    # 0 and 1 are not prime\n",
    "    is_prime[0] = is_prime[1] = False\n",
    "    \n",
    "    # Apply the Sieve of Eratosthenes algorithm\n",
    "    for num in range(2, int(limit**0.5) + 1):\n",
    "        if is_prime[num]:\n",
    "            for multiple in range(num * num, limit + 1, num):\n",
    "                is_prime[multiple] = False\n",
    "    \n",
    "    # Use a list comprehension to extract prime numbers\n",
    "    primes = [num for num in range(2, limit + 1) if is_prime[num]]\n",
    "    \n",
    "    return primes\n",
    "\n",
    "# Specify the upper limit for prime number generation\n",
    "limit = 100  # You can change this to any desired limit\n",
    "\n",
    "# Generate a list of prime numbers up to the specified limit\n",
    "prime_list = sieve_of_eratosthenes(limit)\n",
    "\n",
    "# Print the list of prime numbers\n",
    "print(\"Prime numbers up to {}: {}\".format(limit, prime_list))\n"
   ]
  },
  {
   "cell_type": "markdown",
   "id": "efc01eda-af3c-4dca-9cab-73e46d7714c6",
   "metadata": {},
   "source": [
    "32. Create a program that generates a list of all Pythagorean triplets up to a specified limit using list\n",
    "comprehension."
   ]
  },
  {
   "cell_type": "code",
   "execution_count": 31,
   "id": "44093aec-5794-4334-b642-740ddf932c10",
   "metadata": {},
   "outputs": [
    {
     "name": "stdout",
     "output_type": "stream",
     "text": [
      "Pythagorean Triplets up to 20: [(3, 4, 5), (6, 8, 10), (5, 12, 13), (9, 12, 15), (8, 15, 17), (12, 16, 20)]\n"
     ]
    }
   ],
   "source": [
    "# Specify the upper limit for the triplets\n",
    "limit = 20  # You can change this to any desired limit\n",
    "\n",
    "# Generate Pythagorean triplets using a list comprehension\n",
    "pythagorean_triplets = [(a, b, c) for c in range(1, limit + 1)\n",
    "                         for b in range(1, c)\n",
    "                         for a in range(1, b)\n",
    "                         if a**2 + b**2 == c**2]\n",
    "\n",
    "# Print the list of Pythagorean triplets\n",
    "print(\"Pythagorean Triplets up to {}: {}\".format(limit, pythagorean_triplets))\n"
   ]
  },
  {
   "cell_type": "markdown",
   "id": "7baf00e9-f262-4b41-9259-80a91bf6cb4a",
   "metadata": {},
   "source": [
    "33. Develop a program that generates a list of all possible combinations of two lists using list comprehension."
   ]
  },
  {
   "cell_type": "code",
   "execution_count": 35,
   "id": "e1e6025f-1104-4f9a-bf28-2b9202e69420",
   "metadata": {},
   "outputs": [
    {
     "name": "stdout",
     "output_type": "stream",
     "text": [
      "All Possible Combinations:\n",
      "(1, 'a')\n",
      "(1, 'b')\n",
      "(2, 'a')\n",
      "(2, 'b')\n",
      "(3, 'a')\n",
      "(3, 'b')\n"
     ]
    }
   ],
   "source": [
    "list1 = [1, 2, 3]\n",
    "list2 = ['a', 'b']\n",
    "\n",
    "# Generate all possible combinations using list comprehension and a for loop\n",
    "combinations = [(x, y) for x in list1 for y in list2]\n",
    "\n",
    "# Print the list of combinations\n",
    "print(\"All Possible Combinations:\")\n",
    "for combo in combinations:\n",
    "    print(combo)"
   ]
  },
  {
   "cell_type": "code",
   "execution_count": 38,
   "id": "9e6f7f8c-22f3-4d44-9f6e-4a0eac541d43",
   "metadata": {},
   "outputs": [
    {
     "name": "stdout",
     "output_type": "stream",
     "text": [
      "(1, 6)\n",
      "(1, 7)\n",
      "(2, 6)\n",
      "(2, 7)\n"
     ]
    }
   ],
   "source": [
    "l1=[1,2]\n",
    "l2=[6,7]\n",
    "\n",
    "for x in l1:\n",
    "    for y in l2:\n",
    "        p=(x,y)\n",
    "        print(p)"
   ]
  },
  {
   "cell_type": "markdown",
   "id": "c844d7bb-10ec-466b-949b-ee7301496029",
   "metadata": {},
   "source": [
    "34. Write a program that calculates the mean, median, and mode of a list of numbers using list\n",
    "comprehension."
   ]
  },
  {
   "cell_type": "code",
   "execution_count": 43,
   "id": "bf1fd1d4-a9cb-4b43-8c13-f2e0c27ffdce",
   "metadata": {},
   "outputs": [
    {
     "name": "stdout",
     "output_type": "stream",
     "text": [
      "4.0\n",
      "4.0\n",
      "ModeResult(mode=array([1]), count=array([1]))\n"
     ]
    },
    {
     "name": "stderr",
     "output_type": "stream",
     "text": [
      "/tmp/ipykernel_99/2935121669.py:6: FutureWarning: Unlike other reduction functions (e.g. `skew`, `kurtosis`), the default behavior of `mode` typically preserves the axis it acts along. In SciPy 1.11.0, this behavior will change: the default value of `keepdims` will become False, the `axis` over which the statistic is taken will be eliminated, and the value None will no longer be accepted. Set `keepdims` to True or False to avoid this warning.\n",
      "  x=stats.mode(l)\n"
     ]
    }
   ],
   "source": [
    "import numpy as np\n",
    "from scipy import stats\n",
    "l=[1,2,3,4,5,6,7]\n",
    "print(np.mean(l))\n",
    "print(np.median(l))\n",
    "x=stats.mode(l)\n",
    "print(x)\n"
   ]
  },
  {
   "cell_type": "markdown",
   "id": "0147000f-c5f9-4fc7-b404-38af550ab2dd",
   "metadata": {},
   "source": [
    "35. Create a program that generates Pascal's triangle up to a specified number of rows using list\n",
    "comprehension."
   ]
  },
  {
   "cell_type": "code",
   "execution_count": null,
   "id": "d5cab513-68a5-4276-ac0d-07e6ac39cd26",
   "metadata": {},
   "outputs": [],
   "source": []
  },
  {
   "cell_type": "markdown",
   "id": "62646653-a1ce-48f7-8a5d-8056fe3c9ec4",
   "metadata": {},
   "source": [
    "36. Develop a program that calculates the sum of the digits of a factorial of numbers from 1 to 5 using list\n",
    "comprehension."
   ]
  },
  {
   "cell_type": "code",
   "execution_count": 44,
   "id": "90e806da-2760-4e31-8a38-460f49b09a27",
   "metadata": {},
   "outputs": [
    {
     "name": "stdin",
     "output_type": "stream",
     "text": [
      "Enter any Number :  7\n"
     ]
    },
    {
     "name": "stdout",
     "output_type": "stream",
     "text": [
      "The Fact of 7 is 5040.\n"
     ]
    }
   ],
   "source": [
    "import math\n",
    "\n",
    "num = int(input(\"Enter any Number : \"))\n",
    "\n",
    "if num < 0:\n",
    "    print(\"Please Enter Positive Integer Only.\")\n",
    "elif num == 0:\n",
    "    print(\"The Fact of 0 = 1.\")\n",
    "else:\n",
    "    fact = math.prod(range(1, num + 1))\n",
    "    print(f\"The Fact of {num} is {fact}.\")"
   ]
  },
  {
   "cell_type": "markdown",
   "id": "3c9bd093-65d0-4c3a-8c30-bac65759b974",
   "metadata": {},
   "source": [
    "37. Write a program that finds the longest word in a sentence using list comprehension."
   ]
  },
  {
   "cell_type": "code",
   "execution_count": 46,
   "id": "ece4a159-0bc1-4dd5-9849-54d78a52767e",
   "metadata": {},
   "outputs": [
    {
     "name": "stdout",
     "output_type": "stream",
     "text": [
      "The word with the longest length is: third  and length is  5\n"
     ]
    }
   ],
   "source": [
    "# function to find the longest\n",
    "# length in the list\n",
    "def longestLength(a):\n",
    "\tmax1 = len(a[0])\n",
    "\ttemp = a[0]\n",
    "\n",
    "\t# for loop to traverse the list\n",
    "\tfor i in a:\n",
    "\t\tif(len(i) > max1):\n",
    "\n",
    "\t\t\tmax1 = len(i)\n",
    "\t\t\ttemp = i\n",
    "\n",
    "\tprint(\"The word with the longest length is:\", temp,\n",
    "\t\t\" and length is \", max1)\n",
    "\n",
    "\n",
    "# Driver Program\n",
    "a = [\"one\", \"two\", \"third\", \"four\"]\n",
    "longestLength(a)\n"
   ]
  },
  {
   "cell_type": "markdown",
   "id": "dfebc820-785f-4892-a4d5-582c8249d9ab",
   "metadata": {},
   "source": [
    "38. Create a program that filters a list of strings to include only those with more than three vowels using list\n",
    "comprehension."
   ]
  },
  {
   "cell_type": "code",
   "execution_count": 51,
   "id": "1372e1b8-2ef0-4a1f-81ce-98f6abe52c72",
   "metadata": {},
   "outputs": [
    {
     "name": "stdin",
     "output_type": "stream",
     "text": [
      " aeioufbdaeipuobdfaeiou\n"
     ]
    },
    {
     "name": "stdout",
     "output_type": "stream",
     "text": [
      "[]\n"
     ]
    }
   ],
   "source": [
    "original_list=str(input())\n",
    "filtered_list = [word for word in original_list if word.count('aeiou') > 3]\n",
    "print(filtered_list)"
   ]
  },
  {
   "cell_type": "code",
   "execution_count": null,
   "id": "199847f3-d72b-49b2-aee3-42b96555a75a",
   "metadata": {},
   "outputs": [],
   "source": []
  }
 ],
 "metadata": {
  "kernelspec": {
   "display_name": "Python 3 (ipykernel)",
   "language": "python",
   "name": "python3"
  },
  "language_info": {
   "codemirror_mode": {
    "name": "ipython",
    "version": 3
   },
   "file_extension": ".py",
   "mimetype": "text/x-python",
   "name": "python",
   "nbconvert_exporter": "python",
   "pygments_lexer": "ipython3",
   "version": "3.10.8"
  }
 },
 "nbformat": 4,
 "nbformat_minor": 5
}
