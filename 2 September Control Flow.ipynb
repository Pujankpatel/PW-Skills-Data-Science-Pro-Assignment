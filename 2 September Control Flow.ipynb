{
 "cells": [
  {
   "cell_type": "markdown",
   "id": "28ddd5b9-b5c3-49c6-9fae-f8f783ae6049",
   "metadata": {},
   "source": [
    "### Basic If-Else Statements:\n"
   ]
  },
  {
   "cell_type": "markdown",
   "id": "74d501aa-38ba-4097-b5a1-d100b9690c6c",
   "metadata": {},
   "source": [
    "### 1. Write a Python program to check if a given number is positive or negative."
   ]
  },
  {
   "cell_type": "code",
   "execution_count": 2,
   "id": "168b89b4-ca34-4cc4-a2df-39b58f90f377",
   "metadata": {},
   "outputs": [
    {
     "name": "stdin",
     "output_type": "stream",
     "text": [
      "Enter the number 6\n"
     ]
    },
    {
     "name": "stdout",
     "output_type": "stream",
     "text": [
      "The given number is positive\n"
     ]
    }
   ],
   "source": [
    "\n",
    "x=int(input(\"Enter the number\"))\n",
    "if x>0:\n",
    "    print(\"The given number is positive\")\n",
    "else:\n",
    "    print(\"The given number is negative\")"
   ]
  },
  {
   "cell_type": "markdown",
   "id": "ed3222ea-0c53-4179-a8d8-26f5683037ed",
   "metadata": {},
   "source": [
    "### 2. Create a program that determines if a person is eligible to vote based on their age."
   ]
  },
  {
   "cell_type": "code",
   "execution_count": 3,
   "id": "15dd80f1-6f82-44e2-941d-7648bc4ca8b6",
   "metadata": {},
   "outputs": [
    {
     "name": "stdin",
     "output_type": "stream",
     "text": [
      "Enter the age of person:  24\n"
     ]
    },
    {
     "name": "stdout",
     "output_type": "stream",
     "text": [
      "person is eligible to vote\n"
     ]
    }
   ],
   "source": [
    "age=int(input(\"Enter the age of person: \"))\n",
    "if age>=18:\n",
    "    print(\"person is eligible to vote\")\n",
    "else:\n",
    "    print(\"Person is not eligible to vote\")"
   ]
  },
  {
   "cell_type": "markdown",
   "id": "53ba76b0-d1a0-4505-a084-275a6ac04462",
   "metadata": {},
   "source": [
    "### 3. Develop a program to find the maximum of two numbers using if-else statements."
   ]
  },
  {
   "cell_type": "code",
   "execution_count": 4,
   "id": "82984802-be9e-4ca1-9056-b94ab9f53f12",
   "metadata": {},
   "outputs": [
    {
     "name": "stdin",
     "output_type": "stream",
     "text": [
      "Enter 1 number 3\n",
      "Enter 2 number 4\n"
     ]
    },
    {
     "name": "stdout",
     "output_type": "stream",
     "text": [
      "Number 2 is greater then number 1\n"
     ]
    }
   ],
   "source": [
    "a=int(input(\"Enter 1 number\"))\n",
    "b=int(input(\"Enter 2 number\"))\n",
    "if a>b:\n",
    "    print(\"Number 1 is greater then number 2\")\n",
    "else:\n",
    "    print(\"Number 2 is greater then number 1\")"
   ]
  },
  {
   "cell_type": "markdown",
   "id": "51de7707-3660-446e-97ef-886d9aa09337",
   "metadata": {},
   "source": [
    "### 4. Write a Python script to classify a given year as a leap year or not."
   ]
  },
  {
   "cell_type": "code",
   "execution_count": 5,
   "id": "af2b6a8d-3444-4492-840e-50116a4fa13b",
   "metadata": {},
   "outputs": [
    {
     "name": "stdin",
     "output_type": "stream",
     "text": [
      "Enter year  2003\n"
     ]
    },
    {
     "name": "stdout",
     "output_type": "stream",
     "text": [
      "2003 is not a leap year\n"
     ]
    }
   ],
   "source": [
    "year=int(input(\"Enter year \"))\n",
    "if (year % 400 == 0) and (year % 100 == 0):\n",
    "    print(\"{0} is a leap year\".format(year))\n",
    "    \n",
    "elif (year % 4 ==0) and (year % 100 != 0):\n",
    "    print(\"{0} is a leap year\".format(year))\n",
    "else:\n",
    "     print(\"{0} is not a leap year\".format(year))"
   ]
  },
  {
   "cell_type": "markdown",
   "id": "f4fe2d19-c3d7-4f0d-99f7-3d52d885210c",
   "metadata": {},
   "source": [
    "## 5. Create a program that checks whether a character is a vowel or a consonant."
   ]
  },
  {
   "cell_type": "code",
   "execution_count": 6,
   "id": "cb74ff3f-3dc2-44da-83ac-b8dad4e09451",
   "metadata": {},
   "outputs": [
    {
     "name": "stdin",
     "output_type": "stream",
     "text": [
      "Enter a character a\n"
     ]
    },
    {
     "name": "stdout",
     "output_type": "stream",
     "text": [
      "Given char is vowel\n"
     ]
    }
   ],
   "source": [
    "s=str(input(\"Enter a character\"))\n",
    "if(s=='a')|(s=='e')|(s=='i')|(s=='o')|(s=='u'):\n",
    "    print(\"Given char is vowel\")\n",
    "else:\n",
    "     print(\"Given char is not a vowel\")"
   ]
  },
  {
   "cell_type": "markdown",
   "id": "568fd39b-b1f8-4c58-8a30-b9e54658864f",
   "metadata": {},
   "source": [
    "## 6. Implement a program to determine whether a given number is even or odd."
   ]
  },
  {
   "cell_type": "code",
   "execution_count": 7,
   "id": "0582ae49-85b8-4fc3-8d52-6fca8ffe801f",
   "metadata": {},
   "outputs": [
    {
     "name": "stdin",
     "output_type": "stream",
     "text": [
      "Enter a number 4\n"
     ]
    },
    {
     "name": "stdout",
     "output_type": "stream",
     "text": [
      "Given number is even\n"
     ]
    }
   ],
   "source": [
    "s=int(input(\"Enter a number\"))\n",
    "if s%2==0:\n",
    "    print(\"Given number is even\")\n",
    "else:\n",
    "    print(\"Given number is odd\")"
   ]
  },
  {
   "cell_type": "markdown",
   "id": "151977e3-2ba8-4073-a8f9-a93d9ef0e6ec",
   "metadata": {},
   "source": [
    "### 7. Write a Python function to calculate the absolute value of a number without using the `abs()` function."
   ]
  },
  {
   "cell_type": "code",
   "execution_count": 8,
   "id": "772dd5e0-4c50-482a-9fbf-57b30d655ef6",
   "metadata": {},
   "outputs": [
    {
     "name": "stdout",
     "output_type": "stream",
     "text": [
      "3.5\n",
      "None\n"
     ]
    }
   ],
   "source": [
    "def my_abs(value):\n",
    "\n",
    "    if value < 5 :\n",
    "        print(value * 1)\n",
    "    else:\n",
    "        print(value * -1)\n",
    "print(my_abs(3.5))"
   ]
  },
  {
   "cell_type": "markdown",
   "id": "22e43f70-40fc-46ed-b96f-a5b8eb889120",
   "metadata": {},
   "source": [
    "##### 8. Develop a program that determines the largest of three given numbers using if-else statements."
   ]
  },
  {
   "cell_type": "code",
   "execution_count": 10,
   "id": "8b9bbb30-f9f5-4ce1-9cfe-897ec42c0d1f",
   "metadata": {},
   "outputs": [
    {
     "name": "stdin",
     "output_type": "stream",
     "text": [
      "Enter 1 number 5\n",
      "Enter 2 number 6\n",
      "Enter 3 number 3\n"
     ]
    },
    {
     "name": "stdout",
     "output_type": "stream",
     "text": [
      "5 is greatest of all\n"
     ]
    }
   ],
   "source": [
    "a=int(input(\"Enter 1 number\"))\n",
    "b=int(input(\"Enter 2 number\"))\n",
    "c=int(input(\"Enter 3 number\"))\n",
    "if a>b & a>c:\n",
    "    print(f'{a} is greatest of all')\n",
    "elif b>a & b>c:\n",
    "    print(f'{b} is greatest of all')\n",
    "else:\n",
    "    print(f'{c} is greatest of all')\n"
   ]
  },
  {
   "cell_type": "markdown",
   "id": "18940070-f83e-4477-b179-474f033069a1",
   "metadata": {},
   "source": [
    "### 9. Create a program that checks if a given string is a palindrome."
   ]
  },
  {
   "cell_type": "code",
   "execution_count": 11,
   "id": "fddae91e-425c-45f3-b9ae-aecb153a50b0",
   "metadata": {},
   "outputs": [
    {
     "name": "stdin",
     "output_type": "stream",
     "text": [
      "Enter the string aba\n"
     ]
    },
    {
     "name": "stdout",
     "output_type": "stream",
     "text": [
      "Given string is palindrome\n"
     ]
    }
   ],
   "source": [
    "a=str(input(\"Enter the string\"))\n",
    "b=a[::-1]\n",
    "if a==b:\n",
    "    print(\"Given string is palindrome\")\n",
    "else:\n",
    "     print(\"Given string is not palindrome\")"
   ]
  },
  {
   "cell_type": "markdown",
   "id": "d18a6e6c-97c0-416e-ad03-1893114080f2",
   "metadata": {},
   "source": [
    "#### 10. Write a Python program to calculate the grade based on a student's score."
   ]
  },
  {
   "cell_type": "code",
   "execution_count": 12,
   "id": "cf856c12-1d90-413f-bd04-b1923b712c8b",
   "metadata": {},
   "outputs": [
    {
     "name": "stdin",
     "output_type": "stream",
     "text": [
      "Enter the grade 94\n"
     ]
    },
    {
     "name": "stdout",
     "output_type": "stream",
     "text": [
      "A\n"
     ]
    }
   ],
   "source": [
    "a=int(input(\"Enter the grade\"))\n",
    "if a>=95:\n",
    "    print(\"A++\")\n",
    "elif a>=90:\n",
    "    print(\"A\")\n",
    "elif a>=80:\n",
    "    print(\"B\")\n",
    "elif a>=70:\n",
    "    print(\"C\")\n",
    "else:\n",
    "    print(\"D\")\n"
   ]
  },
  {
   "cell_type": "markdown",
   "id": "466234e6-25ab-4ed8-b396-126787347143",
   "metadata": {},
   "source": [
    "### 11. Write a program to find the largest among three numbers using nested if-else statements."
   ]
  },
  {
   "cell_type": "code",
   "execution_count": 13,
   "id": "16bcb3e0-24c8-478e-a5b6-7a30f588c07c",
   "metadata": {},
   "outputs": [
    {
     "name": "stdin",
     "output_type": "stream",
     "text": [
      "Enter 1 number 3\n",
      "Enter 2 number 4\n",
      "Enter 3 number 5\n"
     ]
    },
    {
     "name": "stdout",
     "output_type": "stream",
     "text": [
      "5 is the largest number.\n"
     ]
    }
   ],
   "source": [
    "\n",
    "n1=int(input(\"Enter 1 number\"))\n",
    "n2=int(input(\"Enter 2 number\"))\n",
    "n3=int(input(\"Enter 3 number\"))\n",
    "\n",
    "\n",
    "if (n1 >= n2): \n",
    "    if (n1 >= n3):\n",
    "        print(f\"{n1} is the largest number.\");\n",
    "    else:\n",
    "        print(f\"{n3}is the largest number.\");\n",
    "\n",
    "\n",
    "else:\n",
    "    if (n2 >= n3):\n",
    "        print(f\"{n2} is the largest number.\");\n",
    "    else:\n",
    "        print(f\"{n3} is the largest number.\");\n"
   ]
  },
  {
   "cell_type": "markdown",
   "id": "a9096f5e-e177-4565-ba89-0533c55cb056",
   "metadata": {},
   "source": [
    "### 12. Implement a program to determine if a triangle is equilateral, isosceles, or scalene."
   ]
  },
  {
   "cell_type": "code",
   "execution_count": 14,
   "id": "eb600fe4-1ea2-46fd-bad3-d2ae5fc86ccc",
   "metadata": {},
   "outputs": [
    {
     "name": "stdin",
     "output_type": "stream",
     "text": [
      "Enter 1 side of triangle 3\n",
      "Enter 2 side of triangle 3\n",
      "Enter 3 side of triangle 3\n"
     ]
    },
    {
     "name": "stdout",
     "output_type": "stream",
     "text": [
      "equilateral\n"
     ]
    }
   ],
   "source": [
    "a=int(input(\"Enter 1 side of triangle\"))\n",
    "b=int(input(\"Enter 2 side of triangle\"))\n",
    "c=int(input(\"Enter 3 side of triangle\"))\n",
    "if (a == b & a == c):\n",
    "    print(\"equilateral\")\n",
    "elif (a == b | a == c):\n",
    "    print(\"isosceles\")\n",
    "else:\n",
    "    print(\"scalene\")\n",
    "  "
   ]
  },
  {
   "cell_type": "markdown",
   "id": "b417924b-f34a-42a5-bb4f-f77376823b19",
   "metadata": {},
   "source": [
    "### 13. Develop a program that checks if a year is a leap year and also if it is a century year."
   ]
  },
  {
   "cell_type": "code",
   "execution_count": 15,
   "id": "08a4c126-963d-4ae3-9d62-c974caa23c98",
   "metadata": {},
   "outputs": [
    {
     "name": "stdin",
     "output_type": "stream",
     "text": [
      "Enter the year 2004\n"
     ]
    },
    {
     "name": "stdout",
     "output_type": "stream",
     "text": [
      "Given year is a leap year and century year\n"
     ]
    }
   ],
   "source": [
    "x=int(input(\"Enter the year\"))\n",
    "if x%4==0 & x%400==0 & x%100==0:\n",
    "    print(\"Given year is a leap year and century year\")\n",
    "elif  x%4==0 & x%400==0:\n",
    "    print(\"Given year is a leap year\")\n",
    "elif x%100==0:\n",
    "    print(\"Given Year is a century year\")\n",
    "else:\n",
    "    print(\"Given year is not a leap or century year\")"
   ]
  },
  {
   "cell_type": "markdown",
   "id": "0598cea2-30b6-4960-ba03-5312a84263b4",
   "metadata": {},
   "source": [
    "## 14. Write a Python script to determine if a number is positive, negative, or zero."
   ]
  },
  {
   "cell_type": "code",
   "execution_count": 16,
   "id": "3a8355a8-0073-4ec1-82df-ec1026207198",
   "metadata": {},
   "outputs": [
    {
     "name": "stdin",
     "output_type": "stream",
     "text": [
      "Enter a number:  4\n"
     ]
    },
    {
     "name": "stdout",
     "output_type": "stream",
     "text": [
      "Number Entered is a Positive number\n"
     ]
    }
   ],
   "source": [
    "number = float(input(\"Enter a number: \"))\n",
    "\n",
    "# Check for Positive Number\n",
    "if number > 0:\n",
    "   print(\"Number Entered is a Positive number\")\n",
    "\n",
    "#Check for Negative Number\n",
    "elif number < 0:\n",
    "   print(\"Number Entered is a Negative number\")\n",
    "\n",
    "# if Number is not Positive and not Negative then it is 0\n",
    "else:\n",
    "   print(\"Number Entered is Zero\")"
   ]
  },
  {
   "cell_type": "markdown",
   "id": "31dd436c-9f02-40f4-b3e7-3dafcc449036",
   "metadata": {},
   "source": [
    "### 15. Create a program to check if a person is a teenager (between 13 and 19 years old)."
   ]
  },
  {
   "cell_type": "code",
   "execution_count": 17,
   "id": "a3586095-e572-48e4-8b58-91533d65c170",
   "metadata": {},
   "outputs": [
    {
     "name": "stdin",
     "output_type": "stream",
     "text": [
      "Enter the age 54\n"
     ]
    },
    {
     "name": "stdout",
     "output_type": "stream",
     "text": [
      "It's in the range\n"
     ]
    }
   ],
   "source": [
    "x=int(input(\"Enter the age\"))\n",
    "if(x>=13 & x<=19):\n",
    "    print(\"It's in the range\")\n",
    "else:\n",
    "    print(\"It's not in the range\")"
   ]
  },
  {
   "cell_type": "markdown",
   "id": "76a7fc00-8e30-4bb2-9107-eff8753b569a",
   "metadata": {},
   "source": [
    "## 16. Develop a program that determines the type of angle based on its measure (acute, obtuse, or right)."
   ]
  },
  {
   "cell_type": "code",
   "execution_count": 18,
   "id": "ea315f2d-a3b2-4356-aa8a-29c89ad9185b",
   "metadata": {},
   "outputs": [
    {
     "name": "stdin",
     "output_type": "stream",
     "text": [
      "Enter the angle 45\n"
     ]
    },
    {
     "name": "stdout",
     "output_type": "stream",
     "text": [
      "acute\n"
     ]
    }
   ],
   "source": [
    "angle=int(input(\"Enter the angle\"))\n",
    "if angle >=90:\n",
    "    if angle==90:\n",
    "        print( \"right angle\")\n",
    "    else:\n",
    "        print(\"obtuse\")\n",
    "else:\n",
    "     print( \"acute\")"
   ]
  },
  {
   "cell_type": "markdown",
   "id": "732deaeb-1145-4e95-bce4-65b67f070081",
   "metadata": {},
   "source": [
    "## 17. Write a Python program to calculate the roots of a quadratic equation."
   ]
  },
  {
   "cell_type": "code",
   "execution_count": null,
   "id": "c2d7af3c-5375-4c46-bac5-a8db6e97cc85",
   "metadata": {},
   "outputs": [],
   "source": []
  },
  {
   "cell_type": "markdown",
   "id": "08e51124-af15-49ad-a7f0-b13e2c2e722f",
   "metadata": {},
   "source": [
    "## 18. Implement a program to determine the day of the week based on a user-provided number (1 for Monday, 2 for Tuesday, etc.)."
   ]
  },
  {
   "cell_type": "code",
   "execution_count": 19,
   "id": "90bf019e-0ff7-46ff-8d0e-c7aeb135086a",
   "metadata": {},
   "outputs": [
    {
     "name": "stdin",
     "output_type": "stream",
     "text": [
      "Enter a number from 1 to 7:  5\n"
     ]
    },
    {
     "name": "stdout",
     "output_type": "stream",
     "text": [
      "5 is Thursday\n"
     ]
    }
   ],
   "source": [
    "day = int(input(\"Enter a number from 1 to 7: \"))\n",
    "\n",
    "if day == 1:\n",
    "    print(day, \"is Sunday\")\n",
    "elif day == 2:\n",
    "    print(day, \"is Monday\")\n",
    "elif day == 3:\n",
    "    print(day, \"is Tuesday\")\n",
    "elif day == 4:\n",
    "    print(day, \"is Wednesday\")\n",
    "elif day == 5:\n",
    "    print(day, \"is Thursday\")\n",
    "elif day == 6:\n",
    "    print(day, \"is Friday\")\n",
    "elif day == 7:\n",
    "    print(day, \"is Saturday\")\n",
    "else:\n",
    "    print(\"Wrong input! Please enter a number from 1 to 7.\")"
   ]
  },
  {
   "cell_type": "markdown",
   "id": "d6c6055d-24a1-48b2-8fb5-7abc9eef5350",
   "metadata": {},
   "source": [
    "## 19. Create a program that determines if a year is a leap year and also if it is evenly divisible by 400."
   ]
  },
  {
   "cell_type": "code",
   "execution_count": 20,
   "id": "b1c64500-8d1c-413c-ba6c-b376b974b76f",
   "metadata": {},
   "outputs": [
    {
     "name": "stdin",
     "output_type": "stream",
     "text": [
      "Enter a year(yyyy):  2014\n"
     ]
    },
    {
     "name": "stdout",
     "output_type": "stream",
     "text": [
      "2014 is not a leap year.\n"
     ]
    }
   ],
   "source": [
    "year = int(input(\"Enter a year(yyyy): \"))\n",
    "\n",
    "if year % 4 == 0:\n",
    "    if year % 100 != 0:\n",
    "        print(year, \"is a leap year.\")\n",
    "    elif year % 400 == 0:\n",
    "        print(year, \"is a leap year.\")\n",
    "    else:\n",
    "        print(year, \"is not a leap year.\")\n",
    "else:\n",
    "    print(year, \"is not a leap year.\")\n"
   ]
  },
  {
   "cell_type": "markdown",
   "id": "7409349b-430c-4a55-95da-fdc7fef3f221",
   "metadata": {},
   "source": [
    "## 20. Develop a program that checks if a given number is prime or not using nested if-else statements."
   ]
  },
  {
   "cell_type": "code",
   "execution_count": 22,
   "id": "470307b8-06da-4f10-9dce-b80c99852c28",
   "metadata": {},
   "outputs": [
    {
     "ename": "IndentationError",
     "evalue": "unindent does not match any outer indentation level (<tokenize>, line 3)",
     "output_type": "error",
     "traceback": [
      "\u001b[0;36m  File \u001b[0;32m<tokenize>:3\u001b[0;36m\u001b[0m\n\u001b[0;31m    for i in range(2, int(n ** 0.5) + 1):\u001b[0m\n\u001b[0m    ^\u001b[0m\n\u001b[0;31mIndentationError\u001b[0m\u001b[0;31m:\u001b[0m unindent does not match any outer indentation level\n"
     ]
    }
   ],
   "source": [
    "if n <= 1:\n",
    "        return False\n",
    "    for i in range(2, int(n ** 0.5) + 1):\n",
    "        if n % i == 0:\n",
    "            return False\n",
    "    return True"
   ]
  },
  {
   "cell_type": "markdown",
   "id": "e1b7c8ec-c57e-4a40-a329-6537cf7e950d",
   "metadata": {},
   "source": [
    "### 21. Write a Python program to assign grades based on different ranges of scores using elif statements."
   ]
  },
  {
   "cell_type": "code",
   "execution_count": 23,
   "id": "c0597131-09b6-419f-b271-ea2975f645e5",
   "metadata": {},
   "outputs": [
    {
     "name": "stdin",
     "output_type": "stream",
     "text": [
      "Enter the grade 44\n"
     ]
    },
    {
     "name": "stdout",
     "output_type": "stream",
     "text": [
      "D\n"
     ]
    }
   ],
   "source": [
    "a=int(input(\"Enter the grade\"))\n",
    "if a>=95:\n",
    "    print(\"A++\")\n",
    "elif a>=90:\n",
    "    print(\"A\")\n",
    "elif a>=80:\n",
    "    print(\"B\")\n",
    "elif a>=70:\n",
    "    print(\"C\")\n",
    "else:\n",
    "    print(\"D\")\n"
   ]
  },
  {
   "cell_type": "markdown",
   "id": "048c0daa-8d48-4d5f-9989-818adc125daf",
   "metadata": {},
   "source": [
    "### 22. Implement a program to determine the type of a triangle based on its angles."
   ]
  },
  {
   "cell_type": "code",
   "execution_count": 24,
   "id": "90df15b1-69fc-404a-a021-a6d0747d68c7",
   "metadata": {},
   "outputs": [
    {
     "name": "stdin",
     "output_type": "stream",
     "text": [
      "Enter the degree of angle 5\n"
     ]
    },
    {
     "name": "stdout",
     "output_type": "stream",
     "text": [
      "Actue angle triangle\n"
     ]
    }
   ],
   "source": [
    "angle=int(input(\"Enter the degree of angle\"))\n",
    "if angle>90:\n",
    "    print(\"Obtuse angle\")\n",
    "elif angle==90:\n",
    "    print(\"Right angle triangle\")\n",
    "else:\n",
    "    print(\"Actue angle triangle\")"
   ]
  },
  {
   "cell_type": "markdown",
   "id": "20cbae15-ad31-4212-91c8-53837cf05e1c",
   "metadata": {},
   "source": [
    "### 23. Develop a program to categorize a given person's BMI into underweight, normal, overweight, or obese using elif statements."
   ]
  },
  {
   "cell_type": "code",
   "execution_count": 25,
   "id": "1a577591-7da5-450c-95a9-84dc7ed8768d",
   "metadata": {},
   "outputs": [
    {
     "name": "stdin",
     "output_type": "stream",
     "text": [
      "Enter your weight in kg:  5\n",
      "Enter your height in meters:  4\n"
     ]
    },
    {
     "name": "stdout",
     "output_type": "stream",
     "text": [
      "Underweight\n"
     ]
    }
   ],
   "source": [
    "bmi = float(input(\"Enter your weight in kg: \"))\n",
    "height = float(input(\"Enter your height in meters: \"))\n",
    "if bmi < 18.5:\n",
    "    print(\"Underweight\")\n",
    "elif bmi < 25:\n",
    "    print(\"Normal\")\n",
    "elif bmi < 30:\n",
    "    print(\"Overweight\")\n",
    "else:\n",
    "    print(\"Obese\")"
   ]
  },
  {
   "cell_type": "markdown",
   "id": "423293ca-a327-44b9-a67b-14029ab27496",
   "metadata": {},
   "source": [
    "### 24. Create a program that determines whether a given number is positive, negative, or zero using elif statements."
   ]
  },
  {
   "cell_type": "code",
   "execution_count": 26,
   "id": "33cabd28-e4c1-4270-b2ae-447761b77bae",
   "metadata": {},
   "outputs": [
    {
     "name": "stdin",
     "output_type": "stream",
     "text": [
      "Enter a number 4\n"
     ]
    },
    {
     "name": "stdout",
     "output_type": "stream",
     "text": [
      "Positive\n"
     ]
    }
   ],
   "source": [
    "x=int(input(\"Enter a number\"))\n",
    "if x>0:\n",
    "    print(\"Positive\")\n",
    "elif x==0:\n",
    "    print(\"zero\")\n",
    "else:\n",
    "    print(\"negative\")"
   ]
  },
  {
   "cell_type": "markdown",
   "id": "87363143-896a-47d8-9f62-3803c82894bd",
   "metadata": {},
   "source": [
    "### 25. Write a Python script to determine the type of a character (uppercase, lowercase, or special) using elif statements."
   ]
  },
  {
   "cell_type": "code",
   "execution_count": 27,
   "id": "77563a87-2b93-4bcd-9649-836927cc5d63",
   "metadata": {},
   "outputs": [
    {
     "name": "stdin",
     "output_type": "stream",
     "text": [
      "Enter the alphabate q\n"
     ]
    },
    {
     "name": "stdout",
     "output_type": "stream",
     "text": [
      "lowecase\n"
     ]
    }
   ],
   "source": [
    "x=str(input(\"Enter the alphabate\"))\n",
    "if x.isupper():\n",
    "    print(\"Uppercase\")\n",
    "elif x.islower():\n",
    "    print(\"lowecase\")\n",
    "else:\n",
    "    print(\"Special\")"
   ]
  },
  {
   "cell_type": "markdown",
   "id": "86d13821-ec8e-4178-920a-4e285c11c5d4",
   "metadata": {},
   "source": [
    "### 26. Implement a program to calculate the discounted price based on different purchase amounts using elif  statements."
   ]
  },
  {
   "cell_type": "code",
   "execution_count": 28,
   "id": "d845af2d-6d49-498d-b721-583359cb58a0",
   "metadata": {},
   "outputs": [
    {
     "name": "stdin",
     "output_type": "stream",
     "text": [
      "Enter purchase amount  70000\n"
     ]
    },
    {
     "name": "stdout",
     "output_type": "stream",
     "text": [
      "Discount Amount = 16000.00\n",
      "Net Bill Amount = 54000.00\n"
     ]
    }
   ],
   "source": [
    "p=int(input('Enter purchase amount '))\n",
    "\n",
    "if p<=5000:\n",
    "    dis=0\n",
    "elif p>5000 and p<=10000:\n",
    "    dis=(p-5000)*(10/100.0)\n",
    "elif p>10000 and p<=20000:\n",
    "    dis=(p-10000)*(20/100.0)\n",
    "elif p>20000 and p<=30000:\n",
    "    dis=(p-20000)*(30/100.0)\n",
    "else:\n",
    "    dis=(p-30000)*(40/100.0)\n",
    "\n",
    "print('Discount Amount = {:.2f}'.format(dis))\n",
    "print('Net Bill Amount = {:.2f}'.format(p-dis))"
   ]
  },
  {
   "cell_type": "markdown",
   "id": "3b19a6de-187e-4690-ba57-79f980a765e1",
   "metadata": {},
   "source": [
    "### 27. Develop a program to calculate the electricity bill based on different consumption slabs using elif statements."
   ]
  },
  {
   "cell_type": "code",
   "execution_count": 29,
   "id": "08deebcb-13c3-46fe-ace1-9d6d74b1ade5",
   "metadata": {},
   "outputs": [
    {
     "name": "stdin",
     "output_type": "stream",
     "text": [
      "Enter your unit:  4\n"
     ]
    },
    {
     "name": "stdout",
     "output_type": "stream",
     "text": [
      "Bill Per Unit: 13.84\n",
      "Bill after adding Line rent: 19.64\n",
      "Bill after adding Meter rent: 119.64\n",
      "Total Bill after adding tax: 138.7824\n"
     ]
    }
   ],
   "source": [
    "unit = int(input(\"Enter your unit: \"))\n",
    "if unit <= 100:\n",
    "    bill = unit * 3.46\n",
    "elif unit >= 101 and unit <= 300:\n",
    "    bill = 346 + ((unit - 100) * 7.43)\n",
    "elif unit >= 301 and unit <= 500:\n",
    "    bill = 346 + 1486 + ((unit - 300) * 10.32)\n",
    "else:\n",
    "    bill = 346 + 1486 + 2064 + ((unit - 500) * 11.71)\n",
    "print(\"Bill Per Unit:\",bill)\n",
    "bill = bill + (unit*1.45)\n",
    "print(\"Bill after adding Line rent:\",bill)\n",
    "bill = bill + 100\n",
    "print(\"Bill after adding Meter rent:\",bill)\n",
    "bill = bill + (bill*0.16)\n",
    "print(\"Total Bill after adding tax:\",bill)"
   ]
  },
  {
   "cell_type": "markdown",
   "id": "2075aea8-f14e-4556-b0e2-fd7641f4b263",
   "metadata": {},
   "source": [
    "### 28. Create a program to determine the type of quadrilateral based on its angles and sides using elif statements."
   ]
  },
  {
   "cell_type": "code",
   "execution_count": 30,
   "id": "6193d6e8-7ca4-43e5-a05c-ff6fa0475f16",
   "metadata": {},
   "outputs": [
    {
     "name": "stdout",
     "output_type": "stream",
     "text": [
      "Input lengths of the triangle sides: \n"
     ]
    },
    {
     "name": "stdin",
     "output_type": "stream",
     "text": [
      "x:  4\n",
      "y:  5\n",
      "z:  4\n"
     ]
    },
    {
     "name": "stdout",
     "output_type": "stream",
     "text": [
      "isosceles triangle\n"
     ]
    }
   ],
   "source": [
    "print(\"Input lengths of the triangle sides: \")\n",
    "x = int(input(\"x: \"))\n",
    "y = int(input(\"y: \"))\n",
    "z = int(input(\"z: \"))\n",
    "\n",
    "if x == y == z:\n",
    "\tprint(\"Equilateral triangle\")\n",
    "elif x==y or y==z or z==x:\n",
    "\tprint(\"isosceles triangle\")\n",
    "else:\n",
    "\tprint(\"Scalene triangle\")\n"
   ]
  },
  {
   "cell_type": "markdown",
   "id": "adf70927-a75c-4e05-8c91-706b4ead166d",
   "metadata": {},
   "source": [
    "### 29. Write a Python script to determine the season based on a user-provided month using elif statements."
   ]
  },
  {
   "cell_type": "code",
   "execution_count": 31,
   "id": "6288886a-fb9c-4555-88c7-87121bc15827",
   "metadata": {},
   "outputs": [
    {
     "name": "stdin",
     "output_type": "stream",
     "text": [
      "Input the month (e.g. January, February etc.):  November\n"
     ]
    },
    {
     "name": "stdout",
     "output_type": "stream",
     "text": [
      "autumn\n"
     ]
    }
   ],
   "source": [
    "month = input(\"Input the month (e.g. January, February etc.): \")\n",
    "\n",
    "if month in ('January', 'February', 'March'):\n",
    "\tprint('winter')\n",
    "elif month in ('April', 'May', 'June'):\n",
    "\tprrint('spring')\n",
    "elif month in ('July', 'August', 'September'):\n",
    "\tprint('summer')\n",
    "else:\n",
    "\tprint('autumn')\n",
    "    "
   ]
  },
  {
   "cell_type": "markdown",
   "id": "acc4d3a4-8ed5-4697-8cb5-c0106ff34825",
   "metadata": {},
   "source": [
    "### 30. Implement a program to determine the type of a year (leap or common) and month (30 or 31 days) using elif statements."
   ]
  },
  {
   "cell_type": "code",
   "execution_count": 32,
   "id": "cc24fad6-fe8a-48db-8568-63600fff55fc",
   "metadata": {},
   "outputs": [
    {
     "name": "stdin",
     "output_type": "stream",
     "text": [
      "Enter a year:  2004\n",
      "Enter a month:  12\n"
     ]
    },
    {
     "name": "stdout",
     "output_type": "stream",
     "text": [
      "It's a leap year!\n"
     ]
    }
   ],
   "source": [
    "year = int(input(\"Enter a year: \"))\n",
    "month = int(input(\"Enter a month: \"))\n",
    "if year % 4 == 0 and year % 100 != 0:\n",
    "    print(\"It's a leap year!\")\n",
    "elif year % 4 != 0 and year % 100 == 0:\n",
    "    print(\"It's a common year!\")\n",
    "elif month == 3:\n",
    "    print(\"It's March, which has 31 days!\")\n",
    "else:\n",
    "    print(\"It's not a leap year or March!\")\n"
   ]
  },
  {
   "cell_type": "code",
   "execution_count": null,
   "id": "49829383-75a5-4bfe-af2a-32e296f93cb6",
   "metadata": {},
   "outputs": [],
   "source": []
  },
  {
   "cell_type": "code",
   "execution_count": null,
   "id": "c40e3b7b-9815-47eb-a696-043c76682c45",
   "metadata": {},
   "outputs": [],
   "source": []
  },
  {
   "cell_type": "markdown",
   "id": "fdf02a57-8684-4ac9-84cf-91baf10fd117",
   "metadata": {},
   "source": [
    "# Basic Level:"
   ]
  },
  {
   "cell_type": "markdown",
   "id": "00a1e491-1e96-42ef-be57-21d9cae08a2e",
   "metadata": {},
   "source": [
    "1. Write a Python program that checks if a given number is positive, negative, or zero."
   ]
  },
  {
   "cell_type": "code",
   "execution_count": 33,
   "id": "d5ef3212-4542-4b37-bfff-98ad4fa7e15b",
   "metadata": {},
   "outputs": [
    {
     "name": "stdin",
     "output_type": "stream",
     "text": [
      "Enter number 4\n"
     ]
    },
    {
     "name": "stdout",
     "output_type": "stream",
     "text": [
      "positive\n"
     ]
    }
   ],
   "source": [
    "x=int(input(\"Enter number\"))\n",
    "if x>0:\n",
    "    print(\"positive\")\n",
    "elif x==0:\n",
    "    print(\"Zero\")\n",
    "else:\n",
    "    print(\"Negative\")"
   ]
  },
  {
   "cell_type": "markdown",
   "id": "14ef7c4d-86ed-4c30-9fc2-1bd5e6562682",
   "metadata": {},
   "source": [
    "3. Write a program to find the maximum of two given numbers using conditional statements."
   ]
  },
  {
   "cell_type": "code",
   "execution_count": 34,
   "id": "17c2f9f4-c977-485d-a5d8-d7c9bb2dfe14",
   "metadata": {},
   "outputs": [
    {
     "name": "stdin",
     "output_type": "stream",
     "text": [
      "Enter 1 number 4\n",
      "Enter 2 number 5\n"
     ]
    },
    {
     "name": "stdout",
     "output_type": "stream",
     "text": [
      "number 2 is grater then number 1\n"
     ]
    }
   ],
   "source": [
    "x=int(input(\"Enter 1 number\"))\n",
    "y=int(input(\"Enter 2 number\"))\n",
    "if x>y:\n",
    "    print(\"number 1 is grater then number 2\")\n",
    "else:\n",
    "     print(\"number 2 is grater then number 1\")\n"
   ]
  },
  {
   "cell_type": "markdown",
   "id": "496e0c87-d0c2-4875-9e06-854ab008be6d",
   "metadata": {},
   "source": [
    "4. Develop a program that calculates the grade of a student based on their exam score."
   ]
  },
  {
   "cell_type": "code",
   "execution_count": 35,
   "id": "0a123fe5-a776-46d4-9dac-b71e43a5b4c1",
   "metadata": {},
   "outputs": [
    {
     "name": "stdin",
     "output_type": "stream",
     "text": [
      "Enter the grade 99\n"
     ]
    },
    {
     "name": "stdout",
     "output_type": "stream",
     "text": [
      "A++\n"
     ]
    }
   ],
   "source": [
    "a=int(input(\"Enter the grade\"))\n",
    "if a>=95:\n",
    "    print(\"A++\")\n",
    "elif a>=90:\n",
    "    print(\"A\")\n",
    "elif a>=80:\n",
    "    print(\"B\")\n",
    "elif a>=70:\n",
    "    print(\"C\")\n",
    "else:\n",
    "    print(\"D\")\n"
   ]
  },
  {
   "cell_type": "markdown",
   "id": "3ba6dafb-c408-43ad-bd9b-48cc45105966",
   "metadata": {},
   "source": [
    "5. Create a program that checks if a year is a leap year or not."
   ]
  },
  {
   "cell_type": "code",
   "execution_count": 36,
   "id": "89ce05e2-bec7-463f-8f8c-fad13c1ec583",
   "metadata": {},
   "outputs": [
    {
     "name": "stdin",
     "output_type": "stream",
     "text": [
      "Enter a year(yyyy):  2002\n"
     ]
    },
    {
     "name": "stdout",
     "output_type": "stream",
     "text": [
      "2002 is not a leap year.\n"
     ]
    }
   ],
   "source": [
    "year = int(input(\"Enter a year(yyyy): \"))\n",
    "\n",
    "if year % 4 == 0:\n",
    "    if year % 100 != 0:\n",
    "        print(year, \"is a leap year.\")\n",
    "    elif year % 400 == 0:\n",
    "        print(year, \"is a leap year.\")\n",
    "    else:\n",
    "        print(year, \"is not a leap year.\")\n",
    "else:\n",
    "    print(year, \"is not a leap year.\")\n"
   ]
  },
  {
   "cell_type": "markdown",
   "id": "4f23ec7a-2a12-44b5-8b20-3c9865ad81cd",
   "metadata": {},
   "source": [
    "13. Develop a program that calculates the factorial of a given number using recursion."
   ]
  },
  {
   "cell_type": "code",
   "execution_count": 1,
   "id": "3e99e90f-a7c2-413e-ae61-d30580ab13f2",
   "metadata": {},
   "outputs": [
    {
     "name": "stdout",
     "output_type": "stream",
     "text": [
      "24\n"
     ]
    }
   ],
   "source": [
    "def fact_rec(n):\n",
    "\tif n < 0:\n",
    "\t\treturn\n",
    "\telif n <= 1:\n",
    "\t\treturn 1\n",
    "\telse:\n",
    "\t\treturn n*fact_rec(n-1)\n",
    "\n",
    "print(fact_rec(4))"
   ]
  },
  {
   "cell_type": "markdown",
   "id": "d6097fab-aa47-4925-a21b-d7ec05b142f1",
   "metadata": {},
   "source": [
    "Write a program that calculates the average of a list of numbers, excluding the smallest and largest values.\n"
   ]
  },
  {
   "cell_type": "code",
   "execution_count": 15,
   "id": "4a37994d-323c-4b0e-8e8e-cdcb3449ebd9",
   "metadata": {},
   "outputs": [
    {
     "name": "stdout",
     "output_type": "stream",
     "text": [
      "4.5\n"
     ]
    }
   ],
   "source": [
    "numbers=[1,2,3,4,5,6,7,8]\n",
    "x = sum(numbers)\n",
    "    \n",
    "smallest = min(numbers)\n",
    "largest = max(numbers)\n",
    "x=x-smallest-largest\n",
    "avg=x/(len(numbers)-2)\n",
    "print(avg)"
   ]
  },
  {
   "cell_type": "markdown",
   "id": "01eb1964-63f6-4216-a9bf-e498d18289b9",
   "metadata": {},
   "source": [
    "18. Develop a program that converts a given temperature from Celsius to Fahrenheit."
   ]
  },
  {
   "cell_type": "code",
   "execution_count": 16,
   "id": "ea0e4f80-627d-49cf-965f-88b041f69235",
   "metadata": {},
   "outputs": [
    {
     "name": "stdout",
     "output_type": "stream",
     "text": [
      "37.5 degree Celsius is equal to 99.5 degree Fahrenheit\n"
     ]
    }
   ],
   "source": [
    "celsius = 37.5\n",
    "\n",
    "# calculate fahrenheit\n",
    "fahrenheit = (celsius * 1.8) + 32\n",
    "print('%0.1f degree Celsius is equal to %0.1f degree Fahrenheit' %(celsius,fahrenheit))"
   ]
  },
  {
   "cell_type": "markdown",
   "id": "f54b0009-cc4a-414a-83ce-68d96992f3ef",
   "metadata": {},
   "source": [
    "20. Write a program that determines the roots of a cubic equation using the Cardano formula.\n"
   ]
  },
  {
   "cell_type": "code",
   "execution_count": 17,
   "id": "4f26675d-b249-4730-b1a1-4a7d6f74d755",
   "metadata": {},
   "outputs": [],
   "source": [
    "def solve(a,b,c,d):\n",
    "    Q = (3*a*c - (b**2)) / (9*(a**2))\n",
    "    R = (9*a*b*c - 27*(a**2)*d - 2*(b**3)) / (54*(a**3))\n",
    "    D = (Q**3) + (R**2)\n",
    "    S = (R + (D**(1/2)))**(1/3)\n",
    "    T = (R - (D**(1/2)))**(1/3)\n",
    "\n",
    "    x1 = S + T - (b/(3*a))\n",
    "    x2 = -((S + T)/2) - (b/(3*a)) + 0.5j * (3**(1/2)) * (S - T)\n",
    "    x3 = -((S + T)/2) - (b/(3*a)) - 0.5j * (3**(1/2)) * (S - T)\n",
    "\n",
    "print(x1,x2,x3)"
   ]
  },
  {
   "cell_type": "code",
   "execution_count": null,
   "id": "ed8aadaa-2a75-4757-a50d-4a73a088e7c6",
   "metadata": {},
   "outputs": [],
   "source": []
  },
  {
   "cell_type": "markdown",
   "id": "af349ee9-a446-4f6c-983e-f4d1b930b184",
   "metadata": {},
   "source": [
    "### 21. Create a program that calculates the income tax based on the user's income and tax brackets."
   ]
  },
  {
   "cell_type": "code",
   "execution_count": 18,
   "id": "c39094ac-293b-448f-96a0-cd8d77b20e87",
   "metadata": {},
   "outputs": [
    {
     "name": "stdin",
     "output_type": "stream",
     "text": [
      "What's your \t\t\t\t\tannual income?\n",
      ">>>  2000000\n"
     ]
    },
    {
     "name": "stdout",
     "output_type": "stream",
     "text": [
      "Total tax applicable at \t\t\t\t\t₹2000000.0 is ₹337500.0\n"
     ]
    }
   ],
   "source": [
    "def calculate(amount, percent):\n",
    "\treturn (amount * percent) / 100\n",
    "\n",
    "def calculate_income_tax(total_income:\n",
    "\t\t\t\t\t\tfloat) -> float:\n",
    "\n",
    "\tif total_income <= 250000:\n",
    "\t\treturn 0\n",
    "\telif total_income <= 500000:\n",
    "\t\treturn calculate(total_income -\n",
    "\t\t\t\t\t\t250000, 5)\n",
    "\telif total_income <= 750000:\n",
    "\t\treturn calculate(total_income -\n",
    "\t\t\t\t\t\t500000, 10) + 12500\n",
    "\telif total_income <= 1000000:\n",
    "\t\treturn calculate(total_income -\n",
    "\t\t\t\t\t\t750000, 15) + 37500\n",
    "\telif total_income <= 1250000:\n",
    "\t\treturn calculate(total_income -\n",
    "\t\t\t\t\t\t1000000, 20) + 75000\n",
    "\telif total_income <= 1500000:\n",
    "\t\treturn calculate(total_income -\n",
    "\t\t\t\t\t\t1250000, 25) + 125000\n",
    "\telse:\n",
    "\t\treturn calculate(total_income -\n",
    "\t\t\t\t\t\t1500000, 30) + 187500\n",
    "\n",
    "\n",
    "if __name__ == '__main__':\n",
    "\ttotal_income = float(input(\"What's your \\\n",
    "\t\t\t\t\tannual income?\\n>>> \"))\n",
    "\ttax = calculate_income_tax(total_income)\n",
    "\tprint(f\"Total tax applicable at \\\n",
    "\t\t\t\t\t₹{total_income} is ₹{tax}\")\n",
    "\n",
    "    "
   ]
  },
  {
   "cell_type": "markdown",
   "id": "5713d9ef-61e8-4f67-ad1e-e51511c2e9b1",
   "metadata": {},
   "source": [
    "### 22. Write a program that simulates a rock-paper-scissors game against the computer."
   ]
  },
  {
   "cell_type": "code",
   "execution_count": 20,
   "id": "0804d23e-529b-4d06-b7c4-2bfed046d05b",
   "metadata": {},
   "outputs": [
    {
     "name": "stdin",
     "output_type": "stream",
     "text": [
      "Enter a choice (rock, paper, scissors):  paper\n"
     ]
    },
    {
     "name": "stdout",
     "output_type": "stream",
     "text": [
      "Player: paper\n",
      "Computer: rock\n",
      "You win!\n"
     ]
    },
    {
     "name": "stdin",
     "output_type": "stream",
     "text": [
      "Play again? (y/n):  n\n"
     ]
    },
    {
     "name": "stdout",
     "output_type": "stream",
     "text": [
      "Thanks for playing!\n"
     ]
    }
   ],
   "source": [
    "import random\n",
    "\n",
    "options = (\"rock\", \"paper\", \"scissors\")\n",
    "running = True\n",
    "\n",
    "while running:\n",
    "\n",
    "    player = None\n",
    "    computer = random.choice(options)\n",
    "\n",
    "    while player not in options:\n",
    "        player = input(\"Enter a choice (rock, paper, scissors): \")\n",
    "\n",
    "    print(f\"Player: {player}\")\n",
    "    print(f\"Computer: {computer}\")\n",
    "\n",
    "    if player == computer:\n",
    "        print(\"It's a tie!\")\n",
    "    elif player == \"rock\" and computer == \"scissors\":\n",
    "        print(\"You win!\")\n",
    "    elif player == \"paper\" and computer == \"rock\":\n",
    "        print(\"You win!\")\n",
    "    elif player == \"scissors\" and computer == \"paper\":\n",
    "        print(\"You win!\")\n",
    "    else:\n",
    "        print(\"You lose!\")\n",
    "\n",
    "    if not input(\"Play again? (y/n): \").lower() == \"y\":\n",
    "        running = False\n",
    "\n",
    "print(\"Thanks for playing!\")"
   ]
  },
  {
   "cell_type": "markdown",
   "id": "6a87f81d-8945-4434-a31f-8e51a8011744",
   "metadata": {},
   "source": [
    "## 23. Develop a program that generates a random password based on user preferences (length, complexity)."
   ]
  },
  {
   "cell_type": "code",
   "execution_count": 26,
   "id": "89c0354f-739b-4f31-8265-41522b866d63",
   "metadata": {},
   "outputs": [
    {
     "name": "stdout",
     "output_type": "stream",
     "text": [
      "x9qtgvAAfmGN\n"
     ]
    }
   ],
   "source": [
    "import string\n",
    "length=12\n",
    "complexity=3\n",
    "password = ''\n",
    "for i in range(length):\n",
    "    password += random.choice(string.ascii_letters + string.digits)\n",
    "\n",
    "print(password)"
   ]
  },
  {
   "cell_type": "markdown",
   "id": "3992be30-6a3d-47f7-88c3-653fb9c2f765",
   "metadata": {},
   "source": [
    "## 25. Build a program that solves a linear equation for x, considering different cases."
   ]
  },
  {
   "cell_type": "code",
   "execution_count": 27,
   "id": "5049f23f-f74b-4b38-b799-88b95f848e29",
   "metadata": {},
   "outputs": [
    {
     "name": "stdout",
     "output_type": "stream",
     "text": [
      "Input the value of a, b, c, d, e, f:\n"
     ]
    },
    {
     "name": "stdin",
     "output_type": "stream",
     "text": [
      " 5 8 6 7 9 4\n"
     ]
    },
    {
     "name": "stdout",
     "output_type": "stream",
     "text": [
      "Values of x and y:\n",
      "-2.000 2.000\n"
     ]
    }
   ],
   "source": [
    "print(\"Input the value of a, b, c, d, e, f:\")\n",
    "a, b, c, d, e, f = map(float, input().split())\n",
    "n = a*e - b*d\n",
    "print(\"Values of x and y:\")\n",
    "if n != 0:\n",
    "    x = (c*e - b*f) / n\n",
    "    y = (a*f - c*d) / n\n",
    "    print('{:.3f} {:.3f}'.format(x+0, y+0))"
   ]
  },
  {
   "cell_type": "markdown",
   "id": "e0f35657-29a5-450a-8076-42af984ef089",
   "metadata": {},
   "source": [
    "32. Develop a program that performs matrix addition and subtraction based on user input."
   ]
  },
  {
   "cell_type": "code",
   "execution_count": 28,
   "id": "d1fd84ce-cdd3-4a58-85e4-58c64111e7c3",
   "metadata": {},
   "outputs": [
    {
     "name": "stdout",
     "output_type": "stream",
     "text": [
      "Printing elements of first matrix\n",
      "[[1 2]\n",
      " [3 4]]\n",
      "Printing elements of second matrix\n",
      "[[4 5]\n",
      " [6 7]]\n",
      "Addition of two matrix\n",
      "[[ 5  7]\n",
      " [ 9 11]]\n",
      "Substraction of two matrix\n",
      "[[-3 -3]\n",
      " [-3 -3]]\n"
     ]
    }
   ],
   "source": [
    "import numpy as np\n",
    "\n",
    "A = np.array([[1, 2], [3, 4]])\n",
    " \n",
    "# creating second matrix\n",
    "B = np.array([[4, 5], [6, 7]])\n",
    " \n",
    "print(\"Printing elements of first matrix\")\n",
    "print(A)\n",
    "print(\"Printing elements of second matrix\")\n",
    "print(B)\n",
    " \n",
    "# adding two matrix\n",
    "print(\"Addition of two matrix\")\n",
    "print(np.add(A, B))\n",
    "\n",
    "print(\"Substraction of two matrix\")\n",
    "print(np.subtract(A, B))"
   ]
  },
  {
   "cell_type": "markdown",
   "id": "5b88ad0b-2157-464c-8b4a-5d9b2e48d128",
   "metadata": {},
   "source": [
    "33. Write a program that calculates the greatest common divisor (GCD) of two numbers using the Euclidean algorithm."
   ]
  },
  {
   "cell_type": "code",
   "execution_count": 29,
   "id": "b0e9420e-5cfb-44f9-9a23-ddbf664f89d9",
   "metadata": {},
   "outputs": [
    {
     "name": "stdout",
     "output_type": "stream",
     "text": [
      "5\n",
      "12\n"
     ]
    }
   ],
   "source": [
    "def gcd(a,b):\n",
    "    while(b != 0):\n",
    "        a, b = b, a % b\n",
    "    return abs(a)\n",
    "print(gcd(10, 5))  \n",
    "print(gcd(48, 36))"
   ]
  },
  {
   "cell_type": "markdown",
   "id": "5b89c44c-7a8d-4d26-93f8-038bd62f3da3",
   "metadata": {},
   "source": [
    "## 34. Build a program that performs matrix multiplication using nested loops and conditional statements."
   ]
  },
  {
   "cell_type": "code",
   "execution_count": null,
   "id": "dcb36ad6-4117-4b65-8136-7c09f852d337",
   "metadata": {},
   "outputs": [],
   "source": []
  }
 ],
 "metadata": {
  "kernelspec": {
   "display_name": "Python 3 (ipykernel)",
   "language": "python",
   "name": "python3"
  },
  "language_info": {
   "codemirror_mode": {
    "name": "ipython",
    "version": 3
   },
   "file_extension": ".py",
   "mimetype": "text/x-python",
   "name": "python",
   "nbconvert_exporter": "python",
   "pygments_lexer": "ipython3",
   "version": "3.10.8"
  }
 },
 "nbformat": 4,
 "nbformat_minor": 5
}
