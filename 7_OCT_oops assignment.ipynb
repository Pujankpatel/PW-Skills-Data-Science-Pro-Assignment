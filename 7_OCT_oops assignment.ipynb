{
 "cells": [
  {
   "cell_type": "markdown",
   "id": "0ff8781b-e031-4128-a972-b67edeb2014d",
   "metadata": {},
   "source": [
    "### Problem 1: Bank Account Create a class representing a bank account with attributes like account number, account holder name, and balance. Implement methods to deposit and withdraw money from the account."
   ]
  },
  {
   "cell_type": "code",
   "execution_count": 9,
   "id": "14c5206c-aa84-4b6f-8f23-29fb57b03e98",
   "metadata": {},
   "outputs": [],
   "source": [
    "class bank_account:\n",
    "    \n",
    "    def __init__(self):\n",
    "        self.username=\"Pujan\"\n",
    "        self.balance=0\n",
    "        print(f\"Hello!!! {self.username} Welcome to the Deposit & Withdrawal Machine\")\n",
    "\n",
    "    def deposit(self):\n",
    "        amount=float(input(\"Enter amount to be Deposited: \"))\n",
    "        self.balance += amount\n",
    "        print(\"\\n Amount Deposited:\",amount)\n",
    "    def withdraw(self):\n",
    "        amount=float(input(\"Enter amount to be withraw: \"))\n",
    "        if (self.balance>=0):\n",
    "            print(\"\\n Amount withdraw:\",amount)\n",
    "            self.balance=self.balance-amount\n",
    "            print(\"\\n Amount remaining: \",self.balance)\n",
    "        else:\n",
    "            print(\"\\n Insufficient balance  \")\n",
    "   \n",
    "    def display(self):\n",
    "        print(\"\\n Net Available Balance=\",self.balance)\n",
    "    "
   ]
  },
  {
   "cell_type": "code",
   "execution_count": 10,
   "id": "9f47dfea-2433-4315-824b-c44eb9f84b50",
   "metadata": {},
   "outputs": [
    {
     "name": "stdout",
     "output_type": "stream",
     "text": [
      "Hello!!! Pujan Welcome to the Deposit & Withdrawal Machine\n"
     ]
    }
   ],
   "source": [
    "pujan=bank_account()"
   ]
  },
  {
   "cell_type": "code",
   "execution_count": 11,
   "id": "40ff810d-786b-442b-9cbc-bae918e4f8a9",
   "metadata": {},
   "outputs": [
    {
     "name": "stdin",
     "output_type": "stream",
     "text": [
      "Enter amount to be Deposited:  1000000\n"
     ]
    },
    {
     "name": "stdout",
     "output_type": "stream",
     "text": [
      "\n",
      " Amount Deposited: 1000000.0\n"
     ]
    }
   ],
   "source": [
    "pujan.deposit()"
   ]
  },
  {
   "cell_type": "code",
   "execution_count": 12,
   "id": "c0e253f9-b467-4362-941a-9d20417807d3",
   "metadata": {},
   "outputs": [
    {
     "name": "stdin",
     "output_type": "stream",
     "text": [
      "Enter amount to be withraw:  12000\n"
     ]
    },
    {
     "name": "stdout",
     "output_type": "stream",
     "text": [
      "\n",
      " Amount withdraw: 12000.0\n",
      "\n",
      " Amount remaining:  988000.0\n"
     ]
    }
   ],
   "source": [
    "pujan.withdraw()"
   ]
  },
  {
   "cell_type": "code",
   "execution_count": 13,
   "id": "be9b5517-6cf5-4fef-8251-0703ce708d92",
   "metadata": {},
   "outputs": [
    {
     "name": "stdout",
     "output_type": "stream",
     "text": [
      "\n",
      " Net Available Balance= 988000.0\n"
     ]
    }
   ],
   "source": [
    "pujan.display()"
   ]
  },
  {
   "cell_type": "code",
   "execution_count": null,
   "id": "7c783de8-2e91-4728-9c8f-21e5bd922451",
   "metadata": {},
   "outputs": [],
   "source": []
  },
  {
   "cell_type": "markdown",
   "id": "b38008bb-46a0-4352-a9c4-f5fd6f313d0f",
   "metadata": {},
   "source": [
    "### Problem 2: Employee Management Create a class representing an employee with attributes like employee ID, name, and salary. Implement methods to calculate the yearly bonus and display employee details."
   ]
  },
  {
   "cell_type": "code",
   "execution_count": 14,
   "id": "8b84b67b-afb7-43c7-9cd6-df6f66c22615",
   "metadata": {},
   "outputs": [],
   "source": [
    "class Employee:\n",
    "    def __init__(self, emp_id, name, salary):\n",
    "        self.emp_id = emp_id\n",
    "        self.name = name\n",
    "        self.salary = salary\n",
    "\n",
    "    def calculate_yearly_bonus(self, bonus_percentage):\n",
    "        bonus = (bonus_percentage / 100) * self.salary\n",
    "        return bonus\n",
    "\n",
    "    def display_details(self):\n",
    "        print(f\"Employee ID: {self.emp_id}\")\n",
    "        print(f\"Name: {self.name}\")\n",
    "        print(f\"Salary: ${self.salary}\")"
   ]
  },
  {
   "cell_type": "code",
   "execution_count": 16,
   "id": "a6db8b84-eb25-49f9-81b6-fd477e9f4486",
   "metadata": {},
   "outputs": [],
   "source": [
    "p=Employee(1,'pkpatel',123456789)"
   ]
  },
  {
   "cell_type": "code",
   "execution_count": 17,
   "id": "4e529e7b-7326-43c0-910c-739a6ff46db9",
   "metadata": {},
   "outputs": [
    {
     "data": {
      "text/plain": [
       "24691357.8"
      ]
     },
     "execution_count": 17,
     "metadata": {},
     "output_type": "execute_result"
    }
   ],
   "source": [
    "p.calculate_yearly_bonus(20)"
   ]
  },
  {
   "cell_type": "code",
   "execution_count": 18,
   "id": "bbbe8382-8c5a-403a-87d8-6bc3c27f1c98",
   "metadata": {},
   "outputs": [
    {
     "name": "stdout",
     "output_type": "stream",
     "text": [
      "Employee ID: 1\n",
      "Name: pkpatel\n",
      "Salary: $123456789\n"
     ]
    }
   ],
   "source": [
    "p.display_details()"
   ]
  },
  {
   "cell_type": "code",
   "execution_count": null,
   "id": "63ebc3cc-e557-4f45-92b2-82402f3d2c1e",
   "metadata": {},
   "outputs": [],
   "source": []
  },
  {
   "cell_type": "markdown",
   "id": "4b258928-c829-4128-b1cd-87c319c89bf8",
   "metadata": {},
   "source": [
    "### Problem 3: Vehicle Rental Create a class representing a vehicle rental system. Implement methods to rent a vehicle, return a vehicle, and display available vehicles."
   ]
  },
  {
   "cell_type": "code",
   "execution_count": 19,
   "id": "c345565e-82b3-45d3-859d-5603c7e94374",
   "metadata": {},
   "outputs": [
    {
     "name": "stdout",
     "output_type": "stream",
     "text": [
      "Vehicle 1 rented successfully.\n",
      "Available Vehicles:\n",
      "ID: 2, Type: Motorcycle\n",
      "ID: 3, Type: Van\n",
      "Vehicle 1 returned successfully.\n",
      "Available Vehicles:\n",
      "ID: 1, Type: Car\n",
      "ID: 2, Type: Motorcycle\n",
      "ID: 3, Type: Van\n"
     ]
    }
   ],
   "source": [
    "class Vehicle:\n",
    "    def __init__(self, vehicle_id, vehicle_type, available=True):\n",
    "        self.vehicle_id = vehicle_id\n",
    "        self.vehicle_type = vehicle_type\n",
    "        self.available = available\n",
    "\n",
    "class VehicleRentalSystem:\n",
    "    def __init__(self):\n",
    "        self.vehicles = []\n",
    "\n",
    "    def add_vehicle(self, vehicle_id, vehicle_type):\n",
    "        vehicle = Vehicle(vehicle_id, vehicle_type)\n",
    "        self.vehicles.append(vehicle)\n",
    "\n",
    "    def rent_vehicle(self, vehicle_id):\n",
    "        for vehicle in self.vehicles:\n",
    "            if vehicle.vehicle_id == vehicle_id and vehicle.available:\n",
    "                vehicle.available = False\n",
    "                print(f\"Vehicle {vehicle_id} rented successfully.\")\n",
    "                return\n",
    "        print(f\"Vehicle {vehicle_id} is either unavailable or does not exist.\")\n",
    "\n",
    "    def return_vehicle(self, vehicle_id):\n",
    "        for vehicle in self.vehicles:\n",
    "            if vehicle.vehicle_id == vehicle_id and not vehicle.available:\n",
    "                vehicle.available = True\n",
    "                print(f\"Vehicle {vehicle_id} returned successfully.\")\n",
    "                return\n",
    "        print(f\"Vehicle {vehicle_id} cannot be returned or does not exist.\")\n",
    "\n",
    "    def display_available_vehicles(self):\n",
    "        available_vehicles = [vehicle for vehicle in self.vehicles if vehicle.available]\n",
    "        if available_vehicles:\n",
    "            print(\"Available Vehicles:\")\n",
    "            for vehicle in available_vehicles:\n",
    "                print(f\"ID: {vehicle.vehicle_id}, Type: {vehicle.vehicle_type}\")\n",
    "        else:\n",
    "            print(\"No vehicles available.\")\n",
    "\n",
    "# Example usage:\n",
    "rental_system = VehicleRentalSystem()\n",
    "rental_system.add_vehicle(1, \"Car\")\n",
    "rental_system.add_vehicle(2, \"Motorcycle\")\n",
    "rental_system.add_vehicle(3, \"Van\")\n",
    "\n",
    "rental_system.rent_vehicle(1)\n",
    "rental_system.display_available_vehicles()\n",
    "\n",
    "rental_system.return_vehicle(1)\n",
    "rental_system.display_available_vehicles()\n"
   ]
  },
  {
   "cell_type": "code",
   "execution_count": null,
   "id": "987d837b-6b62-4ca7-bb9c-48a4ce1a5582",
   "metadata": {},
   "outputs": [],
   "source": []
  },
  {
   "cell_type": "markdown",
   "id": "18366749-3843-440e-844f-8c508223ae3b",
   "metadata": {},
   "source": [
    "### Problem 4: Library Catalog Create classes representing a library and a book. Implement methods to add books to the library, borrow books, and display available books."
   ]
  },
  {
   "cell_type": "code",
   "execution_count": null,
   "id": "5d4957ca-820d-431f-8081-5ab143bc1fbd",
   "metadata": {},
   "outputs": [],
   "source": [
    "class library_catalog:\n",
    "    def __init__(self):\n",
    "        self.avb=0\n",
    "    \n",
    "    def add_book(self):\n",
    "        book=print(str(input(\"Enter the name of book: \")))\n",
    "        self.avb+=1\n",
    "        print(f\"{book} is added\")\n",
    "    \n",
    "    def borrow_book(self):\n",
    "        "
   ]
  },
  {
   "cell_type": "code",
   "execution_count": null,
   "id": "554fbad0-324b-44f8-993e-805454578f5a",
   "metadata": {},
   "outputs": [],
   "source": []
  },
  {
   "cell_type": "markdown",
   "id": "304262c7-cb72-4c6d-8076-b9c536c6a6a5",
   "metadata": {},
   "source": [
    "### Problem 5: Product Inventory Create classes representing a product and an inventory system. Implement methods to add products to the inventory, update product quantity, and display available products."
   ]
  },
  {
   "cell_type": "code",
   "execution_count": 12,
   "id": "c6dfc837-cd42-4c91-869a-db6889dce747",
   "metadata": {},
   "outputs": [],
   "source": [
    "class Product:\n",
    "    def __init__(self,product_id,name,price,quantity):\n",
    "        self.product_id=product_id\n",
    "        self.name=name\n",
    "        self.price=price\n",
    "        self.quantity=quantity\n",
    "        \n",
    "class inventorysystem:\n",
    "    def __init__(self):\n",
    "        self.product=[]\n",
    "        \n",
    "    def add_product(self,product_id,name,price,quantity):\n",
    "        product=Product(product_id,name,price,quantity)\n",
    "        self.product.append(product)\n",
    "        \n",
    "    def update_product(self,product_id,new_quantity):\n",
    "        for product in self.product:\n",
    "            if product.product_id==product_id:\n",
    "                product.quantity+=new_quantity\n",
    "                print(f\"Quantity of {product.name} updated to {new_quantity}.\")\n",
    "                return\n",
    "        print(\"Product not found in inventory.\")\n",
    "        \n",
    "    def display_available_product(self):\n",
    "        available_product=[product for product in self.product if product.quantity>0]\n",
    "        if available_product:\n",
    "            print(\"Product available\")\n",
    "            for product in available_product:\n",
    "                    print(f\"ID: {product.product_id}, Name: {product.name}, Price: ${product.price}, Quantity: {product.quantity}\")\n",
    "        else:\n",
    "            print(\"No products available.\")\n",
    "            \n",
    "            \n"
   ]
  },
  {
   "cell_type": "code",
   "execution_count": 13,
   "id": "c51a9e55-97de-41fa-9dea-b641b63e0b20",
   "metadata": {},
   "outputs": [
    {
     "name": "stdout",
     "output_type": "stream",
     "text": [
      "Quantity of Mouse updated to 50.\n",
      "Product available\n",
      "ID: 1, Name: Keyboard, Price: $25, Quantity: 50\n",
      "ID: 2, Name: Mouse, Price: $15, Quantity: 120\n",
      "ID: 3, Name: Monitor, Price: $150, Quantity: 30\n",
      "Product not found in inventory.\n"
     ]
    }
   ],
   "source": [
    "inventory = inventorysystem()\n",
    "inventory.add_product(1, \"Keyboard\", 25, 50)\n",
    "inventory.add_product(2, \"Mouse\", 15, 70)\n",
    "inventory.add_product(3, \"Monitor\", 150, 30)\n",
    "\n",
    "inventory.update_product(2, 50)\n",
    "inventory.display_available_product()\n",
    "\n",
    "inventory.update_product(4, 20)"
   ]
  },
  {
   "cell_type": "code",
   "execution_count": null,
   "id": "c9dbb03c-5ce4-4e8b-b446-eefaa3ec4ebd",
   "metadata": {},
   "outputs": [],
   "source": []
  },
  {
   "cell_type": "markdown",
   "id": "166d6f2b-13d2-4510-a57e-867174e815fe",
   "metadata": {},
   "source": [
    "### Problem 6: Shape Calculation Create a class representing a shape with attributes like length, width, and height. Implement methods to calculate the area and perimeter of the shape."
   ]
  },
  {
   "cell_type": "code",
   "execution_count": null,
   "id": "4d5b5fc7-5f2d-478c-b3b6-88fa937d808a",
   "metadata": {},
   "outputs": [],
   "source": [
    "class Shape:\n",
    "    def __init__(self, length=0, width=0, height=0):\n",
    "        self.length = length\n",
    "        self.width = width\n",
    "        self.height = height\n",
    "\n",
    "    def calculate_area(self):\n",
    "        pass  # This method will be overridden in the derived classes\n",
    "\n",
    "    def calculate_perimeter(self):\n",
    "        pass  # This method will be overridden in the derived classes\n",
    "\n",
    "class Rectangle(Shape):\n",
    "    def calculate_area(self):\n",
    "        return self.length * self.width\n",
    "    \n",
    "    def calculate_parameter(self):\n",
    "        return 2 * (self.length + self.width)\n",
    "\n",
    "class Square(Shape):\n",
    "    def calculate_area(self):\n",
    "        return self.length * self.width\n",
    "    \n",
    "    def calculate_parameter(self):\n",
    "        return 2 * (self.length + self.width)\n",
    "    \n",
    "class Triangle(Shape):\n",
    "    def calculate_area(self):\n",
    "        return 0.5 * self.base * self.height\n",
    "\n",
    "    def calculate_perimeter(self):\n",
    "        return \"Perimeter calculation requires additional information.\"\n"
   ]
  },
  {
   "cell_type": "code",
   "execution_count": 49,
   "id": "b5526dbf-256b-41a2-a9b9-e48fb14aa0b7",
   "metadata": {},
   "outputs": [
    {
     "name": "stdout",
     "output_type": "stream",
     "text": [
      "Rectangle:\n",
      "Area: 15\n",
      "Perimeter: None\n"
     ]
    }
   ],
   "source": [
    "rectangle = Rectangle(length=5, width=3)\n",
    "print(\"Rectangle:\")\n",
    "print(\"Area:\", rectangle.calculate_area())\n",
    "print(\"Perimeter:\", rectangle.calculate_perimeter())\n",
    "\n"
   ]
  },
  {
   "cell_type": "code",
   "execution_count": null,
   "id": "62ff4a68-dded-44f1-bc2f-86697f7a5247",
   "metadata": {},
   "outputs": [],
   "source": []
  },
  {
   "cell_type": "markdown",
   "id": "094243e4-c469-4823-8117-89eb34702873",
   "metadata": {},
   "source": [
    "### Problem 7: Student Management Create a class representing a student with attributes like student ID, name, and grades. Implement methods to calculate the average grade and display student details."
   ]
  },
  {
   "cell_type": "code",
   "execution_count": 61,
   "id": "edaa4bb4-68eb-483b-80d6-7ac26db64298",
   "metadata": {},
   "outputs": [],
   "source": [
    "class grade:\n",
    "    def __init__(self,student_id,name,grades=None):\n",
    "        self.student_id=student_id\n",
    "        self.name=name\n",
    "        self.grades=grades if grades else []\n",
    "    \n",
    "    def add_grade(self,grade):\n",
    "        self.grades.append(grade)\n",
    "        \n",
    "    def avg_grade(self):\n",
    "        return sum(self.grades)/len(self.grades)\n",
    "    \n",
    "    def display(self):\n",
    "        print(f\"Student ID {self.student_id}\")\n",
    "        print(f\"Name of student {self.student_id}\")\n",
    "        if self.grades:\n",
    "            print(f\"Grades {self.grades}\")\n",
    "            print(f\"Average Grades {self.avg_grade()}\")\n",
    "        else:\n",
    "            print(\"Grade no available\")\n",
    "        "
   ]
  },
  {
   "cell_type": "code",
   "execution_count": 62,
   "id": "52b27914-d2d5-4b01-be34-b5b1858bfdb3",
   "metadata": {},
   "outputs": [
    {
     "name": "stdout",
     "output_type": "stream",
     "text": [
      "Student ID 1\n",
      "Name of student 1\n",
      "Grades [85, 90, 78, 92]\n",
      "Average Grades 86.25\n"
     ]
    }
   ],
   "source": [
    "student1 = grade(1, \"Alice\", [85, 90, 78, 92])\n",
    "student1.display()"
   ]
  },
  {
   "cell_type": "code",
   "execution_count": null,
   "id": "edd9d5ee-8cdf-4435-b8f0-bbc2507bb10b",
   "metadata": {},
   "outputs": [],
   "source": []
  },
  {
   "cell_type": "markdown",
   "id": "05773b9f-31a2-405e-9e3f-54ede25a9e95",
   "metadata": {},
   "source": [
    "### Problem 8: Email Management Create a class representing an email with attributes like sender, recipient, and subject. Implement methods to send an email and display email details."
   ]
  },
  {
   "cell_type": "code",
   "execution_count": 63,
   "id": "3f4896b1-7b76-4cd6-a37f-3edcbd6c96be",
   "metadata": {},
   "outputs": [
    {
     "name": "stdout",
     "output_type": "stream",
     "text": [
      "Email Details:\n",
      "Sender: sender@example.com\n",
      "Recipient: recipient@example.com\n",
      "Subject: Greetings!\n",
      "Email sent from sender@example.com to recipient@example.com with subject: 'Greetings!'\n",
      "Email Details:\n",
      "Sender: john@example.com\n",
      "Recipient: mary@example.com\n",
      "Subject: Meeting Agenda\n",
      "Email sent from john@example.com to mary@example.com with subject: 'Meeting Agenda'\n"
     ]
    }
   ],
   "source": [
    "class Email:\n",
    "    def __init__(self, sender, recipient, subject):\n",
    "        self.sender = sender\n",
    "        self.recipient = recipient\n",
    "        self.subject = subject\n",
    "\n",
    "    def send_email(self):\n",
    "        # Simulating the process of sending an email\n",
    "        print(f\"Email sent from {self.sender} to {self.recipient} with subject: '{self.subject}'\")\n",
    "\n",
    "    def display_email_details(self):\n",
    "        print(\"Email Details:\")\n",
    "        print(f\"Sender: {self.sender}\")\n",
    "        print(f\"Recipient: {self.recipient}\")\n",
    "        print(f\"Subject: {self.subject}\")\n",
    "\n",
    "# Example usage:\n",
    "email1 = Email(\"sender@example.com\", \"recipient@example.com\", \"Greetings!\")\n",
    "email1.display_email_details()\n",
    "email1.send_email()\n",
    "\n",
    "email2 = Email(\"john@example.com\", \"mary@example.com\", \"Meeting Agenda\")\n",
    "email2.display_email_details()\n",
    "email2.send_email()\n"
   ]
  },
  {
   "cell_type": "code",
   "execution_count": null,
   "id": "e2a964a2-118d-4146-8485-0ddb79f95376",
   "metadata": {},
   "outputs": [],
   "source": []
  },
  {
   "cell_type": "markdown",
   "id": "baf83c52-8267-4f27-a0db-112c22f0936e",
   "metadata": {},
   "source": [
    "### Problem 9: Social Media Profile Create a class representing a social media profile with attributes like username and posts. Implement methods to add posts, display posts, and search for posts by keyword."
   ]
  },
  {
   "cell_type": "code",
   "execution_count": 68,
   "id": "9fa19ef3-86bd-4a1b-bebf-7b186199daf5",
   "metadata": {},
   "outputs": [],
   "source": [
    "class social_media:\n",
    "    def __init__(self,username):\n",
    "        self.username=username\n",
    "        self.post=[]\n",
    "    \n",
    "    def add_post(self,content):\n",
    "        self.post.append(content)\n",
    "    \n",
    "    def display(self):\n",
    "        print(f\"USER_NAME {self.username}\")\n",
    "        for index, post in enumerate(self.post, start=1):\n",
    "                print(f\"{index}. {post}\")\n",
    "    \n",
    "    def search(self,keyword):\n",
    "        matching_post=[post for post in self.post if keyword.lower() in post.lower()]\n",
    "        if matching_post:\n",
    "            print(f\"Matching posts for '{keyword}' by {self.username}:\")\n",
    "            for index, post in enumerate(matching_post, start=1):\n",
    "                print(f\"{index}. {post}\")\n",
    "        else:\n",
    "            print(f\"No matching posts found for '{keyword}' by {self.username}.\")"
   ]
  },
  {
   "cell_type": "code",
   "execution_count": 69,
   "id": "1f0cd821-3cbf-4033-8232-f942b9d60513",
   "metadata": {},
   "outputs": [
    {
     "name": "stdout",
     "output_type": "stream",
     "text": [
      "USER_NAME user123\n",
      "1. Hello everyone! Hope you're doing well.\n",
      "2. Enjoying a beautiful day!\n",
      "3. Just finished reading an amazing book.\n"
     ]
    }
   ],
   "source": [
    "profile = social_media(\"user123\")\n",
    "profile.add_post(\"Hello everyone! Hope you're doing well.\")\n",
    "profile.add_post(\"Enjoying a beautiful day!\")\n",
    "profile.add_post(\"Just finished reading an amazing book.\")\n",
    "\n",
    "profile.display()"
   ]
  },
  {
   "cell_type": "code",
   "execution_count": null,
   "id": "49f75954-4ee9-4008-992c-04f9b140d7d8",
   "metadata": {},
   "outputs": [],
   "source": []
  },
  {
   "cell_type": "markdown",
   "id": "3bcefe79-ffc1-4042-82b2-eab32ac2e607",
   "metadata": {},
   "source": [
    "### Problem 10: ToDo List Create a class representing a ToDo list with attributes like tasks and due dates. Implement methods to add tasks, mark tasks as completed, and display pending tasks."
   ]
  },
  {
   "cell_type": "code",
   "execution_count": null,
   "id": "01070d75-606a-4e32-b78f-5c4fbbf21cfd",
   "metadata": {},
   "outputs": [],
   "source": []
  }
 ],
 "metadata": {
  "kernelspec": {
   "display_name": "Python 3 (ipykernel)",
   "language": "python",
   "name": "python3"
  },
  "language_info": {
   "codemirror_mode": {
    "name": "ipython",
    "version": 3
   },
   "file_extension": ".py",
   "mimetype": "text/x-python",
   "name": "python",
   "nbconvert_exporter": "python",
   "pygments_lexer": "ipython3",
   "version": "3.10.8"
  }
 },
 "nbformat": 4,
 "nbformat_minor": 5
}
