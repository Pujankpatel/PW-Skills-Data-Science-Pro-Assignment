{
 "cells": [
  {
   "cell_type": "markdown",
   "id": "8c5f7ecd-336c-4e06-b5b0-06eb9e24962d",
   "metadata": {},
   "source": [
    "### 1. Given an array, check if it contains any duplicates or not.\n",
    "    arr = [1, 2, 4, 2, 5, 9]\n",
    "    Output = True"
   ]
  },
  {
   "cell_type": "code",
   "execution_count": 11,
   "id": "a5c79e35-2042-4f1e-8d7e-4e7a5c70673c",
   "metadata": {},
   "outputs": [
    {
     "name": "stdout",
     "output_type": "stream",
     "text": [
      "True\n"
     ]
    }
   ],
   "source": [
    "def dup(a):\n",
    "    n=set(a)\n",
    "    if(len(n)==len(a)):\n",
    "        print(\"False\")\n",
    "    else:\n",
    "        print(\"True\")\n",
    "\n",
    "\n",
    "arr = [1,2, 4, 2, 5, 9]\n",
    "dup(arr)"
   ]
  },
  {
   "cell_type": "markdown",
   "id": "1638482b-8e20-4ec8-99bb-e31f84e6094d",
   "metadata": {},
   "source": [
    "### 2. Given an array and an integer k, rotate the array to the right by k steps.\n",
    "    arr = [1, 2, 3, 4, 5, 6, 7] k = 3\n",
    "    Output = [5, 6, 7, 1, 2, 3, 4]"
   ]
  },
  {
   "cell_type": "code",
   "execution_count": 13,
   "id": "cc2be754-a48d-4187-b8a0-7ddcb8476d0d",
   "metadata": {},
   "outputs": [
    {
     "name": "stdout",
     "output_type": "stream",
     "text": [
      "[4, 5, 6, 1, 2, 3]\n"
     ]
    }
   ],
   "source": [
    "def rightRotate(lists, num):\n",
    "    output_list = []\n",
    " \n",
    "    # Will add values from n to the new list\n",
    "    for item in range(len(lists) - num, len(lists)):\n",
    "        output_list.append(lists[item])\n",
    " \n",
    "    # Will add the values before\n",
    "    # n to the end of new list\n",
    "    for item in range(0, len(lists) - num):\n",
    "        output_list.append(lists[item])\n",
    " \n",
    "    return output_list\n",
    "\n",
    "\n",
    "rotate_num = 3\n",
    "list_1 = [1, 2, 3, 4, 5, 6]\n",
    " \n",
    "print(rightRotate(list_1, rotate_num))"
   ]
  },
  {
   "cell_type": "markdown",
   "id": "daba037e-bc93-4abc-9ec0-643a40e778f1",
   "metadata": {},
   "source": [
    "### 3. Reverse the given array in-place, means without using any extra data structure.\n",
    "arr = [2, 4, 5, 7, 9, 12]\n",
    "Output = [12, 9, 7, 5, 4, 2]"
   ]
  },
  {
   "cell_type": "code",
   "execution_count": 16,
   "id": "103c8a67-779e-4cb3-b55d-9b7635caf96d",
   "metadata": {},
   "outputs": [
    {
     "name": "stdout",
     "output_type": "stream",
     "text": [
      "[12, 9, 7, 5, 4, 2]\n"
     ]
    }
   ],
   "source": [
    "def rev(a):\n",
    "    for i in range(int(len(a)/2)):\n",
    "        a[i],a[len(a)-1-i]=a[len(a)-1-i],a[i]\n",
    "    return a\n",
    "\n",
    "a=[2,4,5,7,9,12]\n",
    "print(rev(a))"
   ]
  },
  {
   "cell_type": "markdown",
   "id": "f04414ca-441a-4b31-8943-68c0f7ee86c5",
   "metadata": {},
   "source": [
    "### 4. Given an array of integers, find the maximum element in an array\n",
    "arr = [10, 5, 20, 8, 15]\n",
    "Output = 20"
   ]
  },
  {
   "cell_type": "code",
   "execution_count": 18,
   "id": "ea863a37-26bc-4c9c-be65-b5ad4b64106e",
   "metadata": {},
   "outputs": [
    {
     "name": "stdout",
     "output_type": "stream",
     "text": [
      "20\n"
     ]
    }
   ],
   "source": [
    "def maxi(a):\n",
    "    p=0\n",
    "    for i in range(len(a)):\n",
    "        p=max(p,a[i])\n",
    "    return p\n",
    "\n",
    "a=[10,5,20,8,15]\n",
    "print(maxi(a))"
   ]
  },
  {
   "cell_type": "markdown",
   "id": "2e9f2673-19da-4ccf-b9e2-69ea372e5969",
   "metadata": {},
   "source": [
    "### 5. Given a sorted array, remove the duplicate element without using any extra data structure.\n",
    "arr = [1, 1, 2, 2, 2, 3, 3, 4, 4, 4, 5, 5]\n",
    "Output = [1, 2, 3, 4, 5]"
   ]
  },
  {
   "cell_type": "code",
   "execution_count": null,
   "id": "0af9b7b6-2b90-4f0c-a1f9-3ccc7abee35b",
   "metadata": {},
   "outputs": [],
   "source": [
    "def remove_duplicates(arr):\n",
    "    i = 0\n",
    "    while i < len(arr) - 1:\n",
    "        if arr[i] != arr[i+1]:\n",
    "            i += 1\n",
    "        else:\n",
    "            arr.pop(i)\n",
    "    return arr\n",
    "\n"
   ]
  }
 ],
 "metadata": {
  "kernelspec": {
   "display_name": "Python 3 (ipykernel)",
   "language": "python",
   "name": "python3"
  },
  "language_info": {
   "codemirror_mode": {
    "name": "ipython",
    "version": 3
   },
   "file_extension": ".py",
   "mimetype": "text/x-python",
   "name": "python",
   "nbconvert_exporter": "python",
   "pygments_lexer": "ipython3",
   "version": "3.10.8"
  }
 },
 "nbformat": 4,
 "nbformat_minor": 5
}
