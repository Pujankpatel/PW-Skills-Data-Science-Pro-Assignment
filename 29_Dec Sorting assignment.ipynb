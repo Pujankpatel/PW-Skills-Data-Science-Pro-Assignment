{
 "cells": [
  {
   "cell_type": "markdown",
   "id": "9493124f-3f72-438a-9cf9-ed9ba40a53bc",
   "metadata": {},
   "source": [
    "### Problem 1.Given an array of n numbers, give an algorithm which gives the element appearing maximum number of times?\n",
    "\n",
    "\n"
   ]
  },
  {
   "cell_type": "code",
   "execution_count": 5,
   "id": "e6b28e2b-e87d-4dcc-bde5-decb15ce3698",
   "metadata": {},
   "outputs": [],
   "source": [
    "def countfrequency(a,n):\n",
    "    hash={}\n",
    "    for i in range(n):\n",
    "        if a[i] in hash.keys():\n",
    "            hash[a[i]]+=1\n",
    "        else:\n",
    "            hash[a[i]]=1\n",
    "            \n",
    "    max_count = 0\n",
    "    res = -1\n",
    "    for i in hash:  \n",
    "        if (max_count < hash[i]):  \n",
    "            res = i \n",
    "            max_count = hash[i] \n",
    "          \n",
    "    return res "
   ]
  },
  {
   "cell_type": "code",
   "execution_count": 6,
   "id": "c3eb568a-b63c-47a0-b481-cca595ad94ca",
   "metadata": {},
   "outputs": [
    {
     "name": "stdout",
     "output_type": "stream",
     "text": [
      "30\n"
     ]
    }
   ],
   "source": [
    "arr = [ 40,50,30,40,50,30,30]  \n",
    "n = len(arr) \n",
    "print(countfrequency(arr, n)) "
   ]
  },
  {
   "cell_type": "code",
   "execution_count": null,
   "id": "1a377c64-2256-4a17-a3b5-092f81181dab",
   "metadata": {},
   "outputs": [],
   "source": []
  },
  {
   "cell_type": "markdown",
   "id": "e88041ed-41f2-4b08-a7a0-3a7a86a09d11",
   "metadata": {},
   "source": [
    "### Problem 2 : We are given a list of n-1 integers and these integers are in the range of 1 to n . There are no duplicates in the list. One of the integers is missing in the list. Give an algorithm to find that element Ex: [1,2,4,6,3,7,8] 5 is the missing num.\n",
    "\n",
    "\n"
   ]
  },
  {
   "cell_type": "code",
   "execution_count": 7,
   "id": "5857bade-eb92-4bcb-a15b-660122b2b51f",
   "metadata": {},
   "outputs": [
    {
     "name": "stdout",
     "output_type": "stream",
     "text": [
      "The missing number is: 5\n"
     ]
    }
   ],
   "source": [
    "def findMissingNumber(arr, n):\n",
    "    # Calculate the sum of integers from 1 to n\n",
    "    total_sum = (n * (n + 1)) // 2\n",
    "\n",
    "    # Calculate the sum of elements in the given list\n",
    "    arr_sum = sum(arr)\n",
    "\n",
    "    # Find the missing number by subtracting the sum of the list from the total sum\n",
    "    missing_number = total_sum - arr_sum\n",
    "\n",
    "    return missing_number\n",
    "\n",
    "# Example usage:\n",
    "arr = [1, 2, 4, 6, 3, 7, 8]\n",
    "n = len(arr) + 1  # n = number of elements in arr + 1\n",
    "missing_num = findMissingNumber(arr, n)\n",
    "print(\"The missing number is:\", missing_num)"
   ]
  },
  {
   "cell_type": "markdown",
   "id": "c6c36423-1497-450b-b754-4acd384de76a",
   "metadata": {},
   "source": [
    "### Problem 3 : Given an array of n positive numbers. All numbers occurs even number of times except 1 which occurs odd number of times. Find that number in O(n) time and O(1) space. Ex: [1,2,3,2,3,1,3]. 3 is repeats odd times.\n",
    "\n",
    "\n"
   ]
  },
  {
   "cell_type": "code",
   "execution_count": 13,
   "id": "743ba21a-9a6b-46a2-b9a6-45acd50cdade",
   "metadata": {},
   "outputs": [],
   "source": [
    "def finde(a,n):\n",
    "    hash={}\n",
    "    for i in range(n):\n",
    "        if a[i] in hash.keys():\n",
    "            hash[a[i]]+=1\n",
    "        else:\n",
    "            hash[a[i]]=1\n",
    "    \n",
    "    for i in hash:\n",
    "        if hash[i]%2!=0:\n",
    "            return hash[i]\n",
    "            break"
   ]
  },
  {
   "cell_type": "code",
   "execution_count": 14,
   "id": "2a8a92c6-1959-4e83-89d2-af6de3cc05b3",
   "metadata": {},
   "outputs": [
    {
     "data": {
      "text/plain": [
       "3"
      ]
     },
     "execution_count": 14,
     "metadata": {},
     "output_type": "execute_result"
    }
   ],
   "source": [
    "a=[1,2,3,2,3,1,3]\n",
    "finde(a,len(a))"
   ]
  },
  {
   "cell_type": "markdown",
   "id": "5d388d1c-a60a-4ea5-8b68-1397a2e9d66a",
   "metadata": {},
   "source": [
    "### Problem 4 : Given an array of n elements. Find two elements in the array such that their sum is equal to given element K.\n",
    "\n",
    "\n"
   ]
  },
  {
   "cell_type": "code",
   "execution_count": 27,
   "id": "0fc54a9c-54ff-489c-8a47-5ef094a5c703",
   "metadata": {},
   "outputs": [],
   "source": [
    "def targetsum(a,n,k):\n",
    "    hash={}\n",
    "    for i in range(n):\n",
    "        temp=k-a[i]\n",
    "        if (temp in hash):\n",
    "            print(\"YES\")\n",
    "            return\n",
    "        else:\n",
    "            hash[a[i]] = i\n",
    "    print(\"No\")\n",
    " "
   ]
  },
  {
   "cell_type": "code",
   "execution_count": 28,
   "id": "eeb35458-3cc7-44aa-bddc-17b89255e16e",
   "metadata": {},
   "outputs": [
    {
     "name": "stdout",
     "output_type": "stream",
     "text": [
      "YES\n"
     ]
    }
   ],
   "source": [
    "A = [1, 4, 45, 6, 10, 8]\n",
    "k = 16\n",
    "targetsum(A, len(A), k)"
   ]
  },
  {
   "cell_type": "markdown",
   "id": "1e9d4dab-ce44-4406-97e7-36250abcc475",
   "metadata": {},
   "source": [
    "### Problem 5 : Given an array of both positive and negative numbers, find two numbers such that their sum is closest to 0. Ex: [ 1 ,60 ,-10, 70, -80,85]. Ans : -80,85.\n",
    "\n",
    "\n",
    "\n"
   ]
  },
  {
   "cell_type": "code",
   "execution_count": 58,
   "id": "12823df0-21b9-4dbd-a431-1549a8efbd13",
   "metadata": {},
   "outputs": [],
   "source": [
    "def findPairClosestToZero(arr):\n",
    "    arr.sort()  # Sort the array in non-decreasing order\n",
    "    left = 0\n",
    "    right = len(arr) - 1\n",
    "    min_sum = float('inf')\n",
    "    result = None\n",
    "\n",
    "    while left < right:\n",
    "        current_sum = arr[left] + arr[right]\n",
    "\n",
    "        if abs(current_sum) < abs(min_sum):\n",
    "            min_sum = current_sum\n",
    "            result = (arr[left], arr[right])\n",
    "\n",
    "        if current_sum < 0:\n",
    "            left += 1\n",
    "        elif current_sum > 0:\n",
    "            right -= 1\n",
    "        else:\n",
    "            return result\n",
    "\n",
    "    return result\n"
   ]
  },
  {
   "cell_type": "code",
   "execution_count": 59,
   "id": "323d3c28-7381-42cc-a1c0-89c56a724601",
   "metadata": {},
   "outputs": [
    {
     "name": "stdout",
     "output_type": "stream",
     "text": [
      "Two numbers closest to zero sum: (-80, 85)\n"
     ]
    }
   ],
   "source": [
    "\n",
    "arr = [1, 60, -10, 70, -80, 85]\n",
    "result = findPairClosestToZero(arr)\n",
    "print(\"Two numbers closest to zero sum:\", result)\n"
   ]
  },
  {
   "cell_type": "code",
   "execution_count": null,
   "id": "eeb1a594-eda7-4b80-ae16-d3b1e2ec9ed4",
   "metadata": {},
   "outputs": [],
   "source": []
  },
  {
   "cell_type": "markdown",
   "id": "d8cba85c-5942-4b56-b10f-2e3913a07aaa",
   "metadata": {},
   "source": [
    "### Problem 6 : Given an array of n elements . Find three elements such that their sum is equal to the given number.\n",
    "\n",
    "\n"
   ]
  },
  {
   "cell_type": "code",
   "execution_count": 71,
   "id": "961afb7d-547a-4ad1-b412-ce1d4e5b5ba4",
   "metadata": {},
   "outputs": [],
   "source": [
    "def ffsum(a,n,x):\n",
    "    a.sort()\n",
    "    for i in range(n-2):\n",
    "        l=i+1\n",
    "        r=n-1\n",
    "        while l<r:\n",
    "            if(a[i]+a[l]+a[r]==x):\n",
    "                return a[i],a[l],a[r]\n",
    "            elif (a[i]+a[l]+a[r]>x):\n",
    "                  r-=1\n",
    "            else:\n",
    "                l+=1\n",
    "    return None\n",
    "                \n",
    "                "
   ]
  },
  {
   "cell_type": "code",
   "execution_count": 72,
   "id": "9143ae41-7ba7-4fbc-b311-801ec7443bfb",
   "metadata": {},
   "outputs": [
    {
     "name": "stdout",
     "output_type": "stream",
     "text": [
      "Triplet with sum 22 found: (4, 8, 10)\n"
     ]
    }
   ],
   "source": [
    "arr = [1, 4, 45, 6, 10, 8]\n",
    "target = 22\n",
    "result = ffsum(arr,len(arr), target)\n",
    "if result:\n",
    "    print(f\"Triplet with sum {target} found:\", result)\n",
    "else:\n",
    "    print(\"No triplet found with the given sum.\")"
   ]
  },
  {
   "cell_type": "code",
   "execution_count": null,
   "id": "c205e34c-2dac-4429-951b-d6ada2c19e01",
   "metadata": {},
   "outputs": [],
   "source": []
  },
  {
   "cell_type": "markdown",
   "id": "92c0b214-8ad4-46a4-af70-3039f8b899fb",
   "metadata": {},
   "source": [
    "### Problem 7 : Given an array of n elements . Find three elements i, j, k in the array such that i * i + j * j = k*k.\n",
    "\n",
    "\n"
   ]
  },
  {
   "cell_type": "code",
   "execution_count": 74,
   "id": "82228499-c3af-4522-8994-9f7f949285bd",
   "metadata": {},
   "outputs": [
    {
     "name": "stdout",
     "output_type": "stream",
     "text": [
      "Triplet found: (3, 4, 5)\n"
     ]
    }
   ],
   "source": [
    "def findTripletWithSquares(arr):\n",
    "    squared_elements = {x * x for x in arr}  # Store squared elements in a set or dictionary\n",
    "\n",
    "    for i in range(len(arr)):\n",
    "        for j in range(i + 1, len(arr)):\n",
    "            i_squared = arr[i] * arr[i]\n",
    "            j_squared = arr[j] * arr[j]\n",
    "            sum_of_squares = i_squared + j_squared\n",
    "\n",
    "            if sum_of_squares in squared_elements:\n",
    "                # Find k that satisfies i*i + j*j = k*k\n",
    "                k = int(sum_of_squares ** 0.5)\n",
    "                return arr[i], arr[j], k\n",
    "\n",
    "    return None  # If no such triplet is found\n",
    "\n",
    "# Example usage:\n",
    "arr = [3, 1, 4, 6, 5]\n",
    "result = findTripletWithSquares(arr)\n",
    "if result:\n",
    "    print(\"Triplet found:\", result)\n",
    "else:\n",
    "    print(\"No such triplet exists.\")\n"
   ]
  },
  {
   "cell_type": "code",
   "execution_count": null,
   "id": "0817ccfc-a925-4f88-9f2a-90b4d7e8993f",
   "metadata": {},
   "outputs": [],
   "source": []
  },
  {
   "cell_type": "markdown",
   "id": "658b260e-0af3-4884-907f-7d9ec1a784c4",
   "metadata": {},
   "source": [
    "### Problem 8 : An element is a majority if it appears more than n/2 times. Give an algorithm takes an array of n element as argument and identifies a majority (if it exists).\n",
    "\n",
    "\n"
   ]
  },
  {
   "cell_type": "code",
   "execution_count": 82,
   "id": "497a68fb-a119-43cd-8840-3b9f1e670581",
   "metadata": {},
   "outputs": [],
   "source": [
    "def majo(a,n):\n",
    "    hash={}\n",
    "    for i in range(n):\n",
    "        if a[i] in hash.keys():\n",
    "            hash[a[i]]+=1\n",
    "        else:\n",
    "            hash[a[i]]=1\n",
    "    for i in hash:\n",
    "        if hash[i]>n/2:\n",
    "            return i\n",
    "            break"
   ]
  },
  {
   "cell_type": "code",
   "execution_count": 83,
   "id": "20613c20-7231-4d10-aba3-fdd8bb3e6352",
   "metadata": {},
   "outputs": [
    {
     "data": {
      "text/plain": [
       "1"
      ]
     },
     "execution_count": 83,
     "metadata": {},
     "output_type": "execute_result"
    }
   ],
   "source": [
    "a=[1,1,1,1,1,2,3,4]\n",
    "majo(a,len(a))"
   ]
  },
  {
   "cell_type": "code",
   "execution_count": null,
   "id": "e0240ed3-e2ab-42e1-b757-a98cb56e110f",
   "metadata": {},
   "outputs": [],
   "source": []
  },
  {
   "cell_type": "markdown",
   "id": "c5a351fd-d8cb-46c8-b680-d0a78b380e6f",
   "metadata": {},
   "source": [
    "### Problem 9 : Given n × n matrix, and in each row all 1’s are followed by 0’s. Find the row with the maximum number of 0’s.\n",
    "\n",
    "\n"
   ]
  },
  {
   "cell_type": "code",
   "execution_count": 84,
   "id": "6de9818e-63bd-4ca9-a28f-33aa87de3b68",
   "metadata": {},
   "outputs": [
    {
     "name": "stdout",
     "output_type": "stream",
     "text": [
      "The row with the maximum number of zeros is: 2\n"
     ]
    }
   ],
   "source": [
    "def rowWithMaxZeros(matrix):\n",
    "    n = len(matrix)\n",
    "    max_zeros = 0\n",
    "    max_zeros_row = -1\n",
    "\n",
    "    for i in range(n):\n",
    "        left = 0\n",
    "        right = n - 1\n",
    "        zeros_count = 0\n",
    "\n",
    "        # Binary search to find leftmost 0 in the row\n",
    "        while left <= right:\n",
    "            mid = left + (right - left) // 2\n",
    "\n",
    "            if matrix[i][mid] == 0:\n",
    "                zeros_count = mid + 1\n",
    "                left = mid + 1\n",
    "            else:\n",
    "                right = mid - 1\n",
    "\n",
    "        # Update max zeros count and row index if needed\n",
    "        if zeros_count > max_zeros:\n",
    "            max_zeros = zeros_count\n",
    "            max_zeros_row = i\n",
    "\n",
    "    return max_zeros_row\n",
    "\n",
    "# Example usage:\n",
    "matrix = [\n",
    "    [1, 1, 1, 0],\n",
    "    [1, 1, 0, 0],\n",
    "    [1, 0, 0, 0],\n",
    "    [1, 1, 1, 0]\n",
    "]\n",
    "\n",
    "result = rowWithMaxZeros(matrix)\n",
    "if result != -1:\n",
    "    print(f\"The row with the maximum number of zeros is: {result}\")\n",
    "else:\n",
    "    print(\"No row found with zeros.\")\n"
   ]
  },
  {
   "cell_type": "code",
   "execution_count": null,
   "id": "dd91a6b3-aa97-475f-94a4-646b603e158a",
   "metadata": {},
   "outputs": [],
   "source": []
  },
  {
   "cell_type": "markdown",
   "id": "9eb59f05-f4de-4c68-9c98-23ecc45cf8fc",
   "metadata": {},
   "source": [
    "### Problem 10 : Sort an array of 0’s, 1’s and 2’s [or R’s, G’s and B’s]: Given an array A[] consisting of 0’s, 1’s and 2’s, give an algorithm for sorting A[].The algorithm should put all 0’s first, then all 1’s and finally all 2’s at the end. Example Input = {0,1,1,0,1,2,1,2,0,0,0,1}, Output = {0,0,0,0,0,1,1,1,1,1,2,2}"
   ]
  },
  {
   "cell_type": "code",
   "execution_count": 85,
   "id": "32a9506e-ff0d-467a-8e0d-67429d4072e9",
   "metadata": {},
   "outputs": [
    {
     "name": "stdout",
     "output_type": "stream",
     "text": [
      "Sorted array: [0, 0, 0, 0, 0, 1, 1, 1, 1, 1, 2, 2]\n"
     ]
    }
   ],
   "source": [
    "def sortColors(nums):\n",
    "    low = 0\n",
    "    mid = 0\n",
    "    high = len(nums) - 1\n",
    "\n",
    "    while mid <= high:\n",
    "        if nums[mid] == 0:\n",
    "            nums[low], nums[mid] = nums[mid], nums[low]\n",
    "            low += 1\n",
    "            mid += 1\n",
    "        elif nums[mid] == 1:\n",
    "            mid += 1\n",
    "        else:  # nums[mid] == 2\n",
    "            nums[mid], nums[high] = nums[high], nums[mid]\n",
    "            high -= 1\n",
    "\n",
    "# Example usage:\n",
    "arr = [0, 1, 1, 0, 1, 2, 1, 2, 0, 0, 0, 1]\n",
    "sortColors(arr)\n",
    "print(\"Sorted array:\", arr)\n"
   ]
  },
  {
   "cell_type": "code",
   "execution_count": null,
   "id": "9d7b4ffd-7268-4c06-8229-9daf9a1fa497",
   "metadata": {},
   "outputs": [],
   "source": []
  }
 ],
 "metadata": {
  "kernelspec": {
   "display_name": "Python 3 (ipykernel)",
   "language": "python",
   "name": "python3"
  },
  "language_info": {
   "codemirror_mode": {
    "name": "ipython",
    "version": 3
   },
   "file_extension": ".py",
   "mimetype": "text/x-python",
   "name": "python",
   "nbconvert_exporter": "python",
   "pygments_lexer": "ipython3",
   "version": "3.10.8"
  }
 },
 "nbformat": 4,
 "nbformat_minor": 5
}
