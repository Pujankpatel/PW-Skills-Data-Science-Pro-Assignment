{
 "cells": [
  {
   "cell_type": "markdown",
   "id": "b31e7e35-1df8-476f-92db-be02ec4c8778",
   "metadata": {},
   "source": [
    "TOPIC: String Based Assignment Problem"
   ]
  },
  {
   "cell_type": "markdown",
   "id": "b5585e7d-22c0-4f36-8ce7-a114f48dc922",
   "metadata": {},
   "source": [
    "1. Write a program to reverse a string."
   ]
  },
  {
   "cell_type": "code",
   "execution_count": 1,
   "id": "c516f71e-b8de-46ef-a3ed-79e886d79d85",
   "metadata": {},
   "outputs": [
    {
     "name": "stdout",
     "output_type": "stream",
     "text": [
      " pujan k patel\n"
     ]
    },
    {
     "name": "stdout",
     "output_type": "stream",
     "text": [
      "Reverse of the input string is : letap k najup\n"
     ]
    }
   ],
   "source": [
    "p=str(input())\n",
    "print(\"Reverse of the input string is :\",p[: :-1]) "
   ]
  },
  {
   "cell_type": "markdown",
   "id": "7c955e51-dbca-445a-9b22-ee70a8aa3b11",
   "metadata": {},
   "source": [
    "2. Check if a string is a palindrome."
   ]
  },
  {
   "cell_type": "code",
   "execution_count": null,
   "id": "c71ffb22-f8d1-4b84-a07c-d144e640f0da",
   "metadata": {},
   "outputs": [],
   "source": [
    "p=str(input())\n",
    "reversed_string = p[::-1]\n",
    "if(reversed_string ==p):\n",
    "    print(\"Is Palandrome\")\n",
    "else:\n",
    "    print(\"Not Palandrome\")"
   ]
  },
  {
   "cell_type": "markdown",
   "id": "955ddc9f-74a1-4c0c-8c2c-5a71488e61e7",
   "metadata": {},
   "source": [
    "3. Convert a string to uppercase.\n",
    "4. Convert a string to lowercase."
   ]
  },
  {
   "cell_type": "code",
   "execution_count": null,
   "id": "f4c635e8-9c11-4a16-bf9e-a0cda693ddec",
   "metadata": {},
   "outputs": [],
   "source": [
    "p=str(input(\"Enter the string: \"))\n",
    "print(\"Uppercase: \",p.upper())\n",
    "print(\"\\n\")\n",
    "print(\"Uppercase: \",p.lower())"
   ]
  },
  {
   "cell_type": "code",
   "execution_count": null,
   "id": "7944f54d-c8e9-4d6f-b1e3-30b6da068103",
   "metadata": {},
   "outputs": [],
   "source": []
  },
  {
   "cell_type": "markdown",
   "id": "3285a6ae-3920-4425-b93b-eff4b71cbb05",
   "metadata": {},
   "source": [
    "5. Count the number of vowels in a string.\n",
    "6. Count the number of consonants in a string."
   ]
  },
  {
   "cell_type": "code",
   "execution_count": null,
   "id": "60a4721d-5f66-47c7-9144-f61303593ed7",
   "metadata": {},
   "outputs": [],
   "source": [
    "p=str(input(\"Enter the string : \"))\n",
    "vowels = \"aeiouAEIOU\"\n",
    "\n",
    "count = sum(p.count(vowel) for vowel in vowels)\n",
    "print(\"No. of vowels in string are\",count)\n",
    "print(\"\\n\")\n",
    "print(\"No. of consonants in string are\",len(p)-count)\n"
   ]
  },
  {
   "cell_type": "markdown",
   "id": "1c06f35e-5cbf-4379-af0a-b53f1eab43be",
   "metadata": {},
   "source": [
    "7. Remove all whitespaces from a string."
   ]
  },
  {
   "cell_type": "code",
   "execution_count": null,
   "id": "1ebbf100-a461-45e0-bf9c-1a8918cb5d29",
   "metadata": {},
   "outputs": [],
   "source": [
    "p=str(input(\"Enter the string : \"))\n",
    "r=p.replace(\" \",\"\")\n",
    "print(r)"
   ]
  },
  {
   "cell_type": "code",
   "execution_count": null,
   "id": "577fe3b1-648a-417a-b1f0-6ffde606ba00",
   "metadata": {},
   "outputs": [],
   "source": []
  },
  {
   "cell_type": "markdown",
   "id": "bf2e87f1-2ce6-4474-ab86-00ee93b10ad5",
   "metadata": {},
   "source": [
    "8. Find the length of a string without using the `len()` function."
   ]
  },
  {
   "cell_type": "code",
   "execution_count": null,
   "id": "65299d67-0928-47cf-9c1c-ec9a8c1809d5",
   "metadata": {},
   "outputs": [],
   "source": [
    "p=str(input(\"Enter the string : \"))\n",
    "cnt=0\n",
    "for i in p:\n",
    "    cnt=cnt+1\n",
    "print(cnt)"
   ]
  },
  {
   "cell_type": "code",
   "execution_count": null,
   "id": "4b0c5e7a-e642-4cd5-8964-5a6e4e735dfb",
   "metadata": {},
   "outputs": [],
   "source": []
  },
  {
   "cell_type": "markdown",
   "id": "b7120c63-9a25-4c35-868f-13b0848fb1ac",
   "metadata": {},
   "source": [
    "9. Check if a string contains a specific word.\n",
    "10. Replace a word in a string with another word."
   ]
  },
  {
   "cell_type": "code",
   "execution_count": null,
   "id": "ad474040-d164-4f1d-9b40-4bad2b577e89",
   "metadata": {},
   "outputs": [],
   "source": [
    "p=str(input(\"Enter the string : \"))\n",
    "\n",
    "print(\"Finding u in a string: \",p.find('u'))\n",
    "\n",
    "print(\"Replace n with a: \",p.replace('n','a'))\n"
   ]
  },
  {
   "cell_type": "code",
   "execution_count": null,
   "id": "bc0c3cfe-21e4-44b3-8ae4-1ac165bd7a25",
   "metadata": {},
   "outputs": [],
   "source": []
  },
  {
   "cell_type": "markdown",
   "id": "8abebea6-de1c-4f76-a853-4d9e7faf2a78",
   "metadata": {},
   "source": [
    "11. Count the occurrences of a word in a string.\n",
    "12. Find the first occurrence of a word in a string.\n",
    "13. Find the last occurrence of a word in a string."
   ]
  },
  {
   "cell_type": "code",
   "execution_count": null,
   "id": "fb734660-ef15-430f-a35a-12743eb2298b",
   "metadata": {},
   "outputs": [],
   "source": [
    "p=str(input(\"Enter the string : \"))\n",
    "x=str(input())\n",
    "occurrences=p.count(x)\n",
    "print(\"The occurrence of \",x,\"in a string are/is :\",occurrences)\n",
    "print(\"\\n\")\n",
    "\n",
    "word = \"language\"\n",
    "\n",
    "index = p.index(word)\n",
    "print(\"First occurrence of word \",word,\" is at index: \",index)\n",
    "\n",
    "print(\"\\n\")\n",
    "\n",
    "index =p.rfind(word)\n",
    "print(\"Last occurrence of word \",word,\" is at index: \",index)\n",
    "\n"
   ]
  },
  {
   "cell_type": "code",
   "execution_count": null,
   "id": "4c508d2f-b5dc-4e81-b86d-a2f0278e82ff",
   "metadata": {},
   "outputs": [],
   "source": []
  },
  {
   "cell_type": "markdown",
   "id": "69ef7c18-2a22-482e-a4cf-db88503ba32e",
   "metadata": {},
   "source": [
    "14. Split a string into a list of words.\n",
    "15. Join a list of words into a string."
   ]
  },
  {
   "cell_type": "code",
   "execution_count": null,
   "id": "9365bd9b-bfe8-4890-9246-17c0f2bcbc59",
   "metadata": {},
   "outputs": [],
   "source": [
    "p=\"my name is pujan k patel\"\n",
    "r=p.split()\n",
    "print(\"Splited string: \",r)\n",
    "print(\"\\n\")\n",
    "p=' '.join(r)\n",
    "print(\"Joined string: \",p)"
   ]
  },
  {
   "cell_type": "code",
   "execution_count": null,
   "id": "0510a176-0d65-4564-9849-53617d8bf515",
   "metadata": {},
   "outputs": [],
   "source": []
  },
  {
   "cell_type": "markdown",
   "id": "5202f557-b9ad-4060-894a-cd2b914d447f",
   "metadata": {},
   "source": [
    "16.Convert a string where words are separated by spaces to one where words\n",
    "are separated by underscores."
   ]
  },
  {
   "cell_type": "code",
   "execution_count": null,
   "id": "9752d614-86b3-467a-a323-bd48a5705ad5",
   "metadata": {},
   "outputs": [],
   "source": [
    "string_with_spaces = \"This is a sample string\"\n",
    "string_with_underscores = string_with_spaces.replace(\" \", \"_\")\n",
    "print(string_with_underscores)"
   ]
  },
  {
   "cell_type": "code",
   "execution_count": null,
   "id": "e7412138-9109-471b-b76e-83969ea16768",
   "metadata": {},
   "outputs": [],
   "source": []
  },
  {
   "cell_type": "markdown",
   "id": "92150e68-0a2f-47ee-88b0-da15e73766c7",
   "metadata": {},
   "source": [
    "17.Check if a string starts with a specific word or phrase."
   ]
  },
  {
   "cell_type": "code",
   "execution_count": null,
   "id": "568af1be-d89f-40c4-a43b-61ef5f1f9145",
   "metadata": {},
   "outputs": [],
   "source": [
    "string = \"Python is a great programming language.\"\n",
    "if string.startswith(\"Python\"):\n",
    "    print(\"The string starts with 'Python'.\")\n",
    "else:\n",
    "    print(\"The string does not start with 'Python'.\")"
   ]
  },
  {
   "cell_type": "markdown",
   "id": "880368ec-22a0-43fd-9b94-e6d33e1856a3",
   "metadata": {},
   "source": [
    "18. Check if a string ends with a specific word or phrase."
   ]
  },
  {
   "cell_type": "code",
   "execution_count": null,
   "id": "890166cd-f267-446a-bac9-fd223a4246a5",
   "metadata": {},
   "outputs": [],
   "source": [
    "string = \"Python is a great programming language.\"\n",
    "if string.endswith(\"language.\"):\n",
    "    print(\"The string ends with 'language'.\")\n",
    "else:\n",
    "    print(\"The string does not ends with 'language'.\")"
   ]
  },
  {
   "cell_type": "code",
   "execution_count": null,
   "id": "ad96650f-bd31-4ab5-9cac-9ff510c40d50",
   "metadata": {},
   "outputs": [],
   "source": []
  },
  {
   "cell_type": "markdown",
   "id": "fad86cd4-8eaf-4ff0-918f-9a1c7e75d3e3",
   "metadata": {},
   "source": [
    "19. Convert a string to title case (e.g., \"hello world\" to \"Hello World\")."
   ]
  },
  {
   "cell_type": "code",
   "execution_count": null,
   "id": "018cfda3-01b9-4718-8822-99e9dee8a86b",
   "metadata": {},
   "outputs": [],
   "source": [
    "p=\"hello world\"\n",
    "r=p.title()\n",
    "print(r)\n"
   ]
  },
  {
   "cell_type": "markdown",
   "id": "8c100047-acae-411a-a991-4d478bc3b578",
   "metadata": {},
   "source": [
    "20. Find the longest word in a string.\n",
    "21. Find the shortest word in a string."
   ]
  },
  {
   "cell_type": "code",
   "execution_count": null,
   "id": "0fb9f86c-21c0-4705-ba3d-66d8e958e0d6",
   "metadata": {},
   "outputs": [],
   "source": [
    "print(\"Enter the String: \")\n",
    "text = input()\n",
    "text = text.split()\n",
    "lword=0\n",
    "sword=100000\n",
    "\n",
    "for wrd in text:\n",
    "  wrdLen = len(wrd)\n",
    "  if wrdLen>lword:\n",
    "    lword=wrdLen\n",
    "  elif wrdLen<sword:\n",
    "    sword=wrdLen\n",
    "\n",
    "    \n",
    "    \n",
    "print(\"\\nLargest Word: \")\n",
    "for wrd in text:\n",
    "  wrdLen = len(wrd)\n",
    "  if wrdLen==lword:\n",
    "    print(wrd)\n",
    "print(\"\\nSmallest Word: \")\n",
    "for wrd in text:\n",
    " wrdLen=len(wrd)\n",
    " if wrdLen==sword:\n",
    "    print(wrd)\n",
    "    \n"
   ]
  },
  {
   "cell_type": "markdown",
   "id": "cf11aa29-bb50-46df-a5e0-dda8cafbf0c8",
   "metadata": {},
   "source": [
    "22. Reverse the order of words in a string."
   ]
  },
  {
   "cell_type": "code",
   "execution_count": null,
   "id": "804d915c-63fc-4bd4-b7d1-90dea4c214d4",
   "metadata": {},
   "outputs": [],
   "source": [
    "p=str(input())\n",
    "x=p.split()\n",
    "x=list(reversed(x))\n",
    "print(\" \".join(x))"
   ]
  },
  {
   "cell_type": "markdown",
   "id": "4f08bd51-3699-4ad6-8e87-e25c24d3d10d",
   "metadata": {},
   "source": [
    "23. Check if a string is alphanumeric.\n",
    "24. Extract all digits from a string.\n",
    "25. Extract all alphabets from a string."
   ]
  },
  {
   "cell_type": "code",
   "execution_count": null,
   "id": "0d9e6a0b-9b92-42cf-9f37-54a2a66aeaec",
   "metadata": {},
   "outputs": [],
   "source": [
    "p=str(input(\"Enter the string: \"))\n",
    "if p.isalnum():\n",
    "    print(\"The given string is alphanumeric\")\n",
    "else:\n",
    "    print(\"String is not alpha numeric\")\n",
    "    \n",
    "print(\"\\n\")\n",
    "dig=\"\"\n",
    "alph=\"\"\n",
    "for char in p:\n",
    "    if char.isdigit():\n",
    "        dig+=char\n",
    "    elif char.isalpha():\n",
    "        alph+=char\n",
    "\n",
    "print(\"Digits present in the given string are\",dig)\n",
    "print(\"\\n\")\n",
    "print(\"Alphabates present in the given string are\",alph)\n",
    "\n",
    "\n"
   ]
  },
  {
   "cell_type": "code",
   "execution_count": null,
   "id": "f292fd2d-22be-4ae2-a475-ce5b5ae50ea5",
   "metadata": {},
   "outputs": [],
   "source": []
  },
  {
   "cell_type": "markdown",
   "id": "87a9986a-4e4d-4824-a7c6-58539af1f917",
   "metadata": {},
   "source": [
    "26. Count the number of uppercase letters in a string.\n",
    "27. Count the number of lowercase letters in a string."
   ]
  },
  {
   "cell_type": "code",
   "execution_count": null,
   "id": "3472fa41-1756-43b1-83e0-3085d18b5dac",
   "metadata": {},
   "outputs": [],
   "source": [
    "p=str(input(\"Enter the string\"))\n",
    "up=\"\"\n",
    "lw=\"\"\n",
    "for char in p:\n",
    "    if char.isupper():\n",
    "        up+=char\n",
    "    else:\n",
    "        lw+=char\n",
    "print(\"The uppercase case in a string are\",up)\n",
    "print(\"\\n\")\n",
    "print(\"The lowercase case in a string are\",lw)\n",
    "\n"
   ]
  },
  {
   "cell_type": "code",
   "execution_count": null,
   "id": "92f51285-11d4-47b8-a5d2-72f5b16d39cb",
   "metadata": {},
   "outputs": [],
   "source": []
  },
  {
   "cell_type": "markdown",
   "id": "3662e600-fb9f-4f9b-b988-22910f2d3158",
   "metadata": {},
   "source": [
    "29. Swap the case of each character in a string."
   ]
  },
  {
   "cell_type": "code",
   "execution_count": null,
   "id": "a2604c92-2b48-486a-a5bd-2d303b9feb93",
   "metadata": {},
   "outputs": [],
   "source": [
    "p=str(input(\"Enter the string\"))\n",
    "x=\"\"\n",
    "for i in p:\n",
    "    if i.isupper():\n",
    "        x+=i.lower()\n",
    "    else:\n",
    "        x+=i.upper()\n",
    "\n",
    "print(\"The Sawpped cases of given string is\",x)"
   ]
  },
  {
   "cell_type": "code",
   "execution_count": null,
   "id": "982098ac-b7c1-4576-8d81-78a4bac79353",
   "metadata": {},
   "outputs": [],
   "source": []
  },
  {
   "cell_type": "markdown",
   "id": "af490f2a-d044-4b05-a55e-3b6b8d3461cd",
   "metadata": {},
   "source": [
    "29. Remove a specific word from a string."
   ]
  },
  {
   "cell_type": "code",
   "execution_count": null,
   "id": "2b32eb86-5802-4924-98b7-2093c467289e",
   "metadata": {},
   "outputs": [],
   "source": [
    "p=str(input(\"Enter the string\"))\n",
    "x=str(input(\"Enter the word to be removed\"))\n",
    "\n",
    "z=p.replace(x,'')\n",
    "\n",
    "print(\"The string after removing the given word\",z)\n"
   ]
  },
  {
   "cell_type": "code",
   "execution_count": null,
   "id": "0375ae4f-c006-482b-90bb-3fb8c4c887f7",
   "metadata": {},
   "outputs": [],
   "source": []
  },
  {
   "cell_type": "markdown",
   "id": "1b66142c-ab5f-4bca-94fd-511a3711916f",
   "metadata": {},
   "source": [
    "30. Check if a string is a valid email address.\n",
    "31. Extract the username from an email address string.\n",
    "32. Extract the domain name from an email address string."
   ]
  },
  {
   "cell_type": "code",
   "execution_count": null,
   "id": "cd797ca6-88c8-4afd-b1b4-0d95f1a519e6",
   "metadata": {},
   "outputs": [],
   "source": [
    "import re\n",
    "s=str(input(\"Enter the username: \"))\n",
    "     \n",
    "pat = r'\\b[A-Za-z0-9._%+-]+@[A-Za-z0-9.-]+\\.[A-Z|a-z]{2,7}\\b'\n",
    "if re.match(pat,s):\n",
    "    print(\"Valid Email\")\n",
    "else:\n",
    "     print(\"Invalid Email\")\n",
    "print(\"\\n\")\n",
    "\n",
    "username = s.split(\"@\")[0]\n",
    "print(\"username: \",username)        \n",
    "        \n",
    "print(\"\\n\")        \n",
    "        \n",
    "res = s.split('@')[1]\n",
    " \n",
    "# printing result\n",
    "print(\"The extracted domain name : \" + str(res))"
   ]
  },
  {
   "cell_type": "code",
   "execution_count": null,
   "id": "fe7589d3-6366-44de-9115-5dd1db211e73",
   "metadata": {},
   "outputs": [],
   "source": []
  },
  {
   "cell_type": "markdown",
   "id": "68687fb9-7fee-4af8-b3e1-fda4d3a47c52",
   "metadata": {},
   "source": [
    "33. Replace multiple spaces in a string with a single space."
   ]
  },
  {
   "cell_type": "code",
   "execution_count": null,
   "id": "72190e82-4dba-4cb4-a520-f1a3fb064740",
   "metadata": {},
   "outputs": [],
   "source": [
    "p=str(input(\"Enter the string\"))\n",
    "x=(\" \".join(p.split()))\n",
    "print(\"multiple space string to single space: \",x)"
   ]
  },
  {
   "cell_type": "code",
   "execution_count": null,
   "id": "3acd7be6-203a-4a71-b982-bccfbd75148d",
   "metadata": {},
   "outputs": [],
   "source": []
  },
  {
   "cell_type": "markdown",
   "id": "16634a30-9499-4761-ae37-f44491e8c6a4",
   "metadata": {},
   "source": [
    "34. Check if a string is a valid URL.\n",
    "35. Extract the protocol (http or https) from a URL string."
   ]
  },
  {
   "cell_type": "code",
   "execution_count": null,
   "id": "49804e2a-e76d-4630-b892-20457b5e1612",
   "metadata": {},
   "outputs": [],
   "source": []
  },
  {
   "cell_type": "code",
   "execution_count": null,
   "id": "002ec565-788b-4991-860e-b688686e78ee",
   "metadata": {},
   "outputs": [],
   "source": []
  },
  {
   "cell_type": "markdown",
   "id": "d0cb1513-151e-40bf-a966-3efe0a4f6576",
   "metadata": {},
   "source": [
    "36. Find the frequency of each character in a string.\n",
    "37. Remove all punctuation from a string."
   ]
  },
  {
   "cell_type": "code",
   "execution_count": null,
   "id": "849d7b7a-d165-4a4d-bc83-5f4d535aa150",
   "metadata": {},
   "outputs": [],
   "source": [
    "p=str(input())\n",
    "all_freq={}\n",
    "for i in p:\n",
    "    if i in all_freq:\n",
    "        all_freq[i] += 1\n",
    "    else:\n",
    "        all_freq[i] = 1\n",
    "print(\"Count of all characters in\",p,\"is :\\n \"\n",
    "      + str(all_freq))"
   ]
  },
  {
   "cell_type": "code",
   "execution_count": null,
   "id": "3cb3e2cc-b4b5-4e54-90ad-5ec5db1e4324",
   "metadata": {},
   "outputs": [],
   "source": []
  },
  {
   "cell_type": "markdown",
   "id": "0e3a28a8-5a20-45e0-85ca-3a6f2daa104d",
   "metadata": {},
   "source": [
    "38. Check if a string contains only digits."
   ]
  },
  {
   "cell_type": "code",
   "execution_count": null,
   "id": "53c72553-7c0b-4624-92d8-20cbcc8037a5",
   "metadata": {},
   "outputs": [],
   "source": [
    "p=str(input(\"Enter the string: \"))\n",
    "cnt=0\n",
    "for i in p:\n",
    "    if (i.isdigit()):\n",
    "        cnt=cnt+1\n",
    "if(cnt==len(p)):\n",
    "    print(\"The string contain only digits\")"
   ]
  },
  {
   "cell_type": "code",
   "execution_count": null,
   "id": "2edbea3c-86ef-4915-adc5-fea05e5c34ea",
   "metadata": {},
   "outputs": [],
   "source": []
  },
  {
   "cell_type": "markdown",
   "id": "48f8ac86-f379-4fd0-a9af-f5a21719b85a",
   "metadata": {},
   "source": [
    "39. Check if a string contains only alphabets."
   ]
  },
  {
   "cell_type": "code",
   "execution_count": null,
   "id": "986ffd03-556c-4ded-8d42-5ebef14b781c",
   "metadata": {},
   "outputs": [],
   "source": [
    "p=str(input(\"Enter the string: \"))\n",
    "cnt=0\n",
    "for i in p:\n",
    "    if (i.isalpha()):\n",
    "        cnt=cnt+1\n",
    "if(cnt==len(p)):\n",
    "    print(\"The string contain only alphabate\")\n",
    "else:\n",
    "    print(\"String is alpha numeric\")"
   ]
  },
  {
   "cell_type": "code",
   "execution_count": null,
   "id": "3e81b51c-93e6-4b00-8e1a-069ff74b1a60",
   "metadata": {},
   "outputs": [],
   "source": [
    "p=str(input(\"Enter the string: \"))\n",
    "cnt=0\n",
    "for i in p:\n",
    "    if (i.isalpha()):\n",
    "        cnt=cnt+1\n",
    "if(cnt==len(p)):\n",
    "    print(\"The string contain only alphabate\")\n",
    "else:\n",
    "    print(\"String is alpha numeric\")"
   ]
  },
  {
   "cell_type": "code",
   "execution_count": null,
   "id": "ae9e8a9f-0b9c-451e-86da-b11c2fa3011f",
   "metadata": {},
   "outputs": [],
   "source": []
  },
  {
   "cell_type": "markdown",
   "id": "fef5b929-350f-4cd5-b411-64d592757840",
   "metadata": {},
   "source": [
    "40. Convert a string to a list of characters."
   ]
  },
  {
   "cell_type": "code",
   "execution_count": null,
   "id": "d5d47b62-fd37-48de-a743-e3843ae176b7",
   "metadata": {},
   "outputs": [],
   "source": [
    "p=str(input(\"Enter the string: \"))\n",
    "x=list(p)\n",
    "print(\"Converted string to list :\")\n",
    "print(x)"
   ]
  },
  {
   "cell_type": "code",
   "execution_count": null,
   "id": "b7d2593e-d34f-4d3c-9661-d80675998e30",
   "metadata": {},
   "outputs": [],
   "source": []
  },
  {
   "cell_type": "markdown",
   "id": "443d845c-c453-4a8d-b858-4245227c7ee7",
   "metadata": {},
   "source": [
    "41. Check if two strings are anagrams."
   ]
  },
  {
   "cell_type": "code",
   "execution_count": null,
   "id": "b8250cb3-b2d9-4aba-ae94-e3ad4deb2f51",
   "metadata": {},
   "outputs": [],
   "source": [
    "p=str(input(\"Enter the 1 string: \"))\n",
    "q=str(input(\"Enter the 2 string: \"))\n",
    "x=sorted(p)\n",
    "y=sorted(q)\n",
    "if x==y:\n",
    "    print(\"both strings are anagram of each other\")\n",
    "else:\n",
    "     print(\"both strings are not anagram of each other\")"
   ]
  },
  {
   "cell_type": "code",
   "execution_count": null,
   "id": "b9fb420c-5518-4d1f-956c-f366e89e615f",
   "metadata": {},
   "outputs": [],
   "source": []
  },
  {
   "cell_type": "markdown",
   "id": "19669dd2-a5ba-4a0b-aa68-2769862d79bb",
   "metadata": {},
   "source": [
    "42. Encode a string using a Caesar cipher.\n",
    "43. Decode a Caesar cipher encoded string.\n"
   ]
  },
  {
   "cell_type": "code",
   "execution_count": null,
   "id": "332e6c56-e8b4-4f94-9691-f6b7f306b2dc",
   "metadata": {},
   "outputs": [],
   "source": [
    "#A python program to illustrate Caesar Cipher Technique\n",
    "def encrypt(text,s):\n",
    "\tresult = \"\"\n",
    "\n",
    "\t# traverse text\n",
    "\tfor i in range(len(text)):\n",
    "\t\tchar = text[i]\n",
    "\n",
    "\t\t# Encrypt uppercase characters\n",
    "\t\tif (char.isupper()):\n",
    "\t\t\tresult += chr((ord(char) + s-65) % 26 + 65)\n",
    "\n",
    "\t\t# Encrypt lowercase characters\n",
    "\t\telse:\n",
    "\t\t\tresult += chr((ord(char) + s - 97) % 26 + 97)\n",
    "\n",
    "\treturn result\n",
    "\n",
    "#check the above function\n",
    "text = \"ATTACKATONCE\"\n",
    "s = 4\n",
    "result = \"\"\n",
    "\n",
    "\t# traverse text\n",
    "for i in range(len(text)):\n",
    "\tchar = text[i]\n",
    "\n",
    "\t\t# Encrypt uppercase characters\n",
    "\tif (char.isupper()):\n",
    "\t\tresult += chr((ord(char) + s-65) % 26 + 65)\n",
    "\n",
    "\t\t# Encrypt lowercase characters\n",
    "\telse:\n",
    "\t\tresult += chr((ord(char) + s - 97) % 26 + 97)\n",
    "print (\"Text : \" + text)\n",
    "print (\"Shift : \" + str(s))\n",
    "print (\"Cipher: \" + encrypt(text,s))\n"
   ]
  },
  {
   "cell_type": "code",
   "execution_count": null,
   "id": "fa94328c-bf0c-499b-9c03-00192ed4f7d9",
   "metadata": {},
   "outputs": [],
   "source": []
  },
  {
   "cell_type": "markdown",
   "id": "fc142639-2203-4da2-8cf1-db1f79bc7ebd",
   "metadata": {},
   "source": [
    "44. Find the most frequent word in a string."
   ]
  },
  {
   "cell_type": "markdown",
   "id": "6206029f-b3cc-4fe4-b777-f300ee62a745",
   "metadata": {},
   "source": [
    "45. Find all unique words in a string."
   ]
  },
  {
   "cell_type": "code",
   "execution_count": null,
   "id": "3e3f173e-e62c-4f81-acbe-d254799b032d",
   "metadata": {},
   "outputs": [],
   "source": [
    "p=str(input(\"Enter the string: \"))\n",
    "s=set(p.split())\n",
    "for i in s:\n",
    "    print(i)"
   ]
  },
  {
   "cell_type": "code",
   "execution_count": null,
   "id": "1edd79c7-02c5-4781-aa91-348d5cbc52a1",
   "metadata": {},
   "outputs": [],
   "source": []
  },
  {
   "cell_type": "markdown",
   "id": "7b09fa0d-1cbb-4b01-a0c2-620c58403462",
   "metadata": {},
   "source": [
    "47. Check if a string contains any special characters.\n"
   ]
  },
  {
   "cell_type": "code",
   "execution_count": 1,
   "id": "132ea327-9a4a-462b-a406-eb4610a15381",
   "metadata": {},
   "outputs": [
    {
     "name": "stdout",
     "output_type": "stream",
     "text": [
      "Enter the string:  pujan$patel\n"
     ]
    },
    {
     "name": "stdout",
     "output_type": "stream",
     "text": [
      "string contain special character\n"
     ]
    }
   ],
   "source": [
    "p=str(input(\"Enter the string: \"))\n",
    "p.split()\n",
    "c = 0\n",
    "s = '[@_!#$%^&*()<>?/\\|}{~:]'  # special character set\n",
    "for i in range(len(p)):\n",
    "    # checking if any special character is present in given string or not\n",
    "    if p[i] in s:\n",
    "        c += 1   # if special character found then add 1 to the c\n",
    " \n",
    "# if c value is greater than 0 then print no\n",
    "# means special character is found in string\n",
    "if c:\n",
    "    print(\"string contain special character\")\n",
    "else:\n",
    "    print(\"string doesn't contain special character\")"
   ]
  },
  {
   "cell_type": "code",
   "execution_count": null,
   "id": "865ee898-2e7f-4f3f-a2c4-b61141396c63",
   "metadata": {},
   "outputs": [],
   "source": []
  },
  {
   "cell_type": "markdown",
   "id": "678ff65e-90cf-4411-bcb1-2a18801922e2",
   "metadata": {},
   "source": [
    "48. Remove the nth word from a string."
   ]
  },
  {
   "cell_type": "code",
   "execution_count": 1,
   "id": "d9c97341-a74b-4de9-9351-4a209c1464af",
   "metadata": {},
   "outputs": [
    {
     "name": "stdout",
     "output_type": "stream",
     "text": [
      "Original string: This is an example sentence to test the function.\n",
      "Modified string: This is an sentence to test the function.\n",
      "Removed word: example\n"
     ]
    }
   ],
   "source": [
    "def remove_nth_word(input_string, n):\n",
    "    # Split the input string into words\n",
    "    words = input_string.split()\n",
    "\n",
    "    # Check if n is within a valid range\n",
    "    if n >= 1 and n <= len(words):\n",
    "        # Remove the nth word by excluding it from the words list\n",
    "        removed_word = words.pop(n - 1)\n",
    "\n",
    "        # Join the remaining words to form the modified string\n",
    "        modified_string = ' '.join(words)\n",
    "\n",
    "        return modified_string, removed_word\n",
    "    else:\n",
    "        return None, None\n",
    "\n",
    "# Example string and n value\n",
    "input_str = \"This is an example sentence to test the function.\"\n",
    "n_value = 4\n",
    "\n",
    "# Remove the nth word\n",
    "modified_str, removed_word = remove_nth_word(input_str, n_value)\n",
    "\n",
    "# Print the results\n",
    "print(\"Original string:\", input_str)\n",
    "if modified_str is not None:\n",
    "    print(\"Modified string:\", modified_str)\n",
    "    print(\"Removed word:\", removed_word)\n",
    "else:\n",
    "    print(\"Invalid n value.\")"
   ]
  },
  {
   "cell_type": "markdown",
   "id": "a8206a20",
   "metadata": {},
   "source": [
    "49. Insert a word at the nth position in a string."
   ]
  },
  {
   "cell_type": "markdown",
   "id": "e039c5d9",
   "metadata": {},
   "source": [
    "### 50. Convert a CSV string to a list of lists."
   ]
  },
  {
   "cell_type": "code",
   "execution_count": 1,
   "id": "ce9d0396-0a4e-4d15-b276-9de86c49b397",
   "metadata": {},
   "outputs": [
    {
     "name": "stdout",
     "output_type": "stream",
     "text": [
      "['Name', ' Age', ' Country']\n",
      "['John', ' 25', ' USA']\n",
      "['Alice', ' 30', ' Canada']\n",
      "['Bob', ' 22', ' UK']\n"
     ]
    }
   ],
   "source": [
    "def csv_string_to_list(csv_string):\n",
    "    # Split the CSV string into lines\n",
    "    lines = csv_string.split('\\n')\n",
    "\n",
    "    # Initialize an empty list to store the result\n",
    "    result = []\n",
    "\n",
    "    for line in lines:\n",
    "        # Split each line into fields using comma as the delimiter\n",
    "        fields = line.split(',')\n",
    "\n",
    "        # Append the fields to the result list as a row\n",
    "        result.append(fields)\n",
    "\n",
    "    return result\n",
    "\n",
    "# Example CSV string\n",
    "csv_data = \"Name, Age, Country\\nJohn, 25, USA\\nAlice, 30, Canada\\nBob, 22, UK\"\n",
    "\n",
    "# Convert CSV string to a list of lists\n",
    "list_of_lists = csv_string_to_list(csv_data)\n",
    "\n",
    "# Print the result\n",
    "for row in list_of_lists:\n",
    "    print(row)"
   ]
  },
  {
   "cell_type": "code",
   "execution_count": null,
   "id": "9c2e51d6",
   "metadata": {},
   "outputs": [],
   "source": []
  },
  {
   "cell_type": "code",
   "execution_count": null,
   "id": "3c5960f4",
   "metadata": {},
   "outputs": [],
   "source": []
  },
  {
   "cell_type": "markdown",
   "id": "508d5db8",
   "metadata": {},
   "source": [
    "## **List based practice problem :**\n"
   ]
  },
  {
   "cell_type": "markdown",
   "id": "ae4f0360",
   "metadata": {},
   "source": [
    "### 1. Create a list with integers from 1 to 10."
   ]
  },
  {
   "cell_type": "code",
   "execution_count": 2,
   "id": "8edf85dd",
   "metadata": {},
   "outputs": [
    {
     "name": "stdout",
     "output_type": "stream",
     "text": [
      "[1, 2, 3, 4, 5, 6, 7, 8, 9, 10]\n"
     ]
    }
   ],
   "source": [
    "# Use a list comprehension to create a list of integers from 1 to 10\n",
    "integer_list = [i for i in range(1, 11)]\n",
    "\n",
    "# Print the list\n",
    "print(integer_list)"
   ]
  },
  {
   "cell_type": "markdown",
   "id": "5decdaca",
   "metadata": {},
   "source": [
    "### 2. Find the length of a list without using the `len()` function."
   ]
  },
  {
   "cell_type": "code",
   "execution_count": 3,
   "id": "8e22873e",
   "metadata": {},
   "outputs": [
    {
     "name": "stdout",
     "output_type": "stream",
     "text": [
      "Length of the list: 5\n"
     ]
    }
   ],
   "source": [
    "def custom_len(input_list):\n",
    "    count = 0\n",
    "    for _ in input_list:\n",
    "        count += 1\n",
    "    return count\n",
    "\n",
    "# Example list\n",
    "my_list = [10, 20, 30, 40, 50]\n",
    "\n",
    "# Find the length of the list using the custom_len function\n",
    "length = custom_len(my_list)\n",
    "\n",
    "# Print the length of the list\n",
    "print(\"Length of the list:\", length)"
   ]
  },
  {
   "cell_type": "markdown",
   "id": "54e41891",
   "metadata": {},
   "source": [
    "### 3. Append an element to the end of a list."
   ]
  },
  {
   "cell_type": "code",
   "execution_count": 4,
   "id": "9ea441cc",
   "metadata": {},
   "outputs": [
    {
     "name": "stdout",
     "output_type": "stream",
     "text": [
      "Updated list: [10, 20, 30, 40]\n"
     ]
    }
   ],
   "source": [
    "# Example list\n",
    "my_list = [10, 20, 30]\n",
    "\n",
    "# Element to append\n",
    "new_element = 40\n",
    "\n",
    "# Append the new element to the end of the list\n",
    "my_list.append(new_element)\n",
    "\n",
    "# Print the updated list\n",
    "print(\"Updated list:\", my_list)"
   ]
  },
  {
   "cell_type": "markdown",
   "id": "81892e27",
   "metadata": {},
   "source": [
    "### 4. Insert an element at a specific index in a list."
   ]
  },
  {
   "cell_type": "code",
   "execution_count": 6,
   "id": "57f85710",
   "metadata": {},
   "outputs": [
    {
     "name": "stdout",
     "output_type": "stream",
     "text": [
      "Updated list: [10, 20, 25, 30, 40, 50]\n"
     ]
    }
   ],
   "source": [
    "# Example list\n",
    "my_list = [10, 20, 30, 40, 50]\n",
    "\n",
    "# Element to insert\n",
    "new_element = 25\n",
    "\n",
    "# Index at which to insert the element\n",
    "index_to_insert = 2\n",
    "\n",
    "# Insert the new element at the specified index\n",
    "my_list.insert(index_to_insert, new_element)\n",
    "\n",
    "# Print the updated list\n",
    "print(\"Updated list:\", my_list)"
   ]
  },
  {
   "cell_type": "markdown",
   "id": "ab7e229c",
   "metadata": {},
   "source": [
    "### 5. Remove an element from a list by its value.\n"
   ]
  },
  {
   "cell_type": "code",
   "execution_count": 7,
   "id": "0e285171",
   "metadata": {},
   "outputs": [
    {
     "name": "stdout",
     "output_type": "stream",
     "text": [
      "Updated list: [10, 20, 40, 50]\n"
     ]
    }
   ],
   "source": [
    "# Example list\n",
    "my_list = [10, 20, 30, 40, 50]\n",
    "\n",
    "# Element to remove\n",
    "element_to_remove = 30\n",
    "\n",
    "# Remove the element by its value\n",
    "my_list.remove(element_to_remove)\n",
    "\n",
    "# Print the updated list\n",
    "print(\"Updated list:\", my_list)"
   ]
  },
  {
   "cell_type": "markdown",
   "id": "78f623f7",
   "metadata": {},
   "source": [
    "### 6. Remove an element from a list by its index."
   ]
  },
  {
   "cell_type": "code",
   "execution_count": 8,
   "id": "76e69384",
   "metadata": {},
   "outputs": [
    {
     "name": "stdout",
     "output_type": "stream",
     "text": [
      "Updated list: [10, 20, 40, 50]\n"
     ]
    }
   ],
   "source": [
    "# Example list\n",
    "my_list = [10, 20, 30, 40, 50]\n",
    "\n",
    "# Element to remove\n",
    "index_to_remove = 2\n",
    "\n",
    "# Remove the element by its value\n",
    "my_list.pop(index_to_remove)\n",
    "\n",
    "# Print the updated list\n",
    "print(\"Updated list:\", my_list)"
   ]
  },
  {
   "cell_type": "markdown",
   "id": "ebd12f98",
   "metadata": {},
   "source": [
    "### 7. Check if an element exists in a list."
   ]
  },
  {
   "cell_type": "code",
   "execution_count": 10,
   "id": "d7c15360",
   "metadata": {},
   "outputs": [
    {
     "name": "stdout",
     "output_type": "stream",
     "text": [
      "Element is present\n"
     ]
    }
   ],
   "source": [
    "# Example list\n",
    "my_list = [10, 20, 30, 40, 50]\n",
    "\n",
    "# Element to remove\n",
    "element = 30\n",
    "\n",
    "# Remove the element by its value\n",
    "if element in my_list:\n",
    "    print(\"Element is present\")\n",
    "else:\n",
    "    print(\"element is ot present\")"
   ]
  },
  {
   "cell_type": "markdown",
   "id": "0818097c",
   "metadata": {},
   "source": [
    "### 8. Find the index of the first occurrence of an element in a list."
   ]
  },
  {
   "cell_type": "code",
   "execution_count": 11,
   "id": "2e4bac6f",
   "metadata": {},
   "outputs": [
    {
     "name": "stdout",
     "output_type": "stream",
     "text": [
      "The index of 30 is 2\n"
     ]
    }
   ],
   "source": [
    "# Example list\n",
    "my_list = [10, 20, 30, 40, 50, 30]\n",
    "\n",
    "# Element to find the index of\n",
    "element_to_find = 30\n",
    "\n",
    "# Find the index of the first occurrence of the element\n",
    "index = my_list.index(element_to_find)\n",
    "\n",
    "# Print the index\n",
    "print(f\"The index of {element_to_find} is {index}\")"
   ]
  },
  {
   "cell_type": "markdown",
   "id": "09295d52",
   "metadata": {},
   "source": [
    "### 9. Count the occurrences of an element in a list."
   ]
  },
  {
   "cell_type": "code",
   "execution_count": 13,
   "id": "e9ca20fc",
   "metadata": {},
   "outputs": [
    {
     "name": "stdout",
     "output_type": "stream",
     "text": [
      "The occurrences of 30 is 2\n"
     ]
    }
   ],
   "source": [
    "# Example list\n",
    "my_list = [10, 20, 30, 40, 50, 30]\n",
    "\n",
    "# Element to find the index of\n",
    "element = 30\n",
    "cnt=0\n",
    "# Find the index of the first occurrence of the element\n",
    "for x in my_list:\n",
    "    if(element==x):\n",
    "        cnt=cnt+1\n",
    "\n",
    "# Print the index\n",
    "print(f\"The occurrences of {element} is {cnt}\")"
   ]
  },
  {
   "cell_type": "markdown",
   "id": "dbc0aedc",
   "metadata": {},
   "source": [
    "### 10. Reverse the order of elements in a list."
   ]
  },
  {
   "cell_type": "code",
   "execution_count": 17,
   "id": "46f6c0d9",
   "metadata": {},
   "outputs": [
    {
     "name": "stdout",
     "output_type": "stream",
     "text": [
      "the reverse list is [30, 50, 40, 30, 20, 10]\n"
     ]
    }
   ],
   "source": [
    "# Example list\n",
    "my_list = [10, 20, 30, 40, 50, 30]\n",
    "\n",
    "# Element to find the index of\n",
    "r_list=my_list[::-1]\n",
    "\n",
    "# Print the index\n",
    "print(\"the reverse list is\",r_list)"
   ]
  },
  {
   "cell_type": "markdown",
   "id": "97d6e3ca",
   "metadata": {},
   "source": [
    "### 11. Sort a list in ascending order."
   ]
  },
  {
   "cell_type": "code",
   "execution_count": 18,
   "id": "d476f950",
   "metadata": {},
   "outputs": [
    {
     "name": "stdout",
     "output_type": "stream",
     "text": [
      "Sorted list in ascending order: [10, 20, 30, 40, 50]\n"
     ]
    }
   ],
   "source": [
    "# Example list\n",
    "my_list = [50, 10, 30, 40, 20]\n",
    "\n",
    "# Sort the list in ascending order\n",
    "my_list.sort()\n",
    "\n",
    "# Print the sorted list\n",
    "print(\"Sorted list in ascending order:\", my_list)"
   ]
  },
  {
   "cell_type": "markdown",
   "id": "0868ae74",
   "metadata": {},
   "source": [
    "### 12. Sort a list in descending order."
   ]
  },
  {
   "cell_type": "code",
   "execution_count": 19,
   "id": "6c06642d",
   "metadata": {},
   "outputs": [
    {
     "name": "stdout",
     "output_type": "stream",
     "text": [
      "Sorted list in ascending order: [50, 40, 30, 20, 10]\n"
     ]
    }
   ],
   "source": [
    "# Example list\n",
    "my_list = [50, 10, 30, 40, 20]\n",
    "\n",
    "# Sort the list in ascending order\n",
    "my_list.sort(reverse=True)\n",
    "\n",
    "# Print the sorted list\n",
    "print(\"Sorted list in ascending order:\", my_list)"
   ]
  },
  {
   "cell_type": "markdown",
   "id": "f3ff9bd5",
   "metadata": {},
   "source": [
    "### 13. Create a list of even numbers from 1 to 20."
   ]
  },
  {
   "cell_type": "code",
   "execution_count": 3,
   "id": "2256fc09",
   "metadata": {},
   "outputs": [
    {
     "name": "stdout",
     "output_type": "stream",
     "text": [
      "List of even numbers: [2, 4, 6, 8, 10, 12, 14, 16, 18, 20]\n"
     ]
    }
   ],
   "source": [
    "even_numbers = [x for x in range(2, 21, 2)]\n",
    "\n",
    "# Print the list of even numbers\n",
    "print(\"List of even numbers:\", even_numbers)"
   ]
  },
  {
   "cell_type": "markdown",
   "id": "4a93778f",
   "metadata": {},
   "source": [
    "### 14. Create a list of odd numbers from 1 to 20."
   ]
  },
  {
   "cell_type": "code",
   "execution_count": 4,
   "id": "1c91fe0b",
   "metadata": {},
   "outputs": [
    {
     "name": "stdout",
     "output_type": "stream",
     "text": [
      "List of odd numbers: [1, 3, 5, 7, 9, 11, 13, 15, 17, 19]\n"
     ]
    }
   ],
   "source": [
    "odd_numbers = [x for x in range(1, 20, 2)]\n",
    "\n",
    "# Print the list of even numbers\n",
    "print(\"List of odd numbers:\", odd_numbers)"
   ]
  },
  {
   "cell_type": "markdown",
   "id": "ce2a7120",
   "metadata": {},
   "source": [
    "### 15. Find the sum of all elements in a list."
   ]
  },
  {
   "cell_type": "code",
   "execution_count": 7,
   "id": "db937529",
   "metadata": {},
   "outputs": [
    {
     "name": "stdout",
     "output_type": "stream",
     "text": [
      "The sum of the given list is 21\n"
     ]
    }
   ],
   "source": [
    "my_list=[1,2,3,4,5,6]\n",
    "sum=0\n",
    "for x in my_list:\n",
    "    sum+=x\n",
    "print(f\"The sum of the given list is {sum}\")"
   ]
  },
  {
   "cell_type": "markdown",
   "id": "df100602",
   "metadata": {},
   "source": [
    "### 16. Find the maximum value in a list."
   ]
  },
  {
   "cell_type": "code",
   "execution_count": 8,
   "id": "21e0d137",
   "metadata": {},
   "outputs": [
    {
     "name": "stdout",
     "output_type": "stream",
     "text": [
      "The max element in array is 6\n"
     ]
    }
   ],
   "source": [
    "my_list=[1,2,3,4,5,6]\n",
    "maxi=0\n",
    "for x in my_list:\n",
    "    if x>maxi:\n",
    "        maxi=x\n",
    "print(f\"The max element in array is {maxi}\")"
   ]
  },
  {
   "cell_type": "markdown",
   "id": "f4409176",
   "metadata": {},
   "source": [
    "### 17. Find the minimum value in a list."
   ]
  },
  {
   "cell_type": "code",
   "execution_count": 12,
   "id": "dee4d0bc",
   "metadata": {},
   "outputs": [
    {
     "name": "stdout",
     "output_type": "stream",
     "text": [
      "The minimum element in array is 1\n"
     ]
    }
   ],
   "source": [
    "my_list=[1,2,3,4,5,6]\n",
    "mini=1e9\n",
    "for x in my_list:\n",
    "    if x<mini:\n",
    "        mini=x\n",
    "print(f\"The minimum element in array is {mini}\")"
   ]
  },
  {
   "cell_type": "markdown",
   "id": "03b39be6",
   "metadata": {},
   "source": [
    "### 18. Create a list of squares of numbers from 1 to 10."
   ]
  },
  {
   "cell_type": "code",
   "execution_count": 13,
   "id": "32e28b03",
   "metadata": {},
   "outputs": [
    {
     "name": "stdout",
     "output_type": "stream",
     "text": [
      "List of squares: [1, 4, 9, 16, 25, 36, 49, 64, 81, 100]\n"
     ]
    }
   ],
   "source": [
    "# Use a list comprehension to create a list of squares of numbers from 1 to 10\n",
    "squares = [x ** 2 for x in range(1, 11)]\n",
    "\n",
    "# Print the list of squares\n",
    "print(\"List of squares:\", squares)"
   ]
  },
  {
   "cell_type": "markdown",
   "id": "be0bbdfc",
   "metadata": {},
   "source": [
    "### 19. Create a list of random numbers."
   ]
  },
  {
   "cell_type": "code",
   "execution_count": 14,
   "id": "6c9871e9",
   "metadata": {},
   "outputs": [
    {
     "name": "stdout",
     "output_type": "stream",
     "text": [
      "List of random integers: [70, 84, 51, 74, 80, 92, 20, 88, 55, 30]\n"
     ]
    }
   ],
   "source": [
    "import random\n",
    "\n",
    "# Create a list of random integers between 1 and 100\n",
    "random_integers = [random.randint(1, 100) for _ in range(10)]\n",
    "\n",
    "# Print the list of random integers\n",
    "print(\"List of random integers:\", random_integers)"
   ]
  },
  {
   "cell_type": "markdown",
   "id": "5eb51bd2",
   "metadata": {},
   "source": [
    "### 20. Remove duplicates from a list."
   ]
  },
  {
   "cell_type": "code",
   "execution_count": 15,
   "id": "e46be076",
   "metadata": {},
   "outputs": [
    {
     "name": "stdout",
     "output_type": "stream",
     "text": [
      "List without duplicates: [40, 10, 50, 20, 30]\n"
     ]
    }
   ],
   "source": [
    "# Example list with duplicates\n",
    "my_list = [10, 20, 30, 20, 40, 10, 50, 30]\n",
    "\n",
    "# Remove duplicates by converting to a set and back to a list\n",
    "unique_list = list(set(my_list))\n",
    "\n",
    "# Print the list without duplicates\n",
    "print(\"List without duplicates:\", unique_list)"
   ]
  },
  {
   "cell_type": "markdown",
   "id": "db005d14",
   "metadata": {},
   "source": [
    "### 21. Find the common elements between two lists."
   ]
  },
  {
   "cell_type": "code",
   "execution_count": 22,
   "id": "deb62cad",
   "metadata": {},
   "outputs": [
    {
     "name": "stdout",
     "output_type": "stream",
     "text": [
      "Common between lists: [40, 50, 30]\n"
     ]
    }
   ],
   "source": [
    "# Example lists\n",
    "list1 = [10, 20, 30, 40, 50]\n",
    "list2 = [30, 40, 50, 60, 70]\n",
    "\n",
    "# Find the difference between lists using the difference() method\n",
    "common = list(set(list1).intersection(list2))\n",
    "\n",
    "# Print the difference\n",
    "print(\"Common between lists:\", common)"
   ]
  },
  {
   "cell_type": "markdown",
   "id": "ac04ec28",
   "metadata": {},
   "source": [
    "### 22. Find the difference between two lists."
   ]
  },
  {
   "cell_type": "code",
   "execution_count": 23,
   "id": "d99c0295",
   "metadata": {},
   "outputs": [
    {
     "name": "stdout",
     "output_type": "stream",
     "text": [
      "Difference between lists: [20, 10]\n"
     ]
    }
   ],
   "source": [
    "# Example lists\n",
    "list1 = [10, 20, 30, 40, 50]\n",
    "list2 = [30, 40, 50, 60, 70]\n",
    "\n",
    "# Find the difference between lists using the difference() method\n",
    "difference = list(set(list1).difference(list2))\n",
    "\n",
    "# Print the difference\n",
    "print(\"Difference between lists:\", difference)"
   ]
  },
  {
   "cell_type": "markdown",
   "id": "b7ff8fff",
   "metadata": {},
   "source": [
    "### 23. Merge two lists."
   ]
  },
  {
   "cell_type": "code",
   "execution_count": 24,
   "id": "18701063",
   "metadata": {},
   "outputs": [
    {
     "name": "stdout",
     "output_type": "stream",
     "text": [
      "Merged list: [10, 20, 30, 40, 50, 60]\n"
     ]
    }
   ],
   "source": [
    "# Example lists\n",
    "list1 = [10, 20, 30]\n",
    "list2 = [40, 50, 60]\n",
    "\n",
    "# Merge lists using the + operator\n",
    "merged_list = list1 + list2\n",
    "\n",
    "# Print the merged list\n",
    "print(\"Merged list:\", merged_list)"
   ]
  },
  {
   "cell_type": "markdown",
   "id": "a1e8915e",
   "metadata": {},
   "source": [
    "### 24. Multiply all elements in a list by 2."
   ]
  },
  {
   "cell_type": "code",
   "execution_count": 25,
   "id": "c4ee07f4",
   "metadata": {},
   "outputs": [
    {
     "name": "stdout",
     "output_type": "stream",
     "text": [
      "Multiplied list: [20, 40, 60, 80, 100]\n"
     ]
    }
   ],
   "source": [
    "# Example list\n",
    "my_list = [10, 20, 30, 40, 50]\n",
    "\n",
    "# Multiply all elements by 2 using a list comprehension\n",
    "multiplied_list = [x * 2 for x in my_list]\n",
    "\n",
    "# Print the multiplied list\n",
    "print(\"Multiplied list:\", multiplied_list)"
   ]
  },
  {
   "cell_type": "markdown",
   "id": "1c360100",
   "metadata": {},
   "source": [
    "### 25. Filter out all even numbers from a list."
   ]
  },
  {
   "cell_type": "code",
   "execution_count": 32,
   "id": "82e89aea",
   "metadata": {},
   "outputs": [
    {
     "name": "stdout",
     "output_type": "stream",
     "text": [
      "[10, 12, 14]\n"
     ]
    }
   ],
   "source": [
    "my_list = [10,11,12,14,15,17,19,21]\n",
    "lis=[]\n",
    "for x in my_list:\n",
    "    if(x%2==0):\n",
    "        lis.append(x)\n",
    "        \n",
    "print(lis)"
   ]
  },
  {
   "cell_type": "markdown",
   "id": "af81b70b",
   "metadata": {},
   "source": [
    "### 26. Convert a list of strings to a list of integers."
   ]
  },
  {
   "cell_type": "code",
   "execution_count": 33,
   "id": "44ffec79",
   "metadata": {},
   "outputs": [
    {
     "name": "stdout",
     "output_type": "stream",
     "text": [
      "List of integers: [10, 20, 30, 40, 50]\n"
     ]
    }
   ],
   "source": [
    "# Example list of strings\n",
    "string_list = [\"10\", \"20\", \"30\", \"40\", \"50\"]\n",
    "\n",
    "# Convert list of strings to list of integers using a list comprehension\n",
    "integer_list = [int(x) for x in string_list]\n",
    "\n",
    "# Print the list of integers\n",
    "print(\"List of integers:\", integer_list)"
   ]
  },
  {
   "cell_type": "markdown",
   "metadata": {},
   "source": [
    "### 27. Convert a list of integers to a list of strings."
   ]
  },
  {
   "cell_type": "code",
   "execution_count": 34,
   "id": "1da12cc8",
   "metadata": {},
   "outputs": [
    {
     "name": "stdout",
     "output_type": "stream",
     "text": [
      "List of strings: ['10', '20', '30', '40', '50']\n"
     ]
    }
   ],
   "source": [
    "# Example list of integers\n",
    "integer_list = [10, 20, 30, 40, 50]\n",
    "\n",
    "# Convert list of integers to list of strings using a list comprehension\n",
    "string_list = [str(x) for x in integer_list]\n",
    "\n",
    "# Print the list of strings\n",
    "print(\"List of strings:\", string_list)"
   ]
  },
  {
   "cell_type": "markdown",
   "id": "ea876d1c",
   "metadata": {},
   "source": [
    "### 28. Flatten a nested list."
   ]
  },
  {
   "cell_type": "code",
   "execution_count": 36,
   "id": "d0715386",
   "metadata": {},
   "outputs": [
    {
     "ename": "TypeError",
     "evalue": "isinstance() arg 2 must be a type, a tuple of types, or a union",
     "output_type": "error",
     "traceback": [
      "\u001b[1;31m---------------------------------------------------------------------------\u001b[0m",
      "\u001b[1;31mTypeError\u001b[0m                                 Traceback (most recent call last)",
      "Cell \u001b[1;32mIn[36], line 15\u001b[0m\n\u001b[0;32m     12\u001b[0m     \u001b[39mreturn\u001b[39;00m flattened\n\u001b[0;32m     14\u001b[0m \u001b[39m# Flatten the nested list\u001b[39;00m\n\u001b[1;32m---> 15\u001b[0m flattened_list \u001b[39m=\u001b[39m flatten_list(nested_list)\n\u001b[0;32m     17\u001b[0m \u001b[39m# Print the flattened list\u001b[39;00m\n\u001b[0;32m     18\u001b[0m \u001b[39mprint\u001b[39m(\u001b[39m\"\u001b[39m\u001b[39mFlattened list:\u001b[39m\u001b[39m\"\u001b[39m, flattened_list)\n",
      "Cell \u001b[1;32mIn[36], line 8\u001b[0m, in \u001b[0;36mflatten_list\u001b[1;34m(nested)\u001b[0m\n\u001b[0;32m      6\u001b[0m flattened \u001b[39m=\u001b[39m []\n\u001b[0;32m      7\u001b[0m \u001b[39mfor\u001b[39;00m sublist \u001b[39min\u001b[39;00m nested:\n\u001b[1;32m----> 8\u001b[0m     \u001b[39mif\u001b[39;00m \u001b[39misinstance\u001b[39;49m(sublist, \u001b[39mlist\u001b[39;49m):\n\u001b[0;32m      9\u001b[0m         flattened\u001b[39m.\u001b[39mextend(flatten_list(sublist))\n\u001b[0;32m     10\u001b[0m     \u001b[39melse\u001b[39;00m:\n",
      "\u001b[1;31mTypeError\u001b[0m: isinstance() arg 2 must be a type, a tuple of types, or a union"
     ]
    }
   ],
   "source": [
    "# Example nested list\n",
    "nested_list = [[1, 2, 3], [4, 5], [6, 7, 8, 9]]\n",
    "\n",
    "# Function to flatten a nested list\n",
    "def flatten_list(nested):\n",
    "    flattened = []\n",
    "    for sublist in nested:\n",
    "        if isinstance(sublist, list):\n",
    "            flattened.extend(flatten_list(sublist))\n",
    "        else:\n",
    "            flattened.append(sublist)\n",
    "    return flattened\n",
    "\n",
    "# Flatten the nested list\n",
    "flattened_list = flatten_list(nested_list)\n",
    "\n",
    "# Print the flattened list\n",
    "print(\"Flattened list:\", flattened_list)"
   ]
  },
  {
   "cell_type": "markdown",
   "id": "9b202012",
   "metadata": {},
   "source": [
    "### 29. Create a list of the first 10 Fibonacci numbers."
   ]
  },
  {
   "cell_type": "code",
   "execution_count": 39,
   "id": "e548007d",
   "metadata": {},
   "outputs": [
    {
     "name": "stdout",
     "output_type": "stream",
     "text": [
      "First 10 Fibonacci numbers: [0, 1, 1, 2, 3, 5, 8, 13, 21, 34]\n"
     ]
    }
   ],
   "source": [
    "# Function to generate the first n Fibonacci numbers\n",
    "def generate_fibonacci(n):\n",
    "    fibonacci_list = [0, 1]  # Initialize the list with the first two Fibonacci numbers\n",
    "\n",
    "    for i in range(2, n):\n",
    "        next_fibonacci = fibonacci_list[i - 1] + fibonacci_list[i - 2]\n",
    "        fibonacci_list.append(next_fibonacci)\n",
    "\n",
    "    return fibonacci_list\n",
    "\n",
    "# Generate the first 10 Fibonacci numbers\n",
    "fibonacci_numbers = generate_fibonacci(10)\n",
    "\n",
    "# Print the list of Fibonacci numbers\n",
    "print(\"First 10 Fibonacci numbers:\", fibonacci_numbers)"
   ]
  },
  {
   "cell_type": "markdown",
   "id": "e8fde0ae",
   "metadata": {},
   "source": [
    "### 30. Check if a list is sorted.\n",
    "  \n",
    "  - Checking for ascending order:"
   ]
  },
  {
   "cell_type": "code",
   "execution_count": 44,
   "id": "73c8be0c",
   "metadata": {},
   "outputs": [
    {
     "name": "stdout",
     "output_type": "stream",
     "text": [
      "True\n"
     ]
    }
   ],
   "source": [
    "def sorte(lst):\n",
    "    for i in range(1,len(lst)):\n",
    "        if(lst[i]<lst[i-1]):\n",
    "            return False\n",
    "        else:\n",
    "            return True\n",
    "        \n",
    "lst=[1,2,3,4,5,6]\n",
    "print(sorte(lst))\n"
   ]
  },
  {
   "cell_type": "markdown",
   "id": "bf4f4668",
   "metadata": {},
   "source": [
    "### 31. Rotate a list to the left by `n` positions."
   ]
  },
  {
   "cell_type": "code",
   "execution_count": 45,
   "id": "2e30a6e7",
   "metadata": {},
   "outputs": [
    {
     "name": "stdout",
     "output_type": "stream",
     "text": [
      "Rotated list: [3, 4, 5, 6, 1, 2]\n"
     ]
    }
   ],
   "source": [
    "# Function to rotate a list to the left by n positions\n",
    "def rotate_left(lst, n):\n",
    "    n = n % len(lst)  # Normalize n to handle cases where n is larger than the list length\n",
    "    # print(n)\n",
    "    rotated = lst[n:] + lst[:n]\n",
    "    return rotated\n",
    "\n",
    "# Example list\n",
    "my_list = [1, 2, 3, 4, 5, 6]\n",
    "\n",
    "# Number of positions to rotate by\n",
    "n = 2\n",
    "\n",
    "# Rotate the list to the left by n positions\n",
    "rotated_list = rotate_left(my_list, n)\n",
    "\n",
    "# Print the rotated list\n",
    "print(\"Rotated list:\", rotated_list)"
   ]
  },
  {
   "cell_type": "markdown",
   "id": "2652e629",
   "metadata": {},
   "source": [
    "### 32. Rotate a list to the right by `n` positions."
   ]
  },
  {
   "cell_type": "code",
   "execution_count": 46,
   "id": "ac08e0ac",
   "metadata": {},
   "outputs": [
    {
     "name": "stdout",
     "output_type": "stream",
     "text": [
      "Rotated list: [5, 6, 1, 2, 3, 4]\n"
     ]
    }
   ],
   "source": [
    "# Function to rotate a list to the right by n positions\n",
    "def rotate_right(lst, n):\n",
    "    n = n % len(lst)  # Normalize n to handle cases where n is larger than the list length\n",
    "    # print(n)\n",
    "    rotated = lst[-n:] + lst[:-n]\n",
    "    return rotated\n",
    "\n",
    "# Example list\n",
    "my_list = [1, 2, 3, 4, 5, 6]\n",
    "\n",
    "# Number of positions to rotate by\n",
    "n = 2\n",
    "\n",
    "# Rotate the list to the right by n positions\n",
    "rotated_list = rotate_right(my_list, n)\n",
    "\n",
    "# Print the rotated list\n",
    "print(\"Rotated list:\", rotated_list)"
   ]
  },
  {
   "cell_type": "markdown",
   "id": "9b7d30e1",
   "metadata": {},
   "source": [
    "### 33. Create a list of prime numbers up to 50."
   ]
  },
  {
   "cell_type": "code",
   "execution_count": 47,
   "id": "fd8edf90",
   "metadata": {},
   "outputs": [
    {
     "name": "stdout",
     "output_type": "stream",
     "text": [
      "5 25\n",
      "5 29\n",
      "List of prime numbers up to 50: [2, 3, 5, 7, 11, 13, 17, 19, 23, 29]\n"
     ]
    }
   ],
   "source": [
    "# Function to check if a number is prime\n",
    "def is_prime(num):\n",
    "    if num <= 1:\n",
    "        return False\n",
    "    if num <= 3:\n",
    "        return True\n",
    "    if num % 2 == 0 or num % 3 == 0:\n",
    "        return False\n",
    "    i = 5\n",
    "    while i * i <= num:\n",
    "      print(i,num)\n",
    "      if num % i == 0 or num % (i + 2) == 0:\n",
    "          return False\n",
    "      i += 6\n",
    "    return True\n",
    "\n",
    "# Create a list of prime numbers up to 50\n",
    "prime_numbers = [num for num in range(2,30) if is_prime(num)]\n",
    "\n",
    "# Print the list of prime numbers\n",
    "print(\"List of prime numbers up to 50:\", prime_numbers)"
   ]
  },
  {
   "cell_type": "markdown",
   "id": "d1f9460b",
   "metadata": {},
   "source": [
    "### 34. Split a list into chunks of size `n`."
   ]
  },
  {
   "cell_type": "code",
   "execution_count": 52,
   "id": "bc58ef05",
   "metadata": {},
   "outputs": [
    {
     "data": {
      "text/plain": [
       "[array([1, 2, 3, 4, 5, 6]), array([ 7,  8,  9, 10, 11, 12])]"
      ]
     },
     "execution_count": 52,
     "metadata": {},
     "output_type": "execute_result"
    }
   ],
   "source": [
    "\n",
    "import numpy as np\n",
    "  \n",
    "arr =[1,2,3,4,5,6,7,8,9,10,11,12]\n",
    "np.array_split(arr, 2)"
   ]
  },
  {
   "cell_type": "markdown",
   "id": "322dff08",
   "metadata": {},
   "source": [
    "### 35. Find the second largest number in a list."
   ]
  },
  {
   "cell_type": "code",
   "execution_count": 54,
   "id": "dd624acc",
   "metadata": {},
   "outputs": [
    {
     "name": "stdout",
     "output_type": "stream",
     "text": [
      "Second largest number: 25\n"
     ]
    }
   ],
   "source": [
    "# Example list\n",
    "my_list = [10, 5, 20, 15, 30, 25]\n",
    "\n",
    "# Remove duplicates and sort the list in ascending order\n",
    "sorted_list = sorted(set(my_list))\n",
    "\n",
    "# Find the second largest number\n",
    "if len(sorted_list) >= 2:\n",
    "    second_largest = sorted_list[-2]\n",
    "    print(\"Second largest number:\", second_largest)\n",
    "else:\n",
    "    print(\"The list does not contain enough elements.\")"
   ]
  },
  {
   "cell_type": "markdown",
   "id": "83504f0b",
   "metadata": {},
   "source": [
    "### 36. Replace every element in a list with its square."
   ]
  },
  {
   "cell_type": "code",
   "execution_count": 55,
   "id": "ab87eb35",
   "metadata": {},
   "outputs": [
    {
     "name": "stdout",
     "output_type": "stream",
     "text": [
      "[1, 4, 9, 16, 25, 36]\n"
     ]
    }
   ],
   "source": [
    "my_list=[1,2,3,4,5,6]\n",
    "s_list=[x**2 for x in my_list]\n",
    "print(s_list)"
   ]
  },
  {
   "cell_type": "markdown",
   "id": "69ec9b88",
   "metadata": {},
   "source": [
    "37. Convert a list to a dictionary where list elements become keys and their\n",
    "indices become values."
   ]
  },
  {
   "cell_type": "code",
   "execution_count": 57,
   "id": "baf2d849",
   "metadata": {},
   "outputs": [
    {
     "name": "stdout",
     "output_type": "stream",
     "text": [
      "Converted dictionary: {'apple': 0, 'mango': 1, 'bananan': 2, 'pomogranate': 3}\n"
     ]
    }
   ],
   "source": [
    "my_list=['apple','mango','bananan','pomogranate']\n",
    "my_dict = {element: index for index, element in enumerate(my_list)}\n",
    "\n",
    "# Print the resulting dictionary\n",
    "print(\"Converted dictionary:\", my_dict)"
   ]
  },
  {
   "cell_type": "markdown",
   "id": "28d83d10",
   "metadata": {},
   "source": [
    "### 38. Shuffle the elements of a list randomly."
   ]
  },
  {
   "cell_type": "code",
   "execution_count": 58,
   "id": "67e095b5",
   "metadata": {},
   "outputs": [
    {
     "name": "stdout",
     "output_type": "stream",
     "text": [
      "[3, 10, 7, 1, 8, 9, 5, 2, 4, 6]\n"
     ]
    }
   ],
   "source": [
    "my_list=[1,2,3,4,5,6,7,8,9,10]\n",
    "random.shuffle(my_list)\n",
    "print(my_list)"
   ]
  },
  {
   "cell_type": "markdown",
   "id": "67029387",
   "metadata": {},
   "source": [
    "### 39. Create a list of the first 10 factorial numbers."
   ]
  },
  {
   "cell_type": "code",
   "execution_count": 59,
   "id": "2ea9c729",
   "metadata": {},
   "outputs": [
    {
     "name": "stdout",
     "output_type": "stream",
     "text": [
      "First 10 Fibonacci numbers: [0, 1, 1, 2, 3, 5, 8, 13, 21, 34]\n"
     ]
    }
   ],
   "source": [
    "# Function to generate the first n Fibonacci numbers\n",
    "def generate_fibonacci(n):\n",
    "    fibonacci_list = [0, 1]  # Initialize the list with the first two Fibonacci numbers\n",
    "\n",
    "    for i in range(2, n):\n",
    "        next_fibonacci = fibonacci_list[i - 1] + fibonacci_list[i - 2]\n",
    "        fibonacci_list.append(next_fibonacci)\n",
    "\n",
    "    return fibonacci_list\n",
    "\n",
    "# Generate the first 10 Fibonacci numbers\n",
    "fibonacci_numbers = generate_fibonacci(10)\n",
    "\n",
    "# Print the list of Fibonacci numbers\n",
    "print(\"First 10 Fibonacci numbers:\", fibonacci_numbers)"
   ]
  },
  {
   "cell_type": "markdown",
   "id": "20026655",
   "metadata": {},
   "source": [
    "### 40. Check if two lists have at least one element in common."
   ]
  },
  {
   "cell_type": "code",
   "execution_count": 63,
   "id": "f30e795c",
   "metadata": {},
   "outputs": [
    {
     "name": "stdout",
     "output_type": "stream",
     "text": [
      "It has at least 1 common element\n"
     ]
    }
   ],
   "source": [
    "list1 = [10, 20, 30, 40, 50]\n",
    "list2 = [30, 40, 50, 60, 70]\n",
    "x=(set(list1).intersection(list2))\n",
    "if(len(x)>0):\n",
    "    print(\"It has at least 1 common element\")\n",
    "else:\n",
    "    print(\"No common element\")\n"
   ]
  },
  {
   "cell_type": "markdown",
   "id": "c0fb36a7",
   "metadata": {},
   "source": [
    "### 41. Remove all elements from a list."
   ]
  },
  {
   "cell_type": "code",
   "execution_count": 64,
   "id": "474323f8",
   "metadata": {},
   "outputs": [
    {
     "name": "stdout",
     "output_type": "stream",
     "text": [
      "Empty list: []\n"
     ]
    }
   ],
   "source": [
    "# Example list\n",
    "my_list = [1, 2, 3, 4, 5]\n",
    "\n",
    "# Clear all elements from the list\n",
    "my_list.clear()\n",
    "\n",
    "# Print the empty list\n",
    "print(\"Empty list:\", my_list)"
   ]
  },
  {
   "cell_type": "markdown",
   "id": "dd5014f9",
   "metadata": {},
   "source": [
    "### 42. Replace negative numbers in a list with 0."
   ]
  },
  {
   "cell_type": "code",
   "execution_count": 67,
   "id": "f56dd7b3",
   "metadata": {},
   "outputs": [
    {
     "name": "stdout",
     "output_type": "stream",
     "text": [
      "[1, 2, 3, 0, 0]\n"
     ]
    }
   ],
   "source": [
    "my_list = [1, 2, 3, -4, -5]\n",
    "for i in range(len(my_list)):\n",
    "    if(my_list[i]<0):\n",
    "       my_list[i]=0\n",
    "\n",
    "print(my_list)"
   ]
  },
  {
   "cell_type": "markdown",
   "id": "a1b50643",
   "metadata": {},
   "source": [
    "### 43. Convert a string into a list of words."
   ]
  },
  {
   "cell_type": "code",
   "execution_count": 68,
   "id": "ae5719d3",
   "metadata": {},
   "outputs": [
    {
     "name": "stdout",
     "output_type": "stream",
     "text": [
      "List of words: ['Hello,', 'this', 'is', 'a', 'sample', 'sentence.']\n"
     ]
    }
   ],
   "source": [
    "# Example string\n",
    "my_string = \"Hello, this is a sample sentence.\"\n",
    "\n",
    "# Convert the string into a list of words\n",
    "word_list = my_string.split()\n",
    "\n",
    "# Print the list of words\n",
    "print(\"List of words:\", word_list)"
   ]
  },
  {
   "cell_type": "markdown",
   "id": "fa097175",
   "metadata": {},
   "source": [
    "### 44. Convert a list of words into a string."
   ]
  },
  {
   "cell_type": "code",
   "execution_count": 69,
   "id": "99ad5306",
   "metadata": {},
   "outputs": [
    {
     "name": "stdout",
     "output_type": "stream",
     "text": [
      "Converted string: Hello, this is a sample sentence.\n"
     ]
    }
   ],
   "source": [
    "# Example list of words\n",
    "word_list = [\"Hello,\", \"this\", \"is\", \"a\", \"sample\", \"sentence.\"]\n",
    "\n",
    "# Convert the list of words into a string\n",
    "my_string = \" \".join(word_list)\n",
    "\n",
    "# Print the resulting string\n",
    "print(\"Converted string:\", my_string)"
   ]
  },
  {
   "cell_type": "markdown",
   "id": "11eee8bf",
   "metadata": {},
   "source": [
    "### 45. Create a list of the first `n` powers of 2."
   ]
  },
  {
   "cell_type": "code",
   "execution_count": 70,
   "id": "437ee976",
   "metadata": {},
   "outputs": [
    {
     "name": "stdout",
     "output_type": "stream",
     "text": [
      "List of the first 5 powers of 2: [1, 2, 4, 8, 16]\n"
     ]
    }
   ],
   "source": [
    "# Specify the value of n\n",
    "n = 5\n",
    "\n",
    "# Create a list of the first n powers of 2 using a loop\n",
    "power_list = [2 ** i for i in range(n)]\n",
    "\n",
    "# Print the list of powers of 2\n",
    "print(\"List of the first\", n, \"powers of 2:\", power_list)"
   ]
  },
  {
   "cell_type": "markdown",
   "id": "222005ae",
   "metadata": {},
   "source": [
    "### 46. Find the longest string in a list of strings."
   ]
  },
  {
   "cell_type": "code",
   "execution_count": 71,
   "id": "6cddf959",
   "metadata": {},
   "outputs": [
    {
     "name": "stdout",
     "output_type": "stream",
     "text": [
      "Longest string: elderberry\n"
     ]
    }
   ],
   "source": [
    "# Example list of strings\n",
    "string_list = [\"apple\", \"banana\", \"cherry\", \"date\", \"elderberry\"]\n",
    "\n",
    "# Find the longest string in the list\n",
    "longest_string = \"\"\n",
    "for s in string_list:\n",
    "    if len(s) > len(longest_string):\n",
    "        longest_string = s\n",
    "\n",
    "# Print the longest string\n",
    "print(\"Longest string:\", longest_string)"
   ]
  },
  {
   "cell_type": "markdown",
   "id": "ca997603",
   "metadata": {},
   "source": [
    "### 47. Find the shortest string in a list of strings."
   ]
  },
  {
   "cell_type": "code",
   "execution_count": 72,
   "id": "a086e7ca",
   "metadata": {},
   "outputs": [
    {
     "name": "stdout",
     "output_type": "stream",
     "text": [
      "Shortest string: date\n"
     ]
    }
   ],
   "source": [
    "# Example list of strings\n",
    "string_list = [\"apple\", \"banana\", \"cherry\", \"date\", \"elderberry\"]\n",
    "\n",
    "# Find the shortest string in the list\n",
    "shortest_string = string_list[0]  # Initialize with the first string\n",
    "for s in string_list:\n",
    "    if len(s) < len(shortest_string):\n",
    "        shortest_string = s\n",
    "\n",
    "# Print the shortest string\n",
    "print(\"Shortest string:\", shortest_string)"
   ]
  },
  {
   "cell_type": "markdown",
   "id": "9a3d8825",
   "metadata": {},
   "source": [
    "### 48. Create a list of the first `n` triangular numbers."
   ]
  },
  {
   "cell_type": "code",
   "execution_count": 73,
   "id": "5afe254f",
   "metadata": {},
   "outputs": [
    {
     "name": "stdout",
     "output_type": "stream",
     "text": [
      "List of the first 5 triangular numbers: [1, 3, 6, 10, 15]\n"
     ]
    }
   ],
   "source": [
    "# Function to calculate triangular numbers\n",
    "def triangular_numbers(n):\n",
    "    return [i * (i + 1) // 2 for i in range(1, n + 1)]\n",
    "\n",
    "# Specify the value of n\n",
    "n = 5\n",
    "\n",
    "# Create a list of the first n triangular numbers\n",
    "triangular_list = triangular_numbers(n)\n",
    "\n",
    "# Print the list of triangular numbers\n",
    "print(\"List of the first\", n, \"triangular numbers:\", triangular_list)"
   ]
  },
  {
   "cell_type": "markdown",
   "id": "8da31cd3",
   "metadata": {},
   "source": [
    "### 49. Check if a list contains another list as a subsequence."
   ]
  },
  {
   "cell_type": "code",
   "execution_count": 74,
   "id": "5fa7f8ba",
   "metadata": {},
   "outputs": [
    {
     "name": "stdout",
     "output_type": "stream",
     "text": [
      "Main list contains the subsequence.\n"
     ]
    }
   ],
   "source": [
    "# Function to check if a list contains another list as a subsequence\n",
    "def is_subsequence(subsequence, main_list):\n",
    "    subseq_index = 0  # Index for the subsequence elements\n",
    "    for element in main_list:\n",
    "        if element == subsequence[subseq_index]:\n",
    "            subseq_index += 1\n",
    "            if subseq_index == len(subsequence):\n",
    "                return True\n",
    "    return False\n",
    "\n",
    "# Example main list and subsequence\n",
    "main_list = [1, 2, 3, 4, 5, 6, 7, 8, 9, 10]\n",
    "subsequence = [3, 5, 8]\n",
    "\n",
    "# Check if the main list contains the subsequence\n",
    "if is_subsequence(subsequence, main_list):\n",
    "    print(\"Main list contains the subsequence.\")\n",
    "else:\n",
    "    print(\"Main list does not contain the subsequence.\")"
   ]
  },
  {
   "cell_type": "markdown",
   "id": "e74ce0ba",
   "metadata": {},
   "source": [
    "### 50. Swap two elements in a list by their indices."
   ]
  },
  {
   "cell_type": "code",
   "execution_count": 75,
   "id": "46d631b2",
   "metadata": {},
   "outputs": [
    {
     "name": "stdout",
     "output_type": "stream",
     "text": [
      "List after swapping elements: [1, 4, 3, 2, 5]\n"
     ]
    }
   ],
   "source": [
    "# Example list\n",
    "my_list = [1, 2, 3, 4, 5]\n",
    "\n",
    "# Indices of elements to swap\n",
    "index1 = 1\n",
    "index2 = 3\n",
    "\n",
    "# Swap the elements at the specified indices\n",
    "temp = my_list[index1]\n",
    "my_list[index1] = my_list[index2]\n",
    "my_list[index2] = temp\n",
    "\n",
    "# Print the list after swapping\n",
    "print(\"List after swapping elements:\", my_list)"
   ]
  },
  {
   "cell_type": "code",
   "execution_count": null,
   "id": "3a6d9cc2",
   "metadata": {},
   "outputs": [],
   "source": []
  },
  {
   "cell_type": "code",
   "execution_count": null,
   "id": "fe9ea63c",
   "metadata": {},
   "outputs": [],
   "source": []
  },
  {
   "cell_type": "markdown",
   "id": "c2862440",
   "metadata": {},
   "source": [
    "## **Tuple based practice problem :**\n",
    "\n",
    "---\n"
   ]
  },
  {
   "cell_type": "markdown",
   "id": "fe7fe98c",
   "metadata": {},
   "source": [
    "### 1. Create a tuple with integers from 1 to 5."
   ]
  },
  {
   "cell_type": "code",
   "execution_count": 77,
   "id": "62f51f2c",
   "metadata": {},
   "outputs": [
    {
     "name": "stdout",
     "output_type": "stream",
     "text": [
      "(1, 2, 3, 4, 5)\n"
     ]
    }
   ],
   "source": [
    "my_tuple=(1,2,3,4,5)\n",
    "print(my_tuple)"
   ]
  },
  {
   "cell_type": "markdown",
   "id": "d185e2f5",
   "metadata": {},
   "source": [
    "### 2. Access the third element of a tuple."
   ]
  },
  {
   "cell_type": "code",
   "execution_count": 79,
   "id": "33b10f9c",
   "metadata": {},
   "outputs": [
    {
     "name": "stdout",
     "output_type": "stream",
     "text": [
      "Third element of tuple is  3\n"
     ]
    }
   ],
   "source": [
    "my_tuple=(1,2,3,4,5,6)\n",
    "x=my_tuple[2]\n",
    "print(\"Third element of tuple is \",x)"
   ]
  },
  {
   "cell_type": "markdown",
   "id": "d442c47c",
   "metadata": {},
   "source": [
    "### 3. Find the length of a tuple without using the `len()` function."
   ]
  },
  {
   "cell_type": "code",
   "execution_count": 80,
   "id": "1662f5d9",
   "metadata": {},
   "outputs": [
    {
     "name": "stdout",
     "output_type": "stream",
     "text": [
      "Length og tupple is 6\n"
     ]
    }
   ],
   "source": [
    "my_tuple=(1,2,3,4,5,6)\n",
    "cnt=0\n",
    "for i in my_tuple:\n",
    "    cnt=cnt+1\n",
    "\n",
    "print(\"Length og tupple is\",cnt)"
   ]
  },
  {
   "cell_type": "markdown",
   "id": "af5e62b7",
   "metadata": {},
   "source": [
    "### 4. Count the occurrences of an element in a tuple."
   ]
  },
  {
   "cell_type": "code",
   "execution_count": 84,
   "id": "8a51438b",
   "metadata": {},
   "outputs": [
    {
     "name": "stdout",
     "output_type": "stream",
     "text": [
      "3 occurred 4 times in given tuple\n"
     ]
    }
   ],
   "source": [
    "my_tuple=(1,2,3,4,5,6,3,3,33,3)\n",
    "cnt=0\n",
    "n=3\n",
    "for i in range(len(my_tuple)):\n",
    "    if(my_tuple[i]==n):\n",
    "        cnt=cnt+1\n",
    "# print(cnt)\n",
    "print(f\"{n} occurred {cnt} times in given tuple\")"
   ]
  },
  {
   "cell_type": "markdown",
   "id": "145a2bc4",
   "metadata": {},
   "source": [
    "### 5. Find the index of the first occurrence of an element in a tuple."
   ]
  },
  {
   "cell_type": "code",
   "execution_count": 86,
   "id": "a3e593c9",
   "metadata": {},
   "outputs": [
    {
     "name": "stdout",
     "output_type": "stream",
     "text": [
      "The first occurence of 3 is at index 2\n"
     ]
    }
   ],
   "source": [
    "my_tuple=(1,2,3,4,5,6,3,3,33,3)\n",
    "idx=0\n",
    "n=3\n",
    "for i in range(len(my_tuple)):\n",
    "    if(my_tuple[i]==n):\n",
    "        print(f\"The first occurence of {n} is at index {i}\")\n",
    "        break\n",
    "    "
   ]
  },
  {
   "cell_type": "markdown",
   "id": "adcb4a39",
   "metadata": {},
   "source": [
    "### 6. Check if an element exists in a tuple."
   ]
  },
  {
   "cell_type": "code",
   "execution_count": 90,
   "id": "a8a0bc83",
   "metadata": {},
   "outputs": [
    {
     "name": "stdout",
     "output_type": "stream",
     "text": [
      "Element 3 exist in a tuple\n"
     ]
    }
   ],
   "source": [
    "my_tuple=(1,2,3,4,5,6,3,3,33,3)\n",
    "n=3\n",
    "if n in my_tuple:\n",
    "     print(f\"Element {n} exist in a tuple\")\n",
    "else:\n",
    "    print(\"Element doesn't exists\")"
   ]
  },
  {
   "cell_type": "markdown",
   "id": "85a90f6d",
   "metadata": {},
   "source": [
    "### 7. Convert a tuple to a list."
   ]
  },
  {
   "cell_type": "code",
   "execution_count": 94,
   "id": "03b7c3c1",
   "metadata": {},
   "outputs": [
    {
     "ename": "TypeError",
     "evalue": "'list' object is not callable",
     "output_type": "error",
     "traceback": [
      "\u001b[1;31m---------------------------------------------------------------------------\u001b[0m",
      "\u001b[1;31mTypeError\u001b[0m                                 Traceback (most recent call last)",
      "Cell \u001b[1;32mIn[94], line 5\u001b[0m\n\u001b[0;32m      2\u001b[0m my_tuple \u001b[39m=\u001b[39m (\u001b[39m10\u001b[39m, \u001b[39m20\u001b[39m, \u001b[39m30\u001b[39m, \u001b[39m40\u001b[39m, \u001b[39m50\u001b[39m)\n\u001b[0;32m      4\u001b[0m \u001b[39m# Step 2: Convert the tuple to a list\u001b[39;00m\n\u001b[1;32m----> 5\u001b[0m my_list \u001b[39m=\u001b[39m \u001b[39mlist\u001b[39;49m(my_tuple)\n\u001b[0;32m      7\u001b[0m \u001b[39m# Step 3: Print the resulting list\u001b[39;00m\n\u001b[0;32m      8\u001b[0m \u001b[39mprint\u001b[39m(\u001b[39m\"\u001b[39m\u001b[39mTuple:\u001b[39m\u001b[39m\"\u001b[39m, my_tuple)\n",
      "\u001b[1;31mTypeError\u001b[0m: 'list' object is not callable"
     ]
    }
   ],
   "source": [
    "# Step 1: Create a tuple\n",
    "my_tuple = (10, 20, 30, 40, 50)\n",
    "\n",
    "# Step 2: Convert the tuple to a list\n",
    "my_list = list(my_tuple)\n",
    "\n",
    "# Step 3: Print the resulting list\n",
    "print(\"Tuple:\", my_tuple)\n",
    "print(\"List:\", my_list)"
   ]
  },
  {
   "cell_type": "markdown",
   "id": "9bfefa14",
   "metadata": {},
   "source": [
    "### 8. Convert a list to a tuple."
   ]
  },
  {
   "cell_type": "code",
   "execution_count": 95,
   "id": "54a88b90",
   "metadata": {},
   "outputs": [
    {
     "name": "stdout",
     "output_type": "stream",
     "text": [
      "List: [10, 20, 30, 40, 50]\n",
      "Tuple: (10, 20, 30, 40, 50)\n"
     ]
    }
   ],
   "source": [
    "# Step 1: Create a list\n",
    "my_list = [10, 20, 30, 40, 50]\n",
    "\n",
    "# Step 2: Convert the list to a tuple\n",
    "my_tuple = tuple(my_list)\n",
    "\n",
    "# Step 3: Print the resulting tuple\n",
    "print(\"List:\", my_list)\n",
    "print(\"Tuple:\", my_tuple)\n"
   ]
  },
  {
   "cell_type": "markdown",
   "id": "eab47d5c",
   "metadata": {},
   "source": [
    "### 9. Unpack the elements of a tuple into variables."
   ]
  },
  {
   "cell_type": "code",
   "execution_count": 96,
   "id": "9a9bedb4",
   "metadata": {},
   "outputs": [
    {
     "name": "stdout",
     "output_type": "stream",
     "text": [
      "var1: 10\n",
      "var2: 20\n",
      "var3: 30\n"
     ]
    }
   ],
   "source": [
    "# Step 1: Create a tuple\n",
    "my_tuple = (10, 20, 30)\n",
    "\n",
    "# Step 2: Unpack the elements of the tuple into variables\n",
    "var1, var2, var3 = my_tuple\n",
    "\n",
    "# Step 3: Print the variables\n",
    "print(\"var1:\", var1)\n",
    "print(\"var2:\", var2)\n",
    "print(\"var3:\", var3)"
   ]
  },
  {
   "cell_type": "markdown",
   "id": "63399871",
   "metadata": {},
   "source": [
    "### 10. Create a tuple of even numbers from 1 to 10."
   ]
  },
  {
   "cell_type": "code",
   "execution_count": 98,
   "id": "9f76a78b",
   "metadata": {},
   "outputs": [
    {
     "name": "stdout",
     "output_type": "stream",
     "text": [
      "Tuple of even numbers: (2, 4, 6, 8, 10)\n"
     ]
    }
   ],
   "source": [
    "# Step 1: Create a list of even numbers using a list comprehension\n",
    "even_numbers_list = [num for num in range(2, 11, 2)]  # Start from 2, step by 2, end at 10\n",
    "\n",
    "# Step 2: Convert the list to a tuple\n",
    "even_numbers_tuple = tuple(even_numbers_list)\n",
    "\n",
    "# Step 3: Print the resulting tuple\n",
    "print(\"Tuple of even numbers:\", even_numbers_tuple)"
   ]
  },
  {
   "cell_type": "markdown",
   "id": "3baf5588",
   "metadata": {},
   "source": [
    "### 11. Create a tuple of odd numbers from 1 to 10."
   ]
  },
  {
   "cell_type": "code",
   "execution_count": 99,
   "id": "e924cdf4",
   "metadata": {},
   "outputs": [
    {
     "name": "stdout",
     "output_type": "stream",
     "text": [
      "Tuple of odd numbers: (1, 3, 5, 7, 9)\n"
     ]
    }
   ],
   "source": [
    "# Step 1: Create a list of even numbers using a list comprehension\n",
    "odd_numbers_list = [num for num in range(1, 10, 2)]  # Start from 2, step by 2, end at 10\n",
    "\n",
    "# Step 2: Convert the list to a tuple\n",
    "odd_numbers_tuple = tuple(odd_numbers_list)\n",
    "\n",
    "# Step 3: Print the resulting tuple\n",
    "print(\"Tuple of odd numbers:\", odd_numbers_tuple)"
   ]
  },
  {
   "cell_type": "markdown",
   "id": "6c93741a",
   "metadata": {},
   "source": [
    "### 12. Concatenate two tuples."
   ]
  },
  {
   "cell_type": "code",
   "execution_count": 101,
   "id": "5e4a206e",
   "metadata": {},
   "outputs": [
    {
     "name": "stdout",
     "output_type": "stream",
     "text": [
      "Concatenated tuple: (1, 2, 3, 4, 5, 6)\n"
     ]
    }
   ],
   "source": [
    "\n",
    "tuple1 = (1, 2, 3)\n",
    "tuple2 = (4, 5, 6)\n",
    "\n",
    "\n",
    "concatenated_tuple = tuple1 + tuple2\n",
    "\n",
    "\n",
    "print(\"Concatenated tuple:\", concatenated_tuple)"
   ]
  },
  {
   "cell_type": "markdown",
   "id": "c4e83218",
   "metadata": {},
   "source": [
    "### 13. Repeat a tuple three times."
   ]
  },
  {
   "cell_type": "code",
   "execution_count": 102,
   "id": "cb5ee36c",
   "metadata": {},
   "outputs": [
    {
     "name": "stdout",
     "output_type": "stream",
     "text": [
      "Repeated tuple: (1, 2, 3, 1, 2, 3, 1, 2, 3)\n"
     ]
    }
   ],
   "source": [
    "\n",
    "original_tuple = (1, 2, 3)\n",
    "\n",
    "\n",
    "repeated_tuple = original_tuple * 3\n",
    "\n",
    "\n",
    "print(\"Repeated tuple:\", repeated_tuple)"
   ]
  },
  {
   "cell_type": "markdown",
   "id": "b93a8ea7",
   "metadata": {},
   "source": [
    "### 14. Check if a tuple is empty."
   ]
  },
  {
   "cell_type": "code",
   "execution_count": 103,
   "id": "276165c4",
   "metadata": {},
   "outputs": [
    {
     "name": "stdout",
     "output_type": "stream",
     "text": [
      "The empty_tuple is empty.\n",
      "The non_empty_tuple is not empty.\n"
     ]
    }
   ],
   "source": [
    "\n",
    "empty_tuple = ()\n",
    "non_empty_tuple = (1, 2, 3)\n",
    "\n",
    "if not empty_tuple:\n",
    "    print(\"The empty_tuple is empty.\")\n",
    "else:\n",
    "    print(\"The empty_tuple is not empty.\")\n",
    "\n",
    "if not non_empty_tuple:\n",
    "    print(\"The non_empty_tuple is empty.\")\n",
    "else:\n",
    "    print(\"The non_empty_tuple is not empty.\")"
   ]
  },
  {
   "cell_type": "markdown",
   "id": "b8e018f9",
   "metadata": {},
   "source": [
    "### 15. Create a nested tuple."
   ]
  },
  {
   "cell_type": "code",
   "execution_count": 104,
   "id": "97b4a1c0",
   "metadata": {},
   "outputs": [
    {
     "name": "stdout",
     "output_type": "stream",
     "text": [
      "Nested tuple: ((1, 2, 3), ('a', 'b', 'c'), (True, False))\n"
     ]
    }
   ],
   "source": [
    "# Step 1: Create a nested tuple\n",
    "nested_tuple = ((1, 2, 3), ('a', 'b', 'c'), (True, False))\n",
    "\n",
    "# Step 2: Print the nested tuple\n",
    "print(\"Nested tuple:\", nested_tuple)"
   ]
  },
  {
   "cell_type": "markdown",
   "id": "89d7cb01",
   "metadata": {},
   "source": [
    "### 16. Access the first element of a nested tuple."
   ]
  },
  {
   "cell_type": "code",
   "execution_count": 105,
   "id": "f0814211",
   "metadata": {},
   "outputs": [
    {
     "name": "stdout",
     "output_type": "stream",
     "text": [
      "First element of the nested tuple: (1, 2, 3)\n"
     ]
    }
   ],
   "source": [
    "\n",
    "nested_tuple = ((1, 2, 3), ('a', 'b', 'c'), (True, False))\n",
    "\n",
    "first_element = nested_tuple[0]\n",
    "print(\"First element of the nested tuple:\", first_element)"
   ]
  },
  {
   "cell_type": "markdown",
   "id": "4d2eb7ae",
   "metadata": {},
   "source": [
    "### 17. Create a tuple with a single element."
   ]
  },
  {
   "cell_type": "code",
   "execution_count": 108,
   "id": "330710e8",
   "metadata": {},
   "outputs": [
    {
     "name": "stdout",
     "output_type": "stream",
     "text": [
      "Single element tuple: (42,)\n"
     ]
    }
   ],
   "source": [
    "\n",
    "single_element_tuple = (42,)  # Note the trailing comma\n",
    "\n",
    "print(\"Single element tuple:\", single_element_tuple)"
   ]
  },
  {
   "cell_type": "markdown",
   "id": "7a8b3d62",
   "metadata": {},
   "source": [
    "### 18. Compare two tuples."
   ]
  },
  {
   "cell_type": "code",
   "execution_count": 109,
   "id": "54e1ec13",
   "metadata": {},
   "outputs": [
    {
     "name": "stdout",
     "output_type": "stream",
     "text": [
      "tuple1 == tuple2: False\n",
      "tuple1 != tuple2: True\n",
      "tuple1 < tuple2: True\n",
      "tuple1 <= tuple2: True\n",
      "tuple1 > tuple2: False\n",
      "tuple1 >= tuple2: False\n"
     ]
    }
   ],
   "source": [
    "\n",
    "tuple1 = (1, 2, 3)\n",
    "tuple2 = (1, 2, 4)\n",
    "\n",
    "print(\"tuple1 == tuple2:\", tuple1 == tuple2)  # Equality check\n",
    "print(\"tuple1 != tuple2:\", tuple1 != tuple2)  # Inequality check\n",
    "print(\"tuple1 < tuple2:\", tuple1 < tuple2)    # Less than check\n",
    "print(\"tuple1 <= tuple2:\", tuple1 <= tuple2)  # Less than or equal to check\n",
    "print(\"tuple1 > tuple2:\", tuple1 > tuple2)    # Greater than check\n",
    "print(\"tuple1 >= tuple2:\", tuple1 >= tuple2)  # Greater than or equal to check"
   ]
  },
  {
   "cell_type": "markdown",
   "id": "61437d0a",
   "metadata": {},
   "source": [
    "### 19. Delete a tuple."
   ]
  },
  {
   "cell_type": "code",
   "execution_count": 115,
   "id": "ab355a93",
   "metadata": {},
   "outputs": [
    {
     "ename": "NameError",
     "evalue": "name 'my_tuple' is not defined",
     "output_type": "error",
     "traceback": [
      "\u001b[1;31m---------------------------------------------------------------------------\u001b[0m",
      "\u001b[1;31mNameError\u001b[0m                                 Traceback (most recent call last)",
      "Cell \u001b[1;32mIn[115], line 3\u001b[0m\n\u001b[0;32m      1\u001b[0m my_tuple \u001b[39m=\u001b[39m (\u001b[39m1\u001b[39m, \u001b[39m2\u001b[39m, \u001b[39m3\u001b[39m,\u001b[39m4\u001b[39m,\u001b[39m5\u001b[39m,\u001b[39m6\u001b[39m)\n\u001b[0;32m      2\u001b[0m \u001b[39mdel\u001b[39;00m my_tuple\n\u001b[1;32m----> 3\u001b[0m \u001b[39mprint\u001b[39m(my_tuple)\n",
      "\u001b[1;31mNameError\u001b[0m: name 'my_tuple' is not defined"
     ]
    }
   ],
   "source": [
    "my_tuple = (1, 2, 3,4,5,6)\n",
    "del my_tuple\n",
    "print(my_tuple)"
   ]
  },
  {
   "cell_type": "markdown",
   "id": "868fd22d",
   "metadata": {},
   "source": [
    "### 20. Slice a tuple."
   ]
  },
  {
   "cell_type": "code",
   "execution_count": 120,
   "id": "863d6c15",
   "metadata": {},
   "outputs": [
    {
     "name": "stdout",
     "output_type": "stream",
     "text": [
      "(3, 4, 5, 6)\n"
     ]
    }
   ],
   "source": [
    "my_tup=(1,2,3,4,5,6,10,7,8,9)\n",
    "x=my_tup[2:6]\n",
    "print(x)"
   ]
  },
  {
   "cell_type": "markdown",
   "id": "7a19039d",
   "metadata": {},
   "source": [
    "### 21. Find the maximum value in a tuple."
   ]
  },
  {
   "cell_type": "code",
   "execution_count": 131,
   "id": "888f7b0b",
   "metadata": {},
   "outputs": [
    {
     "name": "stdout",
     "output_type": "stream",
     "text": [
      "Maximum value in my_tup is  10\n"
     ]
    }
   ],
   "source": [
    "my_tup=(1,2,3,4,5,6,10,7,8,9)\n",
    "x=max(my_tup)\n",
    "print(\"Maximum value in my_tup is \",x)"
   ]
  },
  {
   "cell_type": "markdown",
   "id": "7c4380fa",
   "metadata": {},
   "source": [
    "### 22. Find the minimum value in a tuple."
   ]
  },
  {
   "cell_type": "code",
   "execution_count": 132,
   "id": "fa4dbc10",
   "metadata": {},
   "outputs": [
    {
     "name": "stdout",
     "output_type": "stream",
     "text": [
      "Minimum value in my_tup is  1\n"
     ]
    }
   ],
   "source": [
    "my_tup=(1,2,3,4,5,6,10,7,8,9)\n",
    "x=min(my_tup)\n",
    "print(\"Minimum value in my_tup is \",x)"
   ]
  },
  {
   "cell_type": "markdown",
   "id": "576189f7",
   "metadata": {},
   "source": [
    "### 23. Convert a string to a tuple of characters."
   ]
  },
  {
   "cell_type": "code",
   "execution_count": 134,
   "id": "18cf5d2f",
   "metadata": {},
   "outputs": [
    {
     "name": "stdout",
     "output_type": "stream",
     "text": [
      "String to tuple of a given string s is  ('H', 'e', 'l', 'l', 'o', ',', ' ', 'W', 'o', 'r', 'l', 'd')\n"
     ]
    }
   ],
   "source": [
    "s=\"Hello, World\"\n",
    "stotuple=tuple(s)\n",
    "print(\"String to tuple of a given string s is \",stotuple)"
   ]
  },
  {
   "cell_type": "markdown",
   "id": "480ea25f",
   "metadata": {},
   "source": [
    "### 24. Convert a tuple of characters to a string."
   ]
  },
  {
   "cell_type": "code",
   "execution_count": 138,
   "id": "c8c934c4",
   "metadata": {},
   "outputs": [
    {
     "name": "stdout",
     "output_type": "stream",
     "text": [
      "Tuple to string  Pujan K Patel\n"
     ]
    }
   ],
   "source": [
    "my_tuple=('P','u','j','a','n',' ','K',' ','P','a','t','e','l')\n",
    "s=''.join(my_tuple)\n",
    "print(\"Tuple to string \",s)"
   ]
  },
  {
   "cell_type": "markdown",
   "id": "884567bb",
   "metadata": {},
   "source": [
    "### 25. Create a tuple from multiple data types."
   ]
  },
  {
   "cell_type": "code",
   "execution_count": 139,
   "id": "ccd8afc3",
   "metadata": {},
   "outputs": [
    {
     "name": "stdout",
     "output_type": "stream",
     "text": [
      "(1, 'hello', 3.14, True)\n"
     ]
    }
   ],
   "source": [
    "\n",
    "mixed_tuple = (1, \"hello\", 3.14, True)\n",
    "\n",
    "print(mixed_tuple)"
   ]
  },
  {
   "cell_type": "markdown",
   "id": "de2a45fd",
   "metadata": {},
   "source": [
    "### 26. Check if two tuples are identical."
   ]
  },
  {
   "cell_type": "code",
   "execution_count": 140,
   "id": "0d171caf",
   "metadata": {},
   "outputs": [
    {
     "name": "stdout",
     "output_type": "stream",
     "text": [
      "tuple1 and tuple2 are identical: True\n",
      "tuple1 and tuple3 are identical: False\n"
     ]
    }
   ],
   "source": [
    "# Step 1: Create two tuples\n",
    "tuple1 = (1, 2, 3)\n",
    "tuple2 = (1, 2, 3)\n",
    "tuple3 = (4, 5, 6)\n",
    "\n",
    "# Step 2: Compare the tuples for identity using the equality operator\n",
    "are_identical1 = tuple1 == tuple2\n",
    "are_identical2 = tuple1 == tuple3\n",
    "\n",
    "# Step 3: Print the results\n",
    "print(\"tuple1 and tuple2 are identical:\", are_identical1)\n",
    "print(\"tuple1 and tuple3 are identical:\", are_identical2)"
   ]
  },
  {
   "cell_type": "markdown",
   "id": "1b08ba31",
   "metadata": {},
   "source": [
    "### 27. Sort the elements of a tuple."
   ]
  },
  {
   "cell_type": "code",
   "execution_count": 141,
   "id": "fe446236",
   "metadata": {},
   "outputs": [
    {
     "name": "stdout",
     "output_type": "stream",
     "text": [
      "Sorted tuple: (1, 2, 3, 5, 8)\n"
     ]
    }
   ],
   "source": [
    "# Step 1: Create a tuple\n",
    "my_tuple = (5, 2, 8, 1, 3)\n",
    "\n",
    "# Step 2: Convert the tuple to a list, sort the list, and convert it back to a tuple\n",
    "sorted_tuple = tuple(sorted(my_tuple))\n",
    "\n",
    "# Step 3: Print the sorted tuple\n",
    "print(\"Sorted tuple:\", sorted_tuple)\n"
   ]
  },
  {
   "cell_type": "markdown",
   "id": "cf785713",
   "metadata": {},
   "source": [
    "### 28. Convert a tuple of integers to a tuple of strings."
   ]
  },
  {
   "cell_type": "code",
   "execution_count": 142,
   "id": "1deeca6c",
   "metadata": {},
   "outputs": [
    {
     "name": "stdout",
     "output_type": "stream",
     "text": [
      "Tuple of strings: ('1', '2', '3', '4', '5')\n"
     ]
    }
   ],
   "source": [
    "# Step 1: Create a tuple of integers\n",
    "tuple_of_integers = (1, 2, 3, 4, 5)\n",
    "\n",
    "# Step 2: Convert the tuple of integers to a tuple of strings using a list comprehension\n",
    "tuple_of_strings = tuple(str(item) for item in tuple_of_integers)\n",
    "\n",
    "# Step 3: Print the tuple of strings\n",
    "print(\"Tuple of strings:\", tuple_of_strings)"
   ]
  },
  {
   "cell_type": "markdown",
   "id": "f83f6456",
   "metadata": {},
   "source": [
    "### 29. Convert a tuple of strings to a tuple of integers."
   ]
  },
  {
   "cell_type": "code",
   "execution_count": 143,
   "id": "21267510",
   "metadata": {},
   "outputs": [
    {
     "name": "stdout",
     "output_type": "stream",
     "text": [
      "Tuple of integers: (10, 20, 30, 40, 50)\n"
     ]
    }
   ],
   "source": [
    "# Step 1: Create a tuple of strings\n",
    "tuple_of_strings = ('10', '20', '30', '40', '50')\n",
    "\n",
    "# Step 2: Convert the tuple of strings to a tuple of integers using a list comprehension\n",
    "tuple_of_integers = tuple(int(item) for item in tuple_of_strings)\n",
    "\n",
    "# Step 3: Print the tuple of integers\n",
    "print(\"Tuple of integers:\", tuple_of_integers)"
   ]
  },
  {
   "cell_type": "markdown",
   "id": "ad12e1bb",
   "metadata": {},
   "source": [
    "### 30. Merge two tuples."
   ]
  },
  {
   "cell_type": "code",
   "execution_count": 144,
   "id": "dca6ef8f",
   "metadata": {},
   "outputs": [
    {
     "name": "stdout",
     "output_type": "stream",
     "text": [
      "Merged tuple: (1, 2, 3, 4, 5, 6)\n"
     ]
    }
   ],
   "source": [
    "# Step 1: Create two tuples\n",
    "tuple1 = (1, 2, 3)\n",
    "tuple2 = (4, 5, 6)\n",
    "\n",
    "# Step 2: Merge the two tuples using the '+' operator\n",
    "merged_tuple = tuple1 + tuple2\n",
    "\n",
    "# Step 3: Print the merged tuple\n",
    "print(\"Merged tuple:\", merged_tuple)"
   ]
  },
  {
   "cell_type": "markdown",
   "id": "9005a5cc",
   "metadata": {},
   "source": [
    "### 31. Flatten a nested tuple."
   ]
  },
  {
   "cell_type": "code",
   "execution_count": 145,
   "id": "ce170185",
   "metadata": {},
   "outputs": [
    {
     "name": "stdout",
     "output_type": "stream",
     "text": [
      "Flattened tuple: (1, 2, 3, 4, 5, 6, 7, 8)\n"
     ]
    }
   ],
   "source": [
    "# Recursive function to flatten a nested tuple\n",
    "def flatten_tuple(nested_tuple):\n",
    "    flattened = []\n",
    "    for item in nested_tuple:\n",
    "        if isinstance(item, tuple):\n",
    "            flattened.extend(flatten_tuple(item))\n",
    "        else:\n",
    "            flattened.append(item)\n",
    "    return flattened\n",
    "\n",
    "# Step 1: Create a nested tuple\n",
    "nested_tuple = ((1, 2), (3, 4, 5), (6, (7, 8)))\n",
    "\n",
    "# Step 2: Flatten the nested tuple\n",
    "flattened_tuple = tuple(flatten_tuple(nested_tuple))\n",
    "\n",
    "# Step 3: Print the flattened tuple\n",
    "print(\"Flattened tuple:\", flattened_tuple)"
   ]
  },
  {
   "cell_type": "markdown",
   "id": "a05a99c9",
   "metadata": {},
   "source": [
    "### 32. Create a tuple of the first 5 prime numbers."
   ]
  },
  {
   "cell_type": "code",
   "execution_count": 1,
   "id": "e31f209c",
   "metadata": {},
   "outputs": [
    {
     "name": "stdout",
     "output_type": "stream",
     "text": [
      "Tuple of the first 5 prime numbers: (2, 3, 5, 7, 11)\n"
     ]
    }
   ],
   "source": [
    "# Function to check if a number is prime\n",
    "def is_prime(num):\n",
    "    if num <= 1:\n",
    "        return False\n",
    "    for i in range(2, int(num ** 0.5) + 1):\n",
    "        if num % i == 0:\n",
    "            return False\n",
    "    return True\n",
    "\n",
    "# Generate the first 5 prime numbers\n",
    "prime_numbers_list = [num for num in range(2, 100) if is_prime(num)][:5]\n",
    "\n",
    "# Convert the list to a tuple\n",
    "prime_numbers_tuple = tuple(prime_numbers_list)\n",
    "\n",
    "# Print the tuple of prime numbers\n",
    "print(\"Tuple of the first 5 prime numbers:\", prime_numbers_tuple)"
   ]
  },
  {
   "cell_type": "markdown",
   "id": "41e23599",
   "metadata": {},
   "source": [
    "### 3. Check if a tuple is a palindrome."
   ]
  },
  {
   "cell_type": "code",
   "execution_count": 2,
   "id": "5065e65e",
   "metadata": {},
   "outputs": [
    {
     "name": "stdout",
     "output_type": "stream",
     "text": [
      "palindrome_tuple is a palindrome: True\n",
      "non_palindrome_tuple is a palindrome: False\n"
     ]
    }
   ],
   "source": [
    "\n",
    "def is_palindrome(tup):\n",
    "    return tup == tup[::-1]\n",
    "\n",
    "palindrome_tuple = (1, 2, 3, 2, 1)\n",
    "non_palindrome_tuple = (1, 2, 3, 4, 5)\n",
    "is_palindrome1 = is_palindrome(palindrome_tuple)\n",
    "is_palindrome2 = is_palindrome(non_palindrome_tuple)\n",
    "\n",
    "print(\"palindrome_tuple is a palindrome:\", is_palindrome1)\n",
    "print(\"non_palindrome_tuple is a palindrome:\", is_palindrome2)"
   ]
  },
  {
   "cell_type": "markdown",
   "id": "86c335aa",
   "metadata": {},
   "source": [
    "### 34. Create a tuple of squares of numbers from 1 to 5."
   ]
  },
  {
   "cell_type": "code",
   "execution_count": 4,
   "id": "3b2e58d3",
   "metadata": {},
   "outputs": [
    {
     "name": "stdout",
     "output_type": "stream",
     "text": [
      "(1, 4, 9, 16, 25)\n"
     ]
    }
   ],
   "source": [
    "my_tup=(1,2,3,4,5)\n",
    "x=tuple(n**2 for n in my_tup)\n",
    "print(x)"
   ]
  },
  {
   "cell_type": "markdown",
   "id": "c8c43e6c",
   "metadata": {},
   "source": [
    "### 35. Filter out all even numbers from a tuple."
   ]
  },
  {
   "cell_type": "code",
   "execution_count": 7,
   "id": "6d0a6f64",
   "metadata": {},
   "outputs": [
    {
     "name": "stdout",
     "output_type": "stream",
     "text": [
      "(2, 4)\n"
     ]
    }
   ],
   "source": [
    "my_tup=(1,2,3,4,5)\n",
    "ev=tuple(i for i in  my_tup if i%2==0)\n",
    "\n",
    "print(ev)"
   ]
  },
  {
   "cell_type": "markdown",
   "id": "d9ea24c3",
   "metadata": {},
   "source": [
    "### 36. Multiply all elements in a tuple by 2."
   ]
  },
  {
   "cell_type": "code",
   "execution_count": 4,
   "id": "42fd2fc2",
   "metadata": {},
   "outputs": [
    {
     "name": "stdout",
     "output_type": "stream",
     "text": [
      "(2, 4, 6, 8, 10)\n"
     ]
    }
   ],
   "source": [
    "my_tup=(1,2,3,4,5)\n",
    "ev=tuple(i*2 for i in  my_tup)\n",
    "\n",
    "print(ev)"
   ]
  },
  {
   "cell_type": "markdown",
   "id": "b289b9da",
   "metadata": {},
   "source": [
    "### 37. Create a tuple of random numbers."
   ]
  },
  {
   "cell_type": "code",
   "execution_count": 5,
   "id": "13718257",
   "metadata": {},
   "outputs": [
    {
     "name": "stdout",
     "output_type": "stream",
     "text": [
      "Random tuple: (45, 46, 44, 10, 4, 37, 64, 92, 6, 79)\n"
     ]
    }
   ],
   "source": [
    "import random\n",
    "\n",
    "# Create a tuple of random numbers using a list comprehension\n",
    "random_tuple = tuple(random.randint(1, 100) for _ in range(10))  # Generating 10 random numbers between 1 and 100\n",
    "\n",
    "# Print the tuple of random numbers\n",
    "print(\"Random tuple:\", random_tuple)"
   ]
  },
  {
   "cell_type": "markdown",
   "id": "08b5fcc4",
   "metadata": {},
   "source": [
    "### 38. Check if a tuple is sorted."
   ]
  },
  {
   "cell_type": "code",
   "execution_count": 6,
   "id": "89f7c985",
   "metadata": {},
   "outputs": [
    {
     "name": "stdout",
     "output_type": "stream",
     "text": [
      "sorted_tuple is sorted: True\n",
      "unsorted_tuple is sorted: False\n"
     ]
    }
   ],
   "source": [
    "# Function to check if a tuple is sorted\n",
    "def is_sorted(tup):\n",
    "    for i in range(len(tup) - 1):\n",
    "        if tup[i] > tup[i + 1]:\n",
    "            return False\n",
    "    return True\n",
    "\n",
    "# Create tuples for testing\n",
    "sorted_tuple = (1, 2, 3, 4, 5)\n",
    "unsorted_tuple = (5, 3, 1, 4, 2)\n",
    "\n",
    "# Check if the tuples are sorted\n",
    "is_sorted1 = is_sorted(sorted_tuple)\n",
    "is_sorted2 = is_sorted(unsorted_tuple)\n",
    "\n",
    "# Print the results\n",
    "print(\"sorted_tuple is sorted:\", is_sorted1)\n",
    "print(\"unsorted_tuple is sorted:\", is_sorted2)"
   ]
  },
  {
   "cell_type": "markdown",
   "id": "01f000c2",
   "metadata": {},
   "source": [
    "### 39. Rotate a tuple to the left by `n` positions."
   ]
  },
  {
   "cell_type": "code",
   "execution_count": 7,
   "id": "71bb4fe1",
   "metadata": {},
   "outputs": [
    {
     "name": "stdout",
     "output_type": "stream",
     "text": [
      "(3, 4, 5, 1, 2)\n"
     ]
    }
   ],
   "source": [
    "def rotate_tuple_left(tup, n):\n",
    "    n = n % len(tup)  # Ensure n is within the range of tuple length\n",
    "    rotated_tuple = tup[n:] + tup[:n]  # Rotate the tuple\n",
    "    return rotated_tuple\n",
    "\n",
    "# Example tuple\n",
    "my_tuple = (1, 2, 3, 4, 5)\n",
    "n_positions = 2\n",
    "result = rotate_tuple_left(my_tuple, n_positions)\n",
    "print(result)"
   ]
  },
  {
   "cell_type": "markdown",
   "id": "adf7c6ec",
   "metadata": {},
   "source": [
    "### 40. Rotate a tuple to the right by `n` positions."
   ]
  },
  {
   "cell_type": "code",
   "execution_count": 10,
   "id": "dab057db",
   "metadata": {},
   "outputs": [
    {
     "name": "stdout",
     "output_type": "stream",
     "text": [
      "(4, 5, 1, 2, 3)\n"
     ]
    }
   ],
   "source": [
    "def rotate_tuple_right(tup, n):\n",
    "    n = n % len(tup)  # Ensure n is within the range of tuple length\n",
    "    rotated_tuple = tup[-n:] + tup[:-n]  # Rotate the tuple\n",
    "    return rotated_tuple\n",
    "\n",
    "# Example tuple\n",
    "my_tuple = (1, 2, 3, 4, 5)\n",
    "n_positions = 2\n",
    "result = rotate_tuple_right(my_tuple, n_positions)\n",
    "print(result)"
   ]
  },
  {
   "cell_type": "markdown",
   "id": "5a7e6137",
   "metadata": {},
   "source": [
    "### 41. Create a tuple of the first 5 Fibonacci numbers."
   ]
  },
  {
   "cell_type": "code",
   "execution_count": 11,
   "id": "477902e2",
   "metadata": {},
   "outputs": [
    {
     "name": "stdout",
     "output_type": "stream",
     "text": [
      "(0, 1, 1, 2, 3)\n"
     ]
    }
   ],
   "source": [
    "# Define a function to generate the first n Fibonacci numbers\n",
    "def generate_fibonacci(n):\n",
    "    fibonacci = [0, 1]  # Initialize the list with the first two Fibonacci numbers\n",
    "    while len(fibonacci) < n:  # Continue generating Fibonacci numbers until the list has n elements\n",
    "        next_number = fibonacci[-1] + fibonacci[-2]  # Calculate the next Fibonacci number\n",
    "        fibonacci.append(next_number)  # Add the next Fibonacci number to the list\n",
    "    return tuple(fibonacci)  # Convert the list to a tuple and return it\n",
    "\n",
    "# Call the generate_fibonacci function to create a tuple of the first 5 Fibonacci numbers\n",
    "fibonacci_tuple = generate_fibonacci(5)\n",
    "\n",
    "# Print the resulting tuple\n",
    "print(fibonacci_tuple)"
   ]
  },
  {
   "cell_type": "markdown",
   "id": "cf91f859",
   "metadata": {},
   "source": [
    "### 42. Create a tuple from user input."
   ]
  },
  {
   "cell_type": "code",
   "execution_count": 12,
   "id": "c52e5ec7",
   "metadata": {},
   "outputs": [
    {
     "name": "stdout",
     "output_type": "stream",
     "text": [
      "User input tuple: ('1',)\n"
     ]
    }
   ],
   "source": [
    "# Taking user input for creating a tuple\n",
    "input_str = input(\"Enter elements separated by commas: \")\n",
    "\n",
    "# Splitting the input string into a list of strings\n",
    "input_list = input_str.split(',')\n",
    "\n",
    "# Converting the list of strings to a tuple\n",
    "user_tuple = tuple(input_list)\n",
    "\n",
    "# Printing the created tuple\n",
    "print(\"User input tuple:\", user_tuple)"
   ]
  },
  {
   "cell_type": "markdown",
   "id": "cfecede8",
   "metadata": {},
   "source": [
    "### 43. Swap two elements in a tuple."
   ]
  },
  {
   "cell_type": "code",
   "execution_count": 13,
   "id": "e64932f1",
   "metadata": {},
   "outputs": [
    {
     "name": "stdout",
     "output_type": "stream",
     "text": [
      "Swapped tuple: (1, 4, 3, 2, 5)\n"
     ]
    }
   ],
   "source": [
    "# Create a tuple\n",
    "my_tuple = (1, 2, 3, 4, 5)\n",
    "\n",
    "# Swap elements at indices 1 and 3\n",
    "index1 = 1\n",
    "index2 = 3\n",
    "swapped_tuple = tuple(\n",
    "    my_tuple[i] if i not in (index1, index2) else\n",
    "    my_tuple[index2] if i == index1 else\n",
    "    my_tuple[index1]\n",
    "    for i in range(len(my_tuple))\n",
    ")\n",
    "\n",
    "# Print the swapped tuple\n",
    "print(\"Swapped tuple:\", swapped_tuple)"
   ]
  },
  {
   "cell_type": "markdown",
   "id": "416d5f24",
   "metadata": {},
   "source": [
    "### 44. Reverse the elements of a tuple."
   ]
  },
  {
   "cell_type": "code",
   "execution_count": 14,
   "id": "8b88d9d7",
   "metadata": {},
   "outputs": [
    {
     "name": "stdout",
     "output_type": "stream",
     "text": [
      "Reversed tuple: (5, 4, 3, 2, 1)\n"
     ]
    }
   ],
   "source": [
    "# Create a tuple\n",
    "my_tuple = (1, 2, 3, 4, 5)\n",
    "\n",
    "# Reverse the elements using slicing\n",
    "reversed_tuple = my_tuple[::-1]\n",
    "\n",
    "# Print the reversed tuple\n",
    "print(\"Reversed tuple:\", reversed_tuple)"
   ]
  },
  {
   "cell_type": "markdown",
   "id": "26e60e61",
   "metadata": {},
   "source": [
    "### 45. Create a tuple of the first `n` powers of 2."
   ]
  },
  {
   "cell_type": "code",
   "execution_count": 15,
   "id": "74a5aa25",
   "metadata": {},
   "outputs": [
    {
     "name": "stdout",
     "output_type": "stream",
     "text": [
      "Tuple of the first 5 powers of 2: (1, 2, 4, 8, 16)\n"
     ]
    }
   ],
   "source": [
    "# Define the value of n\n",
    "n = 5\n",
    "\n",
    "# Create a tuple of the first n powers of 2 using a list comprehension\n",
    "powers_of_2_tuple = tuple(2 ** i for i in range(n))\n",
    "\n",
    "# Print the tuple of powers of 2\n",
    "print(\"Tuple of the first\", n, \"powers of 2:\", powers_of_2_tuple)"
   ]
  },
  {
   "cell_type": "markdown",
   "id": "4381d10e",
   "metadata": {},
   "source": [
    "### 46. Find the longest string in a tuple of strings."
   ]
  },
  {
   "cell_type": "code",
   "execution_count": 22,
   "id": "4ae7e4aa",
   "metadata": {},
   "outputs": [
    {
     "name": "stdout",
     "output_type": "stream",
     "text": [
      "Longest string: watermelon\n"
     ]
    }
   ],
   "source": [
    "# Create a tuple of strings\n",
    "string_tuple = (\"apple\", \"banana\", \"grape\", \"kiwi\", \"watermelon\")\n",
    "\n",
    "# Find the longest string in the tuple\n",
    "longest_string = max(string_tuple, key=len)\n",
    "\n",
    "# Print the longest string\n",
    "print(\"Longest string:\", longest_string)"
   ]
  },
  {
   "cell_type": "code",
   "execution_count": 23,
   "id": "79a0a5f6",
   "metadata": {},
   "outputs": [
    {
     "name": "stdout",
     "output_type": "stream",
     "text": [
      "watermelon\n"
     ]
    }
   ],
   "source": [
    "tup=[\"apple\", \"banana\", \"grape\", \"kiwi\", \"watermelon\"]\n",
    "llt=max(tup,key=len)\n",
    "print(llt)"
   ]
  },
  {
   "cell_type": "markdown",
   "id": "1cd5db4d",
   "metadata": {},
   "source": [
    "### 47. Find the shortest string in a tuple of strings."
   ]
  },
  {
   "cell_type": "code",
   "execution_count": 25,
   "id": "01042a8a",
   "metadata": {},
   "outputs": [
    {
     "name": "stdout",
     "output_type": "stream",
     "text": [
      "Shortest word in tuple is  kiwi\n"
     ]
    }
   ],
   "source": [
    "tup=(\"apple\", \"banana\", \"grape\", \"kiwi\", \"watermelon\")\n",
    "tupm=min(tup,key=len)\n",
    "print(\"Shortest word in tuple is \",tupm)\n"
   ]
  },
  {
   "cell_type": "markdown",
   "id": "1a42577d",
   "metadata": {},
   "source": [
    "### 48. Create a tuple of the first `n` triangular numbers."
   ]
  },
  {
   "cell_type": "code",
   "execution_count": 26,
   "id": "c8d31d90",
   "metadata": {},
   "outputs": [
    {
     "name": "stdout",
     "output_type": "stream",
     "text": [
      "Tuple of the first 5 triangular numbers: (1, 3, 6, 10, 15)\n"
     ]
    }
   ],
   "source": [
    "# Define the value of n\n",
    "n = 5\n",
    "\n",
    "# Create a tuple of the first n triangular numbers using a list comprehension\n",
    "triangular_numbers_tuple = tuple((i * (i + 1)) // 2 for i in range(1, n + 1))\n",
    "\n",
    "# Print the tuple of triangular numbers\n",
    "print(\"Tuple of the first\", n, \"triangular numbers:\", triangular_numbers_tuple)"
   ]
  },
  {
   "cell_type": "markdown",
   "id": "bd0d6d65",
   "metadata": {},
   "source": [
    "### 49. Check if a tuple contains another tuple as a subsequence."
   ]
  },
  {
   "cell_type": "code",
   "execution_count": 30,
   "id": "063bd837",
   "metadata": {},
   "outputs": [
    {
     "name": "stdout",
     "output_type": "stream",
     "text": [
      "True\n"
     ]
    }
   ],
   "source": [
    "def checksub(my_tup,sub_tup):\n",
    "    sub_len=len(sub_tup)\n",
    "    for i in range(len(my_tup)-sub_len+1):\n",
    "        if my_tup[i:i+sub_len]==sub_tup :\n",
    "            return True\n",
    "    return False\n",
    "        \n",
    "main_tup=(1,2,3,4,5,6,7,8)\n",
    "sub_tup=(3,4,5)\n",
    "print(checksub(main_tup,sub_tup))"
   ]
  },
  {
   "cell_type": "markdown",
   "id": "574b0c24",
   "metadata": {},
   "source": [
    "### 50. Create a tuple of alternating 1s and 0s of length `n`."
   ]
  },
  {
   "cell_type": "code",
   "execution_count": 31,
   "id": "7d3ff0eb",
   "metadata": {},
   "outputs": [
    {
     "name": "stdout",
     "output_type": "stream",
     "text": [
      "Tuple of alternating 1s and 0s: (0, 1, 0, 1, 0, 1, 0, 1, 0, 1)\n"
     ]
    }
   ],
   "source": [
    "# Define the value of n\n",
    "n = 10\n",
    "\n",
    "alternating_tuple = tuple(i % 2 for i in range(n))\n",
    "\n",
    "# Print the tuple of alternating 1s and 0s\n",
    "print(\"Tuple of alternating 1s and 0s:\", alternating_tuple)"
   ]
  },
  {
   "cell_type": "code",
   "execution_count": null,
   "id": "0f5038ae",
   "metadata": {},
   "outputs": [],
   "source": []
  },
  {
   "cell_type": "code",
   "execution_count": null,
   "id": "beb01a44",
   "metadata": {},
   "outputs": [],
   "source": []
  },
  {
   "cell_type": "markdown",
   "id": "66e6a29b",
   "metadata": {},
   "source": [
    "## **Set based problems:**\n",
    "\n",
    "---\n"
   ]
  },
  {
   "cell_type": "markdown",
   "id": "f1a0c771",
   "metadata": {},
   "source": [
    "### 1. Create a set with integers from 1 to 5"
   ]
  },
  {
   "cell_type": "code",
   "execution_count": 33,
   "id": "bf1ff574",
   "metadata": {},
   "outputs": [
    {
     "name": "stdout",
     "output_type": "stream",
     "text": [
      "{1, 2, 3, 4, 5}\n"
     ]
    }
   ],
   "source": [
    "\n",
    "my_set = set()\n",
    "\n",
    "my_set.add(1)\n",
    "my_set.add(2)\n",
    "my_set.add(3)\n",
    "my_set.add(4)\n",
    "my_set.add(5)\n",
    "\n",
    "\n",
    "print(my_set)"
   ]
  },
  {
   "cell_type": "markdown",
   "id": "cdadd4f0",
   "metadata": {},
   "source": [
    "### 2. Add an element to a set"
   ]
  },
  {
   "cell_type": "code",
   "execution_count": 37,
   "id": "74077f38",
   "metadata": {},
   "outputs": [
    {
     "name": "stdout",
     "output_type": "stream",
     "text": [
      "Original set {1, 4, 23}\n",
      "After adding elelemnt {1, 3, 4, 23}\n"
     ]
    }
   ],
   "source": [
    "mys={1,23,4}\n",
    "print(\"Original set\",mys)\n",
    "mys.add(1)\n",
    "mys.add(3)\n",
    "mys.add(4)\n",
    "\n",
    "print(\"After adding elelemnt\",mys)"
   ]
  },
  {
   "cell_type": "markdown",
   "id": "78fc2451",
   "metadata": {},
   "source": [
    "### 3. Remove an element from a set.\n"
   ]
  },
  {
   "cell_type": "code",
   "execution_count": 38,
   "id": "94b724eb",
   "metadata": {},
   "outputs": [
    {
     "name": "stdout",
     "output_type": "stream",
     "text": [
      "Original Set: {1, 2, 3, 4, 5}\n",
      "Set after removing 3 : {1, 2, 4, 5}\n"
     ]
    }
   ],
   "source": [
    "# Step 1: Create a set with some elements\n",
    "my_set = {1, 2, 3, 4, 5}\n",
    "\n",
    "print(\"Original Set:\", my_set)\n",
    "\n",
    "element_to_remove = 3\n",
    "\n",
    "my_set.remove(element_to_remove)\n",
    "\n",
    "print(\"Set after removing\", element_to_remove, \":\", my_set)"
   ]
  },
  {
   "cell_type": "markdown",
   "id": "2f011e83",
   "metadata": {},
   "source": [
    "### 4. Check if an element exists in a set.\n"
   ]
  },
  {
   "cell_type": "code",
   "execution_count": 43,
   "id": "6ddc2762",
   "metadata": {},
   "outputs": [
    {
     "name": "stdout",
     "output_type": "stream",
     "text": [
      "Number is present\n"
     ]
    }
   ],
   "source": [
    "mys={1,2,3,4,5}\n",
    "n=int(input(\"Enter the number to be found\"))\n",
    "if n in mys:\n",
    "   print(\"Number is present\")\n",
    "else:\n",
    "   print(\"Number is not present\")\n",
    "        \n"
   ]
  },
  {
   "cell_type": "markdown",
   "id": "3de9a6c0",
   "metadata": {},
   "source": [
    "### 5. Find the length of a set without using the `len()` function"
   ]
  },
  {
   "cell_type": "code",
   "execution_count": 44,
   "id": "67b68226",
   "metadata": {},
   "outputs": [
    {
     "name": "stdout",
     "output_type": "stream",
     "text": [
      "Length of string is  5\n"
     ]
    }
   ],
   "source": [
    "mys={1,2,3,4,5}\n",
    "cnt=0\n",
    "for i in mys: cnt=cnt+1\n",
    "\n",
    "print(\"Length of string is \",cnt)\n"
   ]
  },
  {
   "cell_type": "markdown",
   "id": "4ac94db2",
   "metadata": {},
   "source": [
    "### 6. Clear all elements from a set."
   ]
  },
  {
   "cell_type": "code",
   "execution_count": 47,
   "id": "06cc3958",
   "metadata": {},
   "outputs": [
    {
     "name": "stdout",
     "output_type": "stream",
     "text": [
      "Original set {1, 2, 3, 4, 5}\n",
      "After clearing all elements from set  set()\n"
     ]
    }
   ],
   "source": [
    "my_set = {1, 2, 3, 4, 5}\n",
    "print(\"Original set\",my_set)\n",
    "my_set.clear()\n",
    "print(\"After clearing all elements from set \",my_set)"
   ]
  },
  {
   "cell_type": "markdown",
   "id": "97cedac0",
   "metadata": {},
   "source": [
    "### 7. Create a set of even numbers from 1 to 10"
   ]
  },
  {
   "cell_type": "code",
   "execution_count": 48,
   "id": "6abe0f37",
   "metadata": {},
   "outputs": [
    {
     "name": "stdout",
     "output_type": "stream",
     "text": [
      "{2, 4, 6, 8, 10}\n"
     ]
    }
   ],
   "source": [
    "# Step 1: Initialize an empty set\n",
    "even_numbers_set = set()\n",
    "\n",
    "# Step 2: Iterate through numbers from 1 to 10\n",
    "for num in range(1, 11):\n",
    "    # Step 3: Check if the number is even\n",
    "    if num % 2 == 0:\n",
    "        # Step 4: Add the even number to the set\n",
    "        even_numbers_set.add(num)\n",
    "\n",
    "# Step 5: Print the set of even numbers\n",
    "print(even_numbers_set)"
   ]
  },
  {
   "cell_type": "markdown",
   "id": "46c5d3a1",
   "metadata": {},
   "source": [
    "### 8. Create a set of odd numbers from 1 to 10"
   ]
  },
  {
   "cell_type": "code",
   "execution_count": 49,
   "id": "55ed051a",
   "metadata": {},
   "outputs": [
    {
     "name": "stdout",
     "output_type": "stream",
     "text": [
      "{1, 3, 5, 7, 9}\n"
     ]
    }
   ],
   "source": [
    "# Step 1: Initialize an empty set\n",
    "odd_numbers_set = set()\n",
    "\n",
    "# Step 2: Iterate through numbers from 1 to 10\n",
    "for num in range(0, 10):\n",
    "    # Step 3: Check if the number is even\n",
    "    if num % 2 != 0:\n",
    "        # Step 4: Add the even number to the set\n",
    "        odd_numbers_set.add(num)\n",
    "\n",
    "# Step 5: Print the set of even numbers\n",
    "print(odd_numbers_set)"
   ]
  },
  {
   "cell_type": "markdown",
   "id": "21d7e68b",
   "metadata": {},
   "source": [
    "### 9. Find the union of two sets"
   ]
  },
  {
   "cell_type": "code",
   "execution_count": 53,
   "id": "c0b91b69",
   "metadata": {},
   "outputs": [
    {
     "name": "stdout",
     "output_type": "stream",
     "text": [
      "Union of 2 sets are  {1, 2, 3, 4, 5, 6, 7, 8}\n"
     ]
    }
   ],
   "source": [
    "set1 = {1, 2, 3, 4, 5}\n",
    "set2 = {4, 5, 6, 7, 8}\n",
    "x=(set1).union(set2)\n",
    "print(\"Union of 2 sets are \",x)"
   ]
  },
  {
   "cell_type": "markdown",
   "id": "1a0f60d8",
   "metadata": {},
   "source": [
    "### 10. Find the intersection of two sets"
   ]
  },
  {
   "cell_type": "code",
   "execution_count": 55,
   "id": "c7128374",
   "metadata": {},
   "outputs": [
    {
     "name": "stdout",
     "output_type": "stream",
     "text": [
      "Intersection of 2 sets are  {4, 5}\n"
     ]
    }
   ],
   "source": [
    "set1 = {1, 2, 3, 4, 5}\n",
    "set2 = {4, 5, 6, 7, 8}\n",
    "x=(set1).intersection(set2)\n",
    "print(\"Intersection of 2 sets are \",x)"
   ]
  },
  {
   "cell_type": "markdown",
   "id": "4ad6a757",
   "metadata": {},
   "source": [
    "### 11. Find the difference between two sets."
   ]
  },
  {
   "cell_type": "code",
   "execution_count": 59,
   "id": "9187ea2b",
   "metadata": {},
   "outputs": [
    {
     "name": "stdout",
     "output_type": "stream",
     "text": [
      "Diiference of 2 sets are  {1, 2, 3}\n"
     ]
    }
   ],
   "source": [
    "set1 = {1, 2, 3, 4, 5}\n",
    "set2 = {4, 5, 6, 7, 8}\n",
    "x=set1-set2\n",
    "print(\"Diiference of 2 sets are \",x)"
   ]
  },
  {
   "cell_type": "markdown",
   "id": "3d3dc1c4",
   "metadata": {},
   "source": [
    "### 12. Check if a set is a subset of another set."
   ]
  },
  {
   "cell_type": "code",
   "execution_count": 68,
   "id": "7f300044",
   "metadata": {},
   "outputs": [
    {
     "name": "stdout",
     "output_type": "stream",
     "text": [
      "set2 is subset of set1\n"
     ]
    }
   ],
   "source": [
    "set1 = {1, 2, 3, 4, 5}\n",
    "set2 = {2,4,5}\n",
    "x=set1.issuperset(set2)\n",
    "if x==True:\n",
    "  print(\"set2 is subset of set1\")\n",
    "else:\n",
    "    print (\"not a subset\")\n"
   ]
  },
  {
   "cell_type": "markdown",
   "id": "7ddbed5f",
   "metadata": {},
   "source": [
    "### 13. Check if a set is a superset of another set."
   ]
  },
  {
   "cell_type": "code",
   "execution_count": 69,
   "id": "5f70fbf4",
   "metadata": {},
   "outputs": [
    {
     "name": "stdout",
     "output_type": "stream",
     "text": [
      "set1 is a superset of set2\n"
     ]
    }
   ],
   "source": [
    "# Create two sets\n",
    "set1 = {1, 2, 3, 4, 5, 6}\n",
    "set2 = {3, 4}\n",
    "\n",
    "# Check if set1 is a superset of set2\n",
    "is_superset = set1.issuperset(set2)\n",
    "\n",
    "# Print the result\n",
    "if is_superset:\n",
    "    print(\"set1 is a superset of set2\")\n",
    "else:\n",
    "    print(\"set1 is not a superset of set2\")"
   ]
  },
  {
   "cell_type": "markdown",
   "id": "6fdaa6c8",
   "metadata": {},
   "source": [
    "### 14. Create a set from a list\n"
   ]
  },
  {
   "cell_type": "code",
   "execution_count": 2,
   "id": "3cefe6b7",
   "metadata": {},
   "outputs": [
    {
     "name": "stdout",
     "output_type": "stream",
     "text": [
      "Original List: [2, 4, 1, 4, 3, 2, 5]\n",
      "Set from List: {1, 2, 3, 4, 5}\n"
     ]
    }
   ],
   "source": [
    "# Step 1: Create a list of elements\n",
    "my_list = [2, 4, 1, 4, 3, 2, 5]\n",
    "\n",
    "# Step 2: Use the set() constructor to convert the list into a set\n",
    "# This automatically removes duplicates and creates a set with unique elements\n",
    "my_set = set(my_list)\n",
    "\n",
    "# Step 3: Print the original list and the resulting set\n",
    "print(\"Original List:\", my_list)\n",
    "print(\"Set from List:\", my_set) "
   ]
  },
  {
   "cell_type": "markdown",
   "id": "e574222e",
   "metadata": {},
   "source": [
    "### 15. Convert a set to a list."
   ]
  },
  {
   "cell_type": "code",
   "execution_count": 3,
   "id": "708685e4",
   "metadata": {},
   "outputs": [
    {
     "name": "stdout",
     "output_type": "stream",
     "text": [
      "Original Set: {1, 2, 3, 4, 5, 6, 9}\n",
      "Converted List: [1, 2, 3, 4, 5, 6, 9]\n"
     ]
    }
   ],
   "source": [
    "# Step 1: Create a set with some elements\n",
    "my_set = {3, 1, 4, 1, 5, 9, 2, 6, 5}\n",
    "\n",
    "# Step 2: Convert the set to a list using the list() function\n",
    "my_list = list(my_set)\n",
    "\n",
    "# Now, my_list contains the elements from my_set in list format\n",
    "\n",
    "# Step 3: Print the original set and the converted list\n",
    "print(\"Original Set:\", my_set)\n",
    "print(\"Converted List:\", my_list)"
   ]
  },
  {
   "cell_type": "markdown",
   "id": "0dac0f7a",
   "metadata": {},
   "source": [
    "### 16. Remove a random element from a set."
   ]
  },
  {
   "cell_type": "code",
   "execution_count": 4,
   "id": "1262cdbe",
   "metadata": {},
   "outputs": [
    {
     "name": "stdout",
     "output_type": "stream",
     "text": [
      "Original set: {1, 2, 3, 4, 5}\n",
      "Updated set after removing 1 : {2, 3, 4, 5}\n"
     ]
    }
   ],
   "source": [
    "import random  # Import the random module\n",
    "\n",
    "# Create a set with some elements\n",
    "my_set = {1, 2, 3, 4, 5}\n",
    "\n",
    "# Display the original set\n",
    "print(\"Original set:\", my_set)\n",
    "\n",
    "# Choose a random element from the set using the random.choice() function\n",
    "random_element = random.choice(list(my_set))\n",
    "\n",
    "# Remove the chosen random element from the set using the remove() method\n",
    "my_set.remove(random_element)\n",
    "\n",
    "# Display the updated set after removing the random element\n",
    "print(\"Updated set after removing\", random_element, \":\", my_set)"
   ]
  },
  {
   "cell_type": "markdown",
   "id": "04330f4a",
   "metadata": {},
   "source": [
    "### 17. Pop an element from a set."
   ]
  },
  {
   "cell_type": "code",
   "execution_count": 5,
   "id": "40a93336",
   "metadata": {},
   "outputs": [
    {
     "name": "stdout",
     "output_type": "stream",
     "text": [
      "Original set: {1, 2, 3, 4, 5}\n",
      "Popped element: 1\n",
      "Set after popping: {2, 3, 4, 5}\n"
     ]
    }
   ],
   "source": [
    "# Create a set with some elements\n",
    "my_set = {1, 2, 3, 4, 5}\n",
    "\n",
    "# Print the original set\n",
    "print(\"Original set:\", my_set)\n",
    "\n",
    "# Pop an element from the set using the pop() method\n",
    "popped_element = my_set.pop()\n",
    "\n",
    "# Print the element that was popped\n",
    "print(\"Popped element:\", popped_element)\n",
    "\n",
    "# Print the set after popping an element\n",
    "print(\"Set after popping:\", my_set)"
   ]
  },
  {
   "cell_type": "markdown",
   "id": "8e1eecb1",
   "metadata": {},
   "source": [
    "### 18. Check if two sets have no elements in common."
   ]
  },
  {
   "cell_type": "code",
   "execution_count": 6,
   "id": "b500996b",
   "metadata": {},
   "outputs": [
    {
     "name": "stdout",
     "output_type": "stream",
     "text": [
      "The two sets have no elements in common.\n"
     ]
    }
   ],
   "source": [
    "# Step 1: Define two sets\n",
    "set1 = {1, 2, 3, 4}\n",
    "set2 = {5, 6, 7, 8}\n",
    "\n",
    "# Step 2: Check if the intersection of the two sets is empty\n",
    "# The intersection is the set of elements that are common to both sets\n",
    "common_elements = set1.intersection(set2)\n",
    "\n",
    "# Step 3: Check if the common_elements set is empty\n",
    "if not common_elements:\n",
    "    print(\"The two sets have no elements in common.\")\n",
    "else:\n",
    "    print(\"The two sets have common elements:\", common_elements)"
   ]
  },
  {
   "cell_type": "markdown",
   "id": "e777e168",
   "metadata": {},
   "source": [
    "### 19. Find the symmetric difference between two sets."
   ]
  },
  {
   "cell_type": "code",
   "execution_count": 7,
   "id": "93b51e54",
   "metadata": {},
   "outputs": [
    {
     "name": "stdout",
     "output_type": "stream",
     "text": [
      "Symmetric Difference: {1, 2, 3, 6, 7, 8}\n"
     ]
    }
   ],
   "source": [
    "# Define two sets\n",
    "set1 = {1, 2, 3, 4, 5}\n",
    "set2 = {4, 5, 6, 7, 8}\n",
    "\n",
    "# Calculate the symmetric difference using the ^ operator\n",
    "symmetric_difference = set1 ^ set2\n",
    "\n",
    "# Print the symmetric difference\n",
    "print(\"Symmetric Difference:\", symmetric_difference)"
   ]
  },
  {
   "cell_type": "markdown",
   "id": "84c514af",
   "metadata": {},
   "source": [
    "### 20. Update a set with elements from another set."
   ]
  },
  {
   "cell_type": "code",
   "execution_count": 8,
   "id": "d2fda1ed",
   "metadata": {},
   "outputs": [
    {
     "name": "stdout",
     "output_type": "stream",
     "text": [
      "Set 1: {1, 2, 3}\n",
      "Set 2: {3, 4, 5}\n",
      "Updated Set 1: {1, 2, 3, 4, 5}\n"
     ]
    }
   ],
   "source": [
    "# Create the first set\n",
    "set1 = {1, 2, 3}\n",
    "print(\"Set 1:\", set1)\n",
    "\n",
    "# Create the second set\n",
    "set2 = {3, 4, 5}\n",
    "print(\"Set 2:\", set2)\n",
    "\n",
    "# Update set1 with elements from set2\n",
    "set1.update(set2)\n",
    "print(\"Updated Set 1:\", set1)"
   ]
  },
  {
   "cell_type": "markdown",
   "id": "3bd65701",
   "metadata": {},
   "source": [
    "### 21. Create a set of the first 5 prime numbers."
   ]
  },
  {
   "cell_type": "code",
   "execution_count": 9,
   "id": "c85fc12c",
   "metadata": {},
   "outputs": [
    {
     "name": "stdout",
     "output_type": "stream",
     "text": [
      "Set of the first 5 prime numbers: {2, 3, 5, 7, 11}\n"
     ]
    }
   ],
   "source": [
    "# Function to check if a number is prime\n",
    "def is_prime(num):\n",
    "    if num <= 1:\n",
    "        return False\n",
    "    for i in range(2, int(num ** 0.5) + 1):\n",
    "        if num % i == 0:\n",
    "            return False\n",
    "    return True\n",
    "\n",
    "# Create an empty set to store the prime numbers\n",
    "prime_set = set()\n",
    "\n",
    "# Initialize the number to start checking for primes\n",
    "num = 2\n",
    "\n",
    "# Loop until we have found the first 5 prime numbers\n",
    "while len(prime_set) < 5:\n",
    "    # Check if the current number is prime using the is_prime function\n",
    "    if is_prime(num):\n",
    "        # If the number is prime, add it to the prime_set\n",
    "        prime_set.add(num)\n",
    "\n",
    "    # Move on to the next number for the next iteration\n",
    "    num += 1\n",
    "\n",
    "# Print the set of prime numbers\n",
    "print(\"Set of the first 5 prime numbers:\", prime_set)"
   ]
  },
  {
   "cell_type": "markdown",
   "id": "7422c01b",
   "metadata": {},
   "source": [
    "### 22. Check if two sets are identical."
   ]
  },
  {
   "cell_type": "code",
   "execution_count": 10,
   "id": "cb1fe015",
   "metadata": {},
   "outputs": [
    {
     "name": "stdout",
     "output_type": "stream",
     "text": [
      "The sets are identical.\n"
     ]
    }
   ],
   "source": [
    "# Step 1: Define two sets\n",
    "set1 = {1, 2, 3, 4, 5}\n",
    "set2 = {3, 1, 5, 2, 4}  # The order of elements doesn't matter in sets\n",
    "\n",
    "# Step 2: Check if the sets are identical using the `==` operator\n",
    "# Sets are unordered collections, so the order of elements doesn't matter.\n",
    "# The `==` operator compares the content of the sets.\n",
    "if set1 == set2:\n",
    "    print(\"The sets are identical.\")\n",
    "else:\n",
    "    print(\"The sets are not identical.\")"
   ]
  },
  {
   "cell_type": "markdown",
   "id": "f35868b9",
   "metadata": {},
   "source": [
    "### 23. Create a frozen set"
   ]
  },
  {
   "cell_type": "code",
   "execution_count": 11,
   "id": "1f3ddfb4",
   "metadata": {},
   "outputs": [
    {
     "name": "stdout",
     "output_type": "stream",
     "text": [
      "Frozen Set: frozenset({1, 2, 3, 4, 5})\n"
     ]
    }
   ],
   "source": [
    "# Step 2: Define a list of elements that you want to include in the frozen set\n",
    "elements = [1, 2, 3, 4, 5]\n",
    "\n",
    "# Step 3: Create a frozen set using the 'frozenset' constructor and passing the list of elements\n",
    "my_frozen_set = frozenset(elements)\n",
    "\n",
    "# Step 4: Print the frozen set\n",
    "print(\"Frozen Set:\", my_frozen_set)"
   ]
  },
  {
   "cell_type": "markdown",
   "id": "10c7fa16",
   "metadata": {},
   "source": [
    "### 24. Check if a set is disjoint with another set."
   ]
  },
  {
   "cell_type": "code",
   "execution_count": 12,
   "id": "eecf540f",
   "metadata": {},
   "outputs": [
    {
     "name": "stdout",
     "output_type": "stream",
     "text": [
      "Are the sets disjoint? True\n"
     ]
    }
   ],
   "source": [
    "# Step 1: Define the two sets you want to check for disjointness\n",
    "set1 = {1, 2, 3, 4}\n",
    "set2 = {5, 6, 7, 8}\n",
    "\n",
    "# Step 2: Use the `isdisjoint()` method to check if the sets are disjoint\n",
    "# The `isdisjoint()` method returns True if the sets have no common elements,\n",
    "# and False if they have at least one common element.\n",
    "disjoint_status = set1.isdisjoint(set2)\n",
    "\n",
    "# Step 3: Print the result\n",
    "print(\"Are the sets disjoint?\", disjoint_status)"
   ]
  },
  {
   "cell_type": "markdown",
   "id": "bf977488",
   "metadata": {},
   "source": [
    "### 25. Create a set of squares of numbers from 1 to 5."
   ]
  },
  {
   "cell_type": "code",
   "execution_count": 13,
   "id": "d03e0fd3",
   "metadata": {},
   "outputs": [
    {
     "name": "stdout",
     "output_type": "stream",
     "text": [
      "{1, 4, 9, 16, 25}\n"
     ]
    }
   ],
   "source": [
    "# Step 1: Create an empty set to store the squares of numbers\n",
    "squares_set = set()\n",
    "\n",
    "# Step 2: Use a loop to iterate through numbers from 1 to 5\n",
    "for num in range(1, 6):\n",
    "    # Step 3: Calculate the square of the current number\n",
    "    square = num ** 2\n",
    "\n",
    "    # Step 4: Add the square to the set\n",
    "    squares_set.add(square)\n",
    "\n",
    "# Step 5: Print the set of squares\n",
    "print(squares_set)"
   ]
  },
  {
   "cell_type": "markdown",
   "id": "6136522a",
   "metadata": {},
   "source": [
    "### 26. Filter out all even numbers from a set."
   ]
  },
  {
   "cell_type": "code",
   "execution_count": 14,
   "id": "8c0b1024",
   "metadata": {},
   "outputs": [
    {
     "name": "stdout",
     "output_type": "stream",
     "text": [
      "Original Set: {1, 2, 3, 4, 5}\n",
      "Even Numbers Set: {2, 4}\n"
     ]
    }
   ],
   "source": [
    "# Step 1: Create a set with integers from 1 to 5\n",
    "original_set = {1, 2, 3, 4, 5}\n",
    "\n",
    "# Step 2: Initialize an empty set to store the filtered even numbers\n",
    "even_numbers_set = set()\n",
    "\n",
    "# Step 3: Iterate through each element in the original set\n",
    "for num in original_set:\n",
    "    # Step 4: Check if the current number is even (divisible by 2)\n",
    "    if num % 2 == 0:\n",
    "        # Step 5: If even, add it to the even_numbers_set\n",
    "        even_numbers_set.add(num)\n",
    "\n",
    "# Step 6: Print the original set and the set containing even numbers\n",
    "print(\"Original Set:\", original_set)\n",
    "print(\"Even Numbers Set:\", even_numbers_set)"
   ]
  },
  {
   "cell_type": "markdown",
   "id": "32cb6021",
   "metadata": {},
   "source": [
    "### 27. Multiply all elements in a set by 2."
   ]
  },
  {
   "cell_type": "code",
   "execution_count": 16,
   "id": "b3e91f76",
   "metadata": {},
   "outputs": [
    {
     "name": "stdout",
     "output_type": "stream",
     "text": [
      "Original Set: {1, 2, 3, 4, 5}\n",
      "Multiplied Set: {2, 4, 6, 8, 10}\n"
     ]
    }
   ],
   "source": [
    "# Create a set with integers from 1 to 5\n",
    "original_set = {1, 2, 3, 4, 5}\n",
    "\n",
    "# Initialize an empty set to store the multiplied elements\n",
    "multiplied_set = set(i*2 for i in original_set)\n",
    "\n",
    "\n",
    "print(\"Original Set:\", original_set)\n",
    "\n",
    "# Display the set with elements multiplied by 2\n",
    "print(\"Multiplied Set:\", multiplied_set)"
   ]
  },
  {
   "cell_type": "markdown",
   "id": "3e5d0d13",
   "metadata": {},
   "source": [
    "### 28. Create a set of random numbers."
   ]
  },
  {
   "cell_type": "code",
   "execution_count": 17,
   "id": "4b147a55",
   "metadata": {},
   "outputs": [
    {
     "name": "stdout",
     "output_type": "stream",
     "text": [
      "Generated set of random numbers: {41, 66, 100, 31}\n"
     ]
    }
   ],
   "source": [
    "# Step 1: Import the `random` module to generate random numbers\n",
    "import random\n",
    "\n",
    "# Step 2: Define the number of random numbers you want in the set\n",
    "num_random_numbers = 5\n",
    "\n",
    "# Step 3: Initialize an empty set to store the random numbers\n",
    "random_number_set = set()\n",
    "\n",
    "# Step 4: Use a loop to generate random numbers and add them to the set\n",
    "for _ in range(num_random_numbers):\n",
    "    # Generate a random integer using the `randint` function from the `random` module\n",
    "    random_num = random.randint(1, 100)  # Generate a random number between 1 and 100\n",
    "    # Add the random number to the set\n",
    "    random_number_set.add(random_num)\n",
    "\n",
    "# Step 5: Print the generated set of random numbers\n",
    "print(\"Generated set of random numbers:\", random_number_set)"
   ]
  },
  {
   "cell_type": "markdown",
   "id": "f3f526b8",
   "metadata": {},
   "source": [
    "### 29. Check if a set is empty."
   ]
  },
  {
   "cell_type": "code",
   "execution_count": 18,
   "id": "6de1e892",
   "metadata": {},
   "outputs": [
    {
     "name": "stdout",
     "output_type": "stream",
     "text": [
      "The set is empty.\n"
     ]
    }
   ],
   "source": [
    "\n",
    "my_set = set()\n",
    "\n",
    "if not my_set:\n",
    "    print(\"The set is empty.\")\n",
    "else:\n",
    "    print(\"The set is not empty.\")"
   ]
  },
  {
   "cell_type": "markdown",
   "id": "dbfe33db",
   "metadata": {},
   "source": [
    "### 30. Create a nested set (hint: use frozenset)."
   ]
  },
  {
   "cell_type": "code",
   "execution_count": 19,
   "id": "34ffa8b2",
   "metadata": {},
   "outputs": [
    {
     "name": "stdout",
     "output_type": "stream",
     "text": [
      "Nested Set: {frozenset({1, 2, 3, 4, 5}), frozenset({6, 7, 8, 9, 10})}\n"
     ]
    }
   ],
   "source": [
    "# Step 1: Create the inner sets\n",
    "set1 = {1, 2, 3, 4, 5}\n",
    "set2 = {6, 7, 8, 9, 10}\n",
    "\n",
    "# Step 2: Create frozensets from the inner sets\n",
    "frozen_set1 = frozenset(set1)\n",
    "frozen_set2 = frozenset(set2)\n",
    "\n",
    "# Step 3: Create the nested set using the frozensets\n",
    "nested_set = {frozen_set1, frozen_set2}\n",
    "\n",
    "# Print the nested set\n",
    "print(\"Nested Set:\", nested_set)"
   ]
  },
  {
   "cell_type": "markdown",
   "id": "9a9aa84f",
   "metadata": {},
   "source": [
    "### 31.  Remove an element from a set using the discard method."
   ]
  },
  {
   "cell_type": "code",
   "execution_count": 21,
   "id": "2a37c6b7",
   "metadata": {},
   "outputs": [
    {
     "name": "stdout",
     "output_type": "stream",
     "text": [
      "Initial set: {1, 2, 3, 4, 5}\n",
      "Set after removing 3 : {1, 2, 4, 5}\n"
     ]
    }
   ],
   "source": [
    "# Create a set with some elements\n",
    "my_set = {1, 2, 3, 4, 5}\n",
    "\n",
    "print(\"Initial set:\", my_set)\n",
    "\n",
    "element_to_remove = 3\n",
    "my_set.discard(element_to_remove)\n",
    "\n",
    "print(\"Set after removing\", element_to_remove, \":\", my_set)"
   ]
  },
  {
   "cell_type": "markdown",
   "id": "704d0332",
   "metadata": {},
   "source": [
    "### 32. Compare two sets."
   ]
  },
  {
   "cell_type": "code",
   "execution_count": 22,
   "id": "96f0faeb",
   "metadata": {},
   "outputs": [
    {
     "name": "stdout",
     "output_type": "stream",
     "text": [
      "Set 1: {1, 2, 3, 4, 5}\n",
      "Set 2: {4, 5, 6, 7, 8}\n",
      "Is set1 a subset of set2? False\n",
      "Is set2 a subset of set1? False\n",
      "Intersection: {4, 5}\n",
      "Union: {1, 2, 3, 4, 5, 6, 7, 8}\n",
      "Elements in set1 but not in set2: {1, 2, 3}\n",
      "Elements in set2 but not in set1: {8, 6, 7}\n"
     ]
    }
   ],
   "source": [
    "# Step 1: Define two sets\n",
    "set1 = {1, 2, 3, 4, 5}\n",
    "set2 = {4, 5, 6, 7, 8}\n",
    "\n",
    "is_subset = set1.issubset(set2)\n",
    "\n",
    "# Check if set2 is a subset of set1\n",
    "is_superset = set1.issuperset(set2)\n",
    "\n",
    "# Find the intersection of the sets\n",
    "intersection = set1.intersection(set2)\n",
    "\n",
    "# Find the union of the sets\n",
    "union = set1.union(set2)\n",
    "\n",
    "# Find the elements that are in set1 but not in set2\n",
    "difference1 = set1.difference(set2)\n",
    "\n",
    "# Find the elements that are in set2 but not in set1\n",
    "difference2 = set2.difference(set1)\n",
    "\n",
    "# Step 3: Print the results\n",
    "print(\"Set 1:\", set1)\n",
    "print(\"Set 2:\", set2)\n",
    "print(\"Is set1 a subset of set2?\", is_subset)\n",
    "print(\"Is set2 a subset of set1?\", is_superset)\n",
    "print(\"Intersection:\", intersection)\n",
    "print(\"Union:\", union)\n",
    "print(\"Elements in set1 but not in set2:\", difference1)\n",
    "print(\"Elements in set2 but not in set1:\", difference2)"
   ]
  },
  {
   "cell_type": "markdown",
   "id": "c9e355d3",
   "metadata": {},
   "source": [
    "### 33. Create a set from a string."
   ]
  },
  {
   "cell_type": "code",
   "execution_count": 23,
   "id": "fbe24195",
   "metadata": {},
   "outputs": [
    {
     "name": "stdout",
     "output_type": "stream",
     "text": [
      "{'o', 'h', 'l', 'e'}\n"
     ]
    }
   ],
   "source": [
    "\n",
    "input_string = \"hello\"\n",
    "\n",
    "\n",
    "char_set = set(input_string)\n",
    "print(char_set)"
   ]
  },
  {
   "cell_type": "markdown",
   "id": "075cafee",
   "metadata": {},
   "source": [
    "### 34. Convert a set of strings to a set of integers."
   ]
  },
  {
   "cell_type": "code",
   "execution_count": 24,
   "id": "5bad78e3",
   "metadata": {},
   "outputs": [
    {
     "name": "stdout",
     "output_type": "stream",
     "text": [
      "Original String Set: {'456', '789', '123'}\n",
      "Converted Integer Set: {456, 123, 789}\n"
     ]
    }
   ],
   "source": [
    "# Step 1: Create a set of strings\n",
    "string_set = {\"123\", \"456\", \"789\"}\n",
    "\n",
    "# Step 2: Initialize an empty set to store integers\n",
    "integer_set = set()\n",
    "\n",
    "# Step 3: Iterate through each string in the string set\n",
    "for string in string_set:\n",
    "    # Step 4: Convert the string to an integer using the int() function\n",
    "    integer_value = int(string)\n",
    "\n",
    "    # Step 5: Add the integer to the integer set\n",
    "    integer_set.add(integer_value)\n",
    "\n",
    "# Step 6: Print the original string set and the converted integer set\n",
    "print(\"Original String Set:\", string_set)\n",
    "print(\"Converted Integer Set:\", integer_set)"
   ]
  },
  {
   "cell_type": "markdown",
   "id": "c2c5b625",
   "metadata": {},
   "source": [
    "### 35. Convert a set of integers to a set of strings."
   ]
  },
  {
   "cell_type": "code",
   "execution_count": 25,
   "id": "eee4338e",
   "metadata": {},
   "outputs": [
    {
     "name": "stdout",
     "output_type": "stream",
     "text": [
      "Original integers_set: {1, 2, 3, 4, 5}\n",
      "Converted strings_set: {'1', '2', '3', '4', '5'}\n"
     ]
    }
   ],
   "source": [
    "# Step 1: Create a set of integers\n",
    "integers_set = {1, 2, 3, 4, 5}\n",
    "\n",
    "# Step 2: Initialize an empty set to store the strings\n",
    "strings_set = set()\n",
    "\n",
    "# Step 3: Iterate through each integer in the integers_set\n",
    "for num in integers_set:\n",
    "    # Step 4: Convert the integer to a string using the str() function\n",
    "    num_str = str(num)\n",
    "\n",
    "    # Step 5: Add the string representation to the strings_set\n",
    "    strings_set.add(num_str)\n",
    "\n",
    "# Step 6: Print the original integers_set and the converted strings_set\n",
    "print(\"Original integers_set:\", integers_set)\n",
    "print(\"Converted strings_set:\", strings_set)"
   ]
  },
  {
   "cell_type": "markdown",
   "id": "bb04e0b8",
   "metadata": {},
   "source": [
    "### 36. Create a set from a tuple."
   ]
  },
  {
   "cell_type": "code",
   "execution_count": 26,
   "id": "bdacc86d",
   "metadata": {},
   "outputs": [
    {
     "name": "stdout",
     "output_type": "stream",
     "text": [
      "{1, 2, 3, 4, 5}\n"
     ]
    }
   ],
   "source": [
    "# Given tuple\n",
    "input_tuple = (1, 2, 3, 2, 4, 5, 1)\n",
    "\n",
    "output_set = set(input_tuple)\n",
    "\n",
    "print(output_set)\n"
   ]
  },
  {
   "cell_type": "markdown",
   "id": "81724f85",
   "metadata": {},
   "source": [
    "### 37. Convert a set to a tuple."
   ]
  },
  {
   "cell_type": "code",
   "execution_count": 27,
   "id": "4c647c71",
   "metadata": {},
   "outputs": [
    {
     "name": "stdout",
     "output_type": "stream",
     "text": [
      "Original set: {1, 2, 3, 4, 5}\n",
      "Converted tuple: (1, 2, 3, 4, 5)\n"
     ]
    }
   ],
   "source": [
    "\n",
    "input_set = {1, 2, 3, 4, 5}\n",
    "\n",
    "output_tuple = tuple(input_set)\n",
    "\n",
    "print(\"Original set:\", input_set)\n",
    "print(\"Converted tuple:\", output_tuple)"
   ]
  },
  {
   "cell_type": "markdown",
   "id": "683e19b8",
   "metadata": {},
   "source": [
    "### 38. Find the maximum value in a set."
   ]
  },
  {
   "cell_type": "code",
   "execution_count": 28,
   "id": "1dedab53",
   "metadata": {},
   "outputs": [
    {
     "name": "stdout",
     "output_type": "stream",
     "text": [
      "Maximum value: 22\n"
     ]
    }
   ],
   "source": [
    "# Define a set with some values\n",
    "my_set = {15, 7, 22, 13, 8}\n",
    "\n",
    "# Initialize a variable to store the maximum value\n",
    "max_value = None\n",
    "\n",
    "# Iterate through each element in the set\n",
    "for num in my_set:\n",
    "    # Check if max_value is None (first iteration) or if the current number is greater than max_value\n",
    "    if max_value is None or num > max_value:\n",
    "        max_value = num  # Update max_value with the current number if it's greater\n",
    "\n",
    "# Print the maximum value\n",
    "print(\"Maximum value:\", max_value)"
   ]
  },
  {
   "cell_type": "markdown",
   "id": "72ab58f6",
   "metadata": {},
   "source": [
    "### 39. Find the minimum value in a set."
   ]
  },
  {
   "cell_type": "code",
   "execution_count": 29,
   "id": "7a3f4234",
   "metadata": {},
   "outputs": [
    {
     "name": "stdout",
     "output_type": "stream",
     "text": [
      "The minimum value in the set is: 4\n"
     ]
    }
   ],
   "source": [
    "# Create a sample set of numbers\n",
    "number_set = {15, 8, 23, 4, 42, 11}\n",
    "\n",
    "# Initialize a variable to store the minimum value\n",
    "min_value = None\n",
    "\n",
    "# Iterate through each element in the set\n",
    "for num in number_set:\n",
    "    # Check if min_value is None (first iteration) or if num is smaller than the current min_value\n",
    "    if min_value is None or num < min_value:\n",
    "        # Update min_value to the current num since it's smaller\n",
    "        min_value = num\n",
    "\n",
    "# Print the minimum value found in the set\n",
    "print(\"The minimum value in the set is:\", min_value)"
   ]
  },
  {
   "cell_type": "markdown",
   "id": "c3c95ccd",
   "metadata": {},
   "source": [
    "### 40. Create a set from user input."
   ]
  },
  {
   "cell_type": "code",
   "execution_count": 30,
   "id": "398680d0",
   "metadata": {},
   "outputs": [
    {
     "name": "stdout",
     "output_type": "stream",
     "text": [
      "Enter elements for the set (type 'done' to finish):\n",
      "Final set: {'567', 'dsvb/'}\n"
     ]
    }
   ],
   "source": [
    "# Step 1: Initialize an empty set\n",
    "user_set = set()\n",
    "\n",
    "# Step 2: Get input from the user\n",
    "print(\"Enter elements for the set (type 'done' to finish):\")\n",
    "while True:\n",
    "    user_input = input(\"> \")  # Get input from the user\n",
    "\n",
    "    if user_input.lower() == 'done':\n",
    "        break  # Exit the loop if the user enters 'done'\n",
    "\n",
    "    # Step 3: Add the user input to the set\n",
    "    user_set.add(user_input)\n",
    "\n",
    "# Step 4: Display the final set created from user input\n",
    "print(\"Final set:\", user_set)"
   ]
  },
  {
   "cell_type": "markdown",
   "id": "59dbb4af",
   "metadata": {},
   "source": [
    "### 41. Check if the intersection of two sets is empty."
   ]
  },
  {
   "cell_type": "code",
   "execution_count": 31,
   "id": "22f315da",
   "metadata": {},
   "outputs": [
    {
     "name": "stdout",
     "output_type": "stream",
     "text": [
      "The intersection of the two sets is not empty.\n"
     ]
    }
   ],
   "source": [
    "# Step 1: Define two sets\n",
    "set1 = {1, 2, 3, 4, 5}\n",
    "set2 = {4, 5, 6, 7, 8}\n",
    "\n",
    "intersection_result = set1.intersection(set2)\n",
    "if not intersection_result:\n",
    "    print(\"The intersection of the two sets is empty.\")\n",
    "else:\n",
    "    print(\"The intersection of the two sets is not empty.\")"
   ]
  },
  {
   "cell_type": "markdown",
   "id": "6e0aeb63",
   "metadata": {},
   "source": [
    "### 42. Create a set of the first 5 Fibonacci numbers."
   ]
  },
  {
   "cell_type": "code",
   "execution_count": 32,
   "id": "90f31d2e",
   "metadata": {},
   "outputs": [
    {
     "name": "stdout",
     "output_type": "stream",
     "text": [
      "Set of the first 5 Fibonacci numbers: {0, 1, 2, 3, 5}\n"
     ]
    }
   ],
   "source": [
    "# Create a set to store the first 5 Fibonacci numbers\n",
    "fibonacci_set = set()\n",
    "a, b = 0, 1\n",
    "for _ in range(6):\n",
    "   \n",
    "    fibonacci_set.add(a)\n",
    "    a, b = b, a + b\n",
    "\n",
    "print(\"Set of the first 5 Fibonacci numbers:\", fibonacci_set)"
   ]
  },
  {
   "cell_type": "markdown",
   "id": "d2c76b97",
   "metadata": {},
   "source": [
    "### 43. Remove duplicates from a list using sets."
   ]
  },
  {
   "cell_type": "code",
   "execution_count": 34,
   "id": "cbe648b0",
   "metadata": {},
   "outputs": [
    {
     "name": "stdout",
     "output_type": "stream",
     "text": [
      "Original List: [2, 4, 6, 8, 4, 10, 6, 12, 14, 8]\n",
      "List with Duplicates Removed: {2, 4, 6, 8, 10, 12, 14}\n"
     ]
    }
   ],
   "source": [
    "# Step 1: Define a list with duplicates\n",
    "original_list = [2, 4, 6, 8, 4, 10, 6, 12, 14, 8]\n",
    "unique_set = set(original_list)\n",
    "\n",
    "\n",
    "print(\"Original List:\", original_list)\n",
    "print(\"List with Duplicates Removed:\", unique_set)"
   ]
  },
  {
   "cell_type": "markdown",
   "id": "ab7f4f77",
   "metadata": {},
   "source": [
    "### 44. Check if two sets have the same elements, regardless of their count."
   ]
  },
  {
   "cell_type": "code",
   "execution_count": 35,
   "id": "56d7f6b3",
   "metadata": {},
   "outputs": [
    {
     "name": "stdout",
     "output_type": "stream",
     "text": [
      "The sets have the same elements.\n"
     ]
    }
   ],
   "source": [
    "def have_same_elements(set1, set2):\n",
    "    # Convert the sets to lists and sort them\n",
    "    sorted_list1 = sorted(list(set1))\n",
    "    sorted_list2 = sorted(list(set2))\n",
    "\n",
    "    # Compare the sorted lists to check if they are equal\n",
    "    return sorted_list1 == sorted_list2\n",
    "\n",
    "# Example sets\n",
    "set1 = {1, 2, 3, 2, 1}\n",
    "set2 = {3, 1, 2}\n",
    "\n",
    "# Check if the sets have the same elements\n",
    "result = have_same_elements(set1, set2)\n",
    "\n",
    "# Print the result\n",
    "if result:\n",
    "    print(\"The sets have the same elements.\")\n",
    "else:\n",
    "    print(\"The sets do not have the same elements.\")"
   ]
  },
  {
   "cell_type": "markdown",
   "id": "277d3213",
   "metadata": {},
   "source": [
    "### 45. Create a set of the first `n` powers of 2"
   ]
  },
  {
   "cell_type": "code",
   "execution_count": 36,
   "id": "93aa530f",
   "metadata": {},
   "outputs": [
    {
     "name": "stdout",
     "output_type": "stream",
     "text": [
      "{1, 2, 4, 8, 16}\n"
     ]
    }
   ],
   "source": [
    "def generate_powers_of_2(n):\n",
    "    # Initialize an empty set to store the powers of 2\n",
    "    powers_of_2 = set()\n",
    "\n",
    "    # Loop from 0 to n-1\n",
    "    for i in range(n):\n",
    "        # Calculate the current power of 2 using the exponentiation operator **\n",
    "        power = 2 ** i\n",
    "\n",
    "        # Add the current power of 2 to the set\n",
    "        powers_of_2.add(power)\n",
    "\n",
    "    # Return the set of powers of 2\n",
    "    return powers_of_2\n",
    "\n",
    "# Define the value of n\n",
    "n = 5\n",
    "\n",
    "# Call the function to generate the set of powers of 2\n",
    "powers_set = generate_powers_of_2(n)\n",
    "\n",
    "# Print the resulting set\n",
    "print(powers_set)"
   ]
  },
  {
   "cell_type": "markdown",
   "id": "d3863e44",
   "metadata": {},
   "source": [
    "### 46. Find the common elements between a set and a list."
   ]
  },
  {
   "cell_type": "code",
   "execution_count": 37,
   "id": "f113fdc1",
   "metadata": {},
   "outputs": [
    {
     "name": "stdout",
     "output_type": "stream",
     "text": [
      "Common elements: [7, 9, 12]\n"
     ]
    }
   ],
   "source": [
    "# Step 1: Define a set and a list\n",
    "my_set = {3, 7, 9, 12, 15}\n",
    "my_list = [7, 12, 5, 9]\n",
    "\n",
    "# Step 2: Convert the list to a set for efficient comparison\n",
    "list_to_set = set(my_list)\n",
    "\n",
    "# Step 3: Initialize an empty list to store common elements\n",
    "common_elements = []\n",
    "\n",
    "# Step 4: Iterate through the elements in the set\n",
    "for element in my_set:\n",
    "    # Step 5: Check if the element is present in the converted set (list_to_set)\n",
    "    if element in list_to_set:\n",
    "        # Step 6: If the element is present in both the set and the list, add it to the common_elements list\n",
    "        common_elements.append(element)\n",
    "\n",
    "# Step 7: Print the common elements\n",
    "print(\"Common elements:\", common_elements)"
   ]
  },
  {
   "cell_type": "markdown",
   "id": "c68fc294",
   "metadata": {},
   "source": [
    "### 47. Create a set of the first `n` triangular numbers.:\n",
    "\n",
    "Triangular numbers are a sequence of numbers that represent the number of dots in a triangular arrangement. The sequence starts with 1 and then each subsequent number is obtained by adding the next natural number.\n",
    "\n",
    "Mathematically, the $n^{th}$ triangular number, denoted as $T_n$, is given by the formula:\n",
    "\n",
    "$T_n$ $=$ $1+2+3+...+n=\\frac {n*(n + 1)}{2}$\n",
    "\n",
    "Visually, you can imagine triangular numbers by arranging dots in the shape of equilateral triangles:\n",
    "\n",
    "```\n",
    "   1       1 dot\n",
    "   1 1      3 dots\n",
    "   1 2 1     6 dots\n",
    "   1 2 3 1   10 dots\n",
    "```"
   ]
  },
  {
   "cell_type": "markdown",
   "id": "b087cc0a",
   "metadata": {},
   "source": [
    "### 48. Check if a set contains another set as a subset."
   ]
  },
  {
   "cell_type": "code",
   "execution_count": 38,
   "id": "4e4ec4f1",
   "metadata": {},
   "outputs": [
    {
     "name": "stdout",
     "output_type": "stream",
     "text": [
      "set2 is a subset of set1\n"
     ]
    }
   ],
   "source": [
    "# Define two sets\n",
    "set1 = {1, 2, 3, 4, 5}\n",
    "set2 = {3, 4}\n",
    "\n",
    "# Check if set2 is a subset of set1\n",
    "is_subset = set2.issubset(set1)\n",
    "\n",
    "# Print the result\n",
    "if is_subset:\n",
    "    print(\"set2 is a subset of set1\")\n",
    "else:\n",
    "    print(\"set2 is not a subset of set1\")"
   ]
  },
  {
   "cell_type": "markdown",
   "id": "5790e558",
   "metadata": {},
   "source": [
    "### 49. Create a set of alternating 1s and 0s of length `n`."
   ]
  },
  {
   "cell_type": "code",
   "execution_count": 40,
   "id": "fee847e6",
   "metadata": {},
   "outputs": [
    {
     "name": "stdout",
     "output_type": "stream",
     "text": [
      "{0, 1}\n"
     ]
    }
   ],
   "source": [
    "def create_alternating_set(n):\n",
    "    alternating_set = set()\n",
    "    for i in range(n):\n",
    "        \n",
    "        if i % 2 == 0:\n",
    "            alternating_set.add(1) \n",
    "        else:\n",
    "            alternating_set.add(0)  \n",
    "\n",
    "    return alternating_set\n",
    "\n",
    "\n",
    "length_n = 10\n",
    "\n",
    "# Call the function to create the alternating set of length 'length_n'.\n",
    "result = create_alternating_set(length_n)\n",
    "\n",
    "# Print the resulting set.\n",
    "print(result)"
   ]
  },
  {
   "cell_type": "markdown",
   "id": "16989203",
   "metadata": {},
   "source": [
    "### 50. Merge multiple sets into one."
   ]
  },
  {
   "cell_type": "code",
   "execution_count": 41,
   "id": "552159ec",
   "metadata": {},
   "outputs": [
    {
     "name": "stdout",
     "output_type": "stream",
     "text": [
      "Merged Set: {1, 2, 3, 4, 5, 6, 7}\n"
     ]
    }
   ],
   "source": [
    "# Step 1: Create multiple sets\n",
    "set1 = {1, 2, 3}\n",
    "set2 = {3, 4, 5}\n",
    "set3 = {5, 6, 7}\n",
    "\n",
    "# Step 2: Use the union() method to merge sets\n",
    "merged_set = set1.union(set2, set3)\n",
    "\n",
    "# Alternatively, you can use the | operator\n",
    "# merged_set = set1 | set2 | set3\n",
    "\n",
    "# Step 3: Print the merged set\n",
    "print(\"Merged Set:\", merged_set)"
   ]
  },
  {
   "cell_type": "code",
   "execution_count": null,
   "id": "0c6d2222",
   "metadata": {},
   "outputs": [],
   "source": []
  }
 ],
 "metadata": {
  "kernelspec": {
   "display_name": "Python 3 (ipykernel)",
   "language": "python",
   "name": "python3"
  },
  "language_info": {
   "codemirror_mode": {
    "name": "ipython",
    "version": 3
   },
   "file_extension": ".py",
   "mimetype": "text/x-python",
   "name": "python",
   "nbconvert_exporter": "python",
   "pygments_lexer": "ipython3",
   "version": "3.10.6"
  }
 },
 "nbformat": 4,
 "nbformat_minor": 5
}
