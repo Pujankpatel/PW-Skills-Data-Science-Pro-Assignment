{
 "cells": [
  {
   "cell_type": "markdown",
   "id": "450a763d-bf01-4bb7-be47-de9fffa094b4",
   "metadata": {},
   "source": [
    "1. Declare two variables, `x` and `y`, and assign them integer values. Swap the values of these variables without using any temporary variable.\n"
   ]
  },
  {
   "cell_type": "code",
   "execution_count": 4,
   "id": "8216f35a-1258-4921-86cb-721c454c61e9",
   "metadata": {},
   "outputs": [
    {
     "name": "stdin",
     "output_type": "stream",
     "text": [
      " 12\n",
      " 3\n"
     ]
    },
    {
     "name": "stdout",
     "output_type": "stream",
     "text": [
      "After Swapping: x = 3  y = 12\n"
     ]
    }
   ],
   "source": [
    "x=int(input())\n",
    "y=int(input())\n",
    "\n",
    "x=x+y\n",
    "y=x-y\n",
    "x=x-y;\n",
    "print(\"After Swapping: x =\", x, \" y =\", y)"
   ]
  },
  {
   "cell_type": "markdown",
   "id": "9ebc2d2e-b3b7-40a1-b353-09ec688737a0",
   "metadata": {},
   "source": [
    "2. Create a program that calculates the area of a rectangle. Take the length and width as inputs from the user and store them in variables. Calculate and display the area.\n"
   ]
  },
  {
   "cell_type": "code",
   "execution_count": 9,
   "id": "6039529b-877a-4ed7-a9e9-f8ce1e99d455",
   "metadata": {},
   "outputs": [
    {
     "name": "stdin",
     "output_type": "stream",
     "text": [
      "Enter the value of length:  23.4\n",
      "Enter the value of width:  32.5\n"
     ]
    },
    {
     "name": "stdout",
     "output_type": "stream",
     "text": [
      "Area of rectangle is  760.5\n"
     ]
    }
   ],
   "source": [
    "length=float(input(\"Enter the value of length: \"))\n",
    "width=float(input(\"Enter the value of width: \"))\n",
    "print(\"Area of rectangle is \",length*width)"
   ]
  },
  {
   "cell_type": "markdown",
   "id": "b71ce548-054d-496a-a01c-187158e90028",
   "metadata": {},
   "source": [
    "3. Write a Python program that converts temperatures from Celsius to Fahrenheit. Take the temperature in Celsius as input, store it in a variable, convert it to Fahrenheit, and display the result.\n"
   ]
  },
  {
   "cell_type": "code",
   "execution_count": 7,
   "id": "be58ad2d-60da-46dc-a58d-a7f09e5d67bd",
   "metadata": {},
   "outputs": [
    {
     "name": "stdin",
     "output_type": "stream",
     "text": [
      "Enter the temperature in Celsius:  35\n"
     ]
    },
    {
     "name": "stdout",
     "output_type": "stream",
     "text": [
      "The temperature in Fahrenheit is: 95.0\n"
     ]
    }
   ],
   "source": [
    "celsius = float(input(\"Enter the temperature in Celsius: \"))\n",
    "\n",
    "fahrenheit = (celsius * 9/5) + 32\n",
    "\n",
    "print(\"The temperature in Fahrenheit is:\", fahrenheit)"
   ]
  },
  {
   "cell_type": "code",
   "execution_count": null,
   "id": "fb35d149-7a83-4fbf-8c47-4959a5e7d739",
   "metadata": {},
   "outputs": [],
   "source": []
  },
  {
   "cell_type": "code",
   "execution_count": null,
   "id": "aa56aff5-b34e-4efe-a77a-b4264eb8aa3d",
   "metadata": {},
   "outputs": [],
   "source": []
  },
  {
   "cell_type": "code",
   "execution_count": null,
   "id": "12d9b858-53e2-4e44-82d0-fbcd4d1e79a7",
   "metadata": {},
   "outputs": [],
   "source": []
  },
  {
   "cell_type": "code",
   "execution_count": null,
   "id": "3d4a37a0-4934-4776-8392-8b01a8d79ce0",
   "metadata": {},
   "outputs": [],
   "source": []
  },
  {
   "cell_type": "markdown",
   "id": "0e52fb9c-79d4-4f95-825a-e57da4fbe7ac",
   "metadata": {},
   "source": [
    "String based questions \n",
    "1. Write a Python program that takes a string as input and prints the length of the string.\n"
   ]
  },
  {
   "cell_type": "code",
   "execution_count": 14,
   "id": "f4078d13-ef5e-4948-87ee-afccc413d8fb",
   "metadata": {},
   "outputs": [
    {
     "name": "stdin",
     "output_type": "stream",
     "text": [
      "Enter the string:  Pujan\n"
     ]
    },
    {
     "name": "stdout",
     "output_type": "stream",
     "text": [
      "The length of the string is 5\n"
     ]
    }
   ],
   "source": [
    "p=str(input(\"Enter the string: \"))\n",
    "print(\"The length of the string is\",len(p))"
   ]
  },
  {
   "cell_type": "markdown",
   "id": "c7376cb0-9628-40c5-98ff-6914d77ca538",
   "metadata": {},
   "source": [
    "2. Create a program that takes a sentence from the user and counts the number of vowels (a, e, i, o, u) in the string.\n"
   ]
  },
  {
   "cell_type": "code",
   "execution_count": 19,
   "id": "abc26636-e004-46c0-9310-36cee40033d5",
   "metadata": {},
   "outputs": [
    {
     "name": "stdin",
     "output_type": "stream",
     "text": [
      "Enter the string:  My name is pujan\n"
     ]
    },
    {
     "name": "stdout",
     "output_type": "stream",
     "text": [
      "5\n"
     ]
    }
   ],
   "source": [
    "p=str(input(\"Enter the string: \"))\n",
    "vowels = \"aeiouAEIOU\"\n",
    " \n",
    "count = sum(p.count(vowel) for vowel in vowels)\n",
    "print(count)"
   ]
  },
  {
   "cell_type": "markdown",
   "id": "a6301628-e6cf-4978-a73b-1cd82f3857e9",
   "metadata": {},
   "source": [
    "3. Given a string, reverse the order of characters using string slicing and print the reversed string.\n"
   ]
  },
  {
   "cell_type": "code",
   "execution_count": 20,
   "id": "ddb20873-3460-48b5-94db-e24f3c78f69b",
   "metadata": {},
   "outputs": [
    {
     "name": "stdin",
     "output_type": "stream",
     "text": [
      "Enter the string:  My name is pujan\n"
     ]
    },
    {
     "name": "stdout",
     "output_type": "stream",
     "text": [
      "najup si eman yM\n"
     ]
    }
   ],
   "source": [
    "p=str(input(\"Enter the string: \"))\n",
    "print(p[-1: :-1])"
   ]
  },
  {
   "cell_type": "markdown",
   "id": "5e705dd6-50ae-4b32-818a-e6ba65d58439",
   "metadata": {},
   "source": [
    "4. Write a program that takes a string as input and checks if it is a palindrome (reads the same forwards and backwards).\n"
   ]
  },
  {
   "cell_type": "code",
   "execution_count": 22,
   "id": "a2d14e0a-4386-4b7a-89a6-cf6fc6880335",
   "metadata": {},
   "outputs": [
    {
     "name": "stdin",
     "output_type": "stream",
     "text": [
      "Enter the string:  abcbfdfbcba\n"
     ]
    },
    {
     "name": "stdout",
     "output_type": "stream",
     "text": [
      "Yes\n"
     ]
    }
   ],
   "source": [
    "p=str(input(\"Enter the string: \"))\n",
    "q=p[-1: :-1]\n",
    "if(p==q):\n",
    "    print(\"Yes\")\n",
    "else:\n",
    "    print(\"No\")"
   ]
  },
  {
   "cell_type": "markdown",
   "id": "8fd9d7d0-2a6d-4a51-8dda-c2577bdd474f",
   "metadata": {},
   "source": [
    "5. Create a program that takes a string as input and removes all the spaces from it. Print the modified string without spaces."
   ]
  },
  {
   "cell_type": "code",
   "execution_count": null,
   "id": "5a60df5d-47ac-4ffe-ba4f-e94761b1ebc3",
   "metadata": {},
   "outputs": [],
   "source": []
  }
 ],
 "metadata": {
  "kernelspec": {
   "display_name": "Python 3 (ipykernel)",
   "language": "python",
   "name": "python3"
  },
  "language_info": {
   "codemirror_mode": {
    "name": "ipython",
    "version": 3
   },
   "file_extension": ".py",
   "mimetype": "text/x-python",
   "name": "python",
   "nbconvert_exporter": "python",
   "pygments_lexer": "ipython3",
   "version": "3.10.8"
  }
 },
 "nbformat": 4,
 "nbformat_minor": 5
}
